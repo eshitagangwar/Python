{
 "cells": [
  {
   "cell_type": "code",
   "execution_count": 6,
   "metadata": {},
   "outputs": [
    {
     "name": "stdout",
     "output_type": "stream",
     "text": [
      "Hello, Python Where is Anaconda?\n"
     ]
    }
   ],
   "source": [
    "x ='Hello, Python Where is Anaconda?'\n",
    "print(x)"
   ]
  },
  {
   "cell_type": "code",
   "execution_count": 2,
   "metadata": {},
   "outputs": [],
   "source": [
    "# This is comment"
   ]
  },
  {
   "cell_type": "code",
   "execution_count": 5,
   "metadata": {},
   "outputs": [
    {
     "name": "stdout",
     "output_type": "stream",
     "text": [
      "he is slepping\n"
     ]
    }
   ],
   "source": [
    "'''This is also acomment'''\n",
    "print('he is slepping')"
   ]
  },
  {
   "cell_type": "code",
   "execution_count": 9,
   "metadata": {},
   "outputs": [
    {
     "data": {
      "text/plain": [
       "str"
      ]
     },
     "execution_count": 9,
     "metadata": {},
     "output_type": "execute_result"
    }
   ],
   "source": [
    "type(x)"
   ]
  },
  {
   "cell_type": "code",
   "execution_count": 2,
   "metadata": {},
   "outputs": [
    {
     "name": "stdout",
     "output_type": "stream",
     "text": [
      "Hello anaconda \t your balance is 12345.5\n",
      "Hello 12345.5 \t your balance is anacond\n"
     ]
    }
   ],
   "source": [
    "print(\"Hello {0} \\t your balance is {1}\".format(\"anaconda\",12345.5))\n",
    "print(\"Hello {1} \\t your balance is {0}\".format(\"anacond\",12345.5))"
   ]
  },
  {
   "cell_type": "code",
   "execution_count": 24,
   "metadata": {},
   "outputs": [
    {
     "name": "stdout",
     "output_type": "stream",
     "text": [
      "Hello python \n",
      "your is 12345.5\n"
     ]
    }
   ],
   "source": [
    "print(\"Hello {0} \\nyour is {1}\".format(\"python\",12345.5))"
   ]
  },
  {
   "cell_type": "code",
   "execution_count": 20,
   "metadata": {},
   "outputs": [
    {
     "name": "stdout",
     "output_type": "stream",
     "text": [
      "3\n"
     ]
    }
   ],
   "source": [
    "a = 1\n",
    "b = 2\n",
    "print(a+b)"
   ]
  },
  {
   "cell_type": "code",
   "execution_count": 21,
   "metadata": {},
   "outputs": [
    {
     "name": "stdout",
     "output_type": "stream",
     "text": [
      "4\n",
      "31\n"
     ]
    }
   ],
   "source": [
    "a = '3'\n",
    "print(int(a)+1)\n",
    "print(a +  str(1))"
   ]
  },
  {
   "cell_type": "code",
   "execution_count": 26,
   "metadata": {},
   "outputs": [
    {
     "name": "stdout",
     "output_type": "stream",
     "text": [
      "What's your name :python\n"
     ]
    }
   ],
   "source": [
    "##### accept string as the arguement.\n",
    "name = input(\"What's your name :\")"
   ]
  },
  {
   "cell_type": "code",
   "execution_count": 29,
   "metadata": {},
   "outputs": [
    {
     "name": "stdout",
     "output_type": "stream",
     "text": [
      "what is your age22\n"
     ]
    }
   ],
   "source": [
    "age = input(\"what is your age\")"
   ]
  },
  {
   "cell_type": "code",
   "execution_count": 33,
   "metadata": {},
   "outputs": [
    {
     "name": "stdout",
     "output_type": "stream",
     "text": [
      "mass12\n",
      "force2\n",
      "24.0\n"
     ]
    }
   ],
   "source": [
    "#2. Write a python program to input mass and acceleration and compute Force \n",
    "m = float(input(\"mass\"))\n",
    "f = float(input(\"force\"))\n",
    "print(m*f)"
   ]
  },
  {
   "cell_type": "code",
   "execution_count": 4,
   "metadata": {},
   "outputs": [
    {
     "name": "stdout",
     "output_type": "stream",
     "text": [
      "temperature43\n",
      "109.4\n"
     ]
    }
   ],
   "source": [
    "#1. Write a python program to input temperature in Celsius scale and convert it to Fahrenheit scale\n",
    "m = int(input(\"temperature\"))\n",
    "try:\n",
    "    print((1.8* m) +32)\n",
    "except:\n",
    "    print(\"enter ano.\")"
   ]
  },
  {
   "cell_type": "code",
   "execution_count": 39,
   "metadata": {},
   "outputs": [
    {
     "name": "stdout",
     "output_type": "stream",
     "text": [
      "hours1\n",
      "rate1\n",
      "1.0\n"
     ]
    }
   ],
   "source": [
    "#3 .Write a program to prompt the user for hours and rate per hour to compute gross pay.\n",
    "m = float(input(\"hours\"))\n",
    "f = float(input(\"rate\"))\n",
    "print(m*f)"
   ]
  },
  {
   "cell_type": "code",
   "execution_count": 42,
   "metadata": {},
   "outputs": [
    {
     "name": "stdout",
     "output_type": "stream",
     "text": [
      "smaller\n"
     ]
    }
   ],
   "source": [
    "x = 2\n",
    "if x>10:\n",
    "    print('greater')\n",
    "else:\n",
    "    print('smaller')"
   ]
  },
  {
   "cell_type": "code",
   "execution_count": 44,
   "metadata": {},
   "outputs": [
    {
     "name": "stdout",
     "output_type": "stream",
     "text": [
      "enter a no.1\n",
      "smaller\n"
     ]
    }
   ],
   "source": [
    "x = int(input('enter a no.'))\n",
    "if x>10:\n",
    "    print('greater')\n",
    "else:\n",
    "    print('smaller')"
   ]
  },
  {
   "cell_type": "code",
   "execution_count": 80,
   "metadata": {},
   "outputs": [
    {
     "name": "stdout",
     "output_type": "stream",
     "text": [
      "enter a no.7\n",
      "no\n"
     ]
    }
   ],
   "source": [
    "x = int(input('enter a no.'))\n",
    "if (x>0 and x>10):\n",
    "    print('greater than 0 but smaller then 10')\n",
    "elif (x<0 and x>-10):\n",
    "    print('greater than -10 but smaller then 0')\n",
    "else :\n",
    "    print(\"no\")"
   ]
  },
  {
   "cell_type": "code",
   "execution_count": 81,
   "metadata": {},
   "outputs": [
    {
     "name": "stdout",
     "output_type": "stream",
     "text": [
      "Enter the digit :1222\n"
     ]
    }
   ],
   "source": [
    "x = int(input(\"Enter the digit :\"))\n",
    "if(x%4 == 0 and x%100 != 0):\n",
    "    print('leap year')\n",
    "elif(x%100 ==0):    \n",
    "        if(x%400 ==0):\n",
    "            print(\"leap year\")\n",
    "        else:\n",
    "            print(\"leap year not\")"
   ]
  },
  {
   "cell_type": "code",
   "execution_count": 84,
   "metadata": {},
   "outputs": [
    {
     "name": "stdout",
     "output_type": "stream",
     "text": [
      "hours1\n",
      "rate1\n",
      "1\n"
     ]
    }
   ],
   "source": [
    "#4. Write a program to pay 1.5 times the hourly rate for the hours worked above 40 hours else pay based on hourly pay\n",
    "#and hours worked input hourly rate and hours worked and display pay\n",
    "h = int(input(\"hours\"))\n",
    "r = int(input(\"rate\"))\n",
    "if(h > 40):\n",
    "    r = r*1.5\n",
    "print(h*r)"
   ]
  },
  {
   "cell_type": "code",
   "execution_count": 112,
   "metadata": {
    "scrolled": true
   },
   "outputs": [
    {
     "name": "stdout",
     "output_type": "stream",
     "text": [
      "hours50\n",
      "rate3\n",
      "195.0\n"
     ]
    }
   ],
   "source": [
    "#5. Rewrite your pay program using try and except so that your program handles non numeric input gracefully by printing a message and exiting the program. \n",
    "#. The following shows two executions of the program:\n",
    "#Enter Hours: 20, Enter Rate: nine\n",
    "#Error, please enter numeric input\n",
    "\n",
    "h = int(input(\"hours\"))\n",
    "r = int(input(\"rate\"))\n",
    "try:\n",
    "    if(h > 40):\n",
    "        h1 = h-40\n",
    "        r1 = r*1.5\n",
    "        print((h1*r1)+(h*r))\n",
    "    else:\n",
    "        print(h*r)\n",
    "except:\n",
    "    print(\"Enter the numeric input\")"
   ]
  },
  {
   "cell_type": "code",
   "execution_count": null,
   "metadata": {},
   "outputs": [
    {
     "name": "stdout",
     "output_type": "stream",
     "text": [
      "Enter the 80\n"
     ]
    }
   ],
   "source": [
    "#6. Write a program to prompt for a score between 0.0 and 1.0. If the score is out of range, print an error message. \n",
    "#If the score is between 0.0 and 1.0, print a grade using the following table:\n",
    "#Score   Grade\n",
    "#>= 0.9     A\n",
    "#>= 0.8     B\n",
    "#>= 0.7     C\n",
    "#>= 0.6     D\n",
    "#< 0.6      F\n",
    "#print 'Bad score' if the score is not between 0.0 and 1.0 or if the score is not numeric value entered\n",
    "\n",
    "x = input(\"Enter the \")\n",
    "try:\n",
    "    if(x<1.0 and x>0) :        \n",
    "        if(x>= 0.9 and x<1.0):                \n",
    "            print(\"A\")\n",
    "        elif(x<0.9 and x>= 0.8):\n",
    "            print(\"B\")\n",
    "        elif(x<0.8 and x>= 0.7):\n",
    "            print(\"C\")\n",
    "        elif(x<0.7 and x>= 0.6):\n",
    "            print(\"D\")\n",
    "        elif(x<0.6):\n",
    "            print(\"F\") \n",
    "    else:\n",
    "        print(\"Bad score\")\n",
    "except:\n",
    "    print(\"not a numeric\")"
   ]
  },
  {
   "cell_type": "code",
   "execution_count": null,
   "metadata": {},
   "outputs": [],
   "source": [
    "x = int(input(\"F\"))\n",
    "y = int(input(\"S\"))\n",
    "z = int(input(\"T\"))\n",
    "m =x\n",
    "if(y>m):\n",
    "    m=y\n",
    "    if(z>m):\n",
    "        m=z\n",
    "elif (z>m):\n",
    "    m=z\n",
    "print(m)   "
   ]
  },
  {
   "cell_type": "code",
   "execution_count": 3,
   "metadata": {},
   "outputs": [
    {
     "name": "stdout",
     "output_type": "stream",
     "text": [
      "F1\n",
      "S2\n",
      "T3\n",
      "3\n"
     ]
    }
   ],
   "source": [
    "x = int(input(\"F\"))\n",
    "y = int(input(\"S\"))\n",
    "z = int(input(\"T\"))\n",
    "m =x\n",
    "if(y>m):\n",
    "    m=y\n",
    "    if(z>m):\n",
    "        m=z\n",
    "elif (z>m):\n",
    "    m=z\n",
    "print(m)"
   ]
  },
  {
   "cell_type": "code",
   "execution_count": 4,
   "metadata": {},
   "outputs": [
    {
     "name": "stdout",
     "output_type": "stream",
     "text": [
      "F1\n",
      "S1\n",
      "T1\n",
      "1\n"
     ]
    }
   ],
   "source": [
    "# 7. Input 3 numbers, Write a program to find the largest of 3 numbers\n",
    "x = int(input(\"F\"))\n",
    "y = int(input(\"S\"))\n",
    "z = int(input(\"T\"))\n",
    "m =x\n",
    "if(y>m or y == m):\n",
    "    m=y\n",
    "    if(z>m):\n",
    "        m=z\n",
    "elif (z>m or z==m):\n",
    "    m=z\n",
    "else:\n",
    "    print(\"all equal\")\n",
    "print(m)   "
   ]
  },
  {
   "cell_type": "code",
   "execution_count": null,
   "metadata": {},
   "outputs": [],
   "source": []
  }
 ],
 "metadata": {
  "kernelspec": {
   "display_name": "Python 3",
   "language": "python",
   "name": "python3"
  },
  "language_info": {
   "codemirror_mode": {
    "name": "ipython",
    "version": 3
   },
   "file_extension": ".py",
   "mimetype": "text/x-python",
   "name": "python",
   "nbconvert_exporter": "python",
   "pygments_lexer": "ipython3",
   "version": "3.6.4"
  }
 },
 "nbformat": 4,
 "nbformat_minor": 2
}
