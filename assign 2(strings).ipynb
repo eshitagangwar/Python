{
 "cells": [
  {
   "cell_type": "code",
   "execution_count": 1,
   "metadata": {},
   "outputs": [],
   "source": [
    "#Write a program to build a histogram using a dictionary to count how many messages have come from each email address,\n",
    "#and print the dictionary.\n",
    "#From the above outcome print the highest from address and the lowest from address – \n",
    "#do not use any built in methods from finding the mix and max\n",
    "\n",
    "#For Every “From address” find the sum, min max, average and standard deviation of the X-DSPAM-Confidence value - \n",
    "#do not use any built in methods for computing the statistics.\n",
    "#You are allowed to use map and reduce methods for computing the statistics.\n",
    "\n",
    "#Write a program to record the domain name (domain name in abc@manipal.edu is manipal.edu) where the message was received, \n",
    "#along with the no. of emails received from the domain as a dictionary\n",
    "\n",
    "#Write a program to convert mbox.txt into a dictionary with the following keys, Every individual value should appear as a list\n",
    "#Message-ID, Mime-Version, Content-Transfer-Encoding,Date,X-Authentication-Warning,To,From,Subject,X-Content-Type-Outer-Envelope,X-Content-Type-Message-Body,Content-Type,X-DSPAM-Result,X-DSPAM-Processed,X-DSPAM-Confidence,X-DSPAM-Probability\n",
    "\n",
    "#\n",
    "#How do you sort a dictionary based on:\n",
    "#Keys\n",
    "#Values"
   ]
  },
  {
   "cell_type": "code",
   "execution_count": 11,
   "metadata": {},
   "outputs": [
    {
     "name": "stdout",
     "output_type": "stream",
     "text": [
      "46\n",
      "{'stuart.freeman@et.gatech.edu': 17, 'louis@media.berkeley.edu': 24, 'ian@caret.cam.ac.uk': 96, 'a.fish@lancaster.ac.uk': 14, 'gbhatnag@umich.edu': 3, 'ostermmg@whitman.edu': 17, 'wagnermr@iupui.edu': 44, 'gsilver@umich.edu': 28, 'gopal.ramasammycook@gmail.com': 25, 'david.horwitz@uct.ac.za': 67, 'thoppaymallika@fhda.edu': 1, 'jzaremba@unicon.net': 9, 'cwen@iupui.edu': 158, 'zach.thomas@txstate.edu': 17, 'rjlowe@iupui.edu': 90, 'gjthomas@iupui.edu': 44, 'stephen.marquard@uct.ac.za': 29, 'sgithens@caret.cam.ac.uk': 43, 'ajpoland@iupui.edu': 48, 'kimsooil@bu.edu': 14, 'ssmail@indiana.edu': 5, 'bkirschn@umich.edu': 27, 'ray@media.berkeley.edu': 32, 'jimeng@umich.edu': 93, 'hu2@iupui.edu': 7, 'josrodri@iupui.edu': 28, 'jleasia@umich.edu': 2, 'arwhyte@umich.edu': 27, 'ggolden@umich.edu': 8, 'bahollad@indiana.edu': 4, 'chmaurer@iupui.edu': 111, 'tnguyen@iupui.edu': 6, 'nuno@ufp.pt': 28, 'ktsao@stanford.edu': 12, 'mbreuker@loi.nl': 9, 'colin.clark@utoronto.ca': 1, 'mmmay@indiana.edu': 161, 'lance@indiana.edu': 8, 'antranig@caret.cam.ac.uk': 18, 'csev@umich.edu': 19, 'john.ellis@rsmart.com': 8, 'knoop@umich.edu': 5, 'dlhaines@umich.edu': 84, 'zqian@umich.edu': 195, 'aaronz@vt.edu': 110, 'jlrenfro@ucdavis.edu': 1}\n",
      "1 jlrenfro@ucdavis.edu min\n",
      "195 zqian@umich.edu max\n",
      "['thoppaymallika@fhda.edu', 'colin.clark@utoronto.ca', 'jlrenfro@ucdavis.edu'] 1\n",
      "[('colin.clark@utoronto.ca', 1), ('jlrenfro@ucdavis.edu', 1)] ('zqian@umich.edu', 195)\n"
     ]
    }
   ],
   "source": [
    "#Write a program to build a histogram using a dictionary to count how many messages have come from each email address,\n",
    "#and print the dictionary.\n",
    "#From the above outcome print the highest from address and the lowest from address – \n",
    "#do not use any built in methods from finding the mix and max\n",
    "l = []\n",
    "fhand = open(\"mbox.txt\")\n",
    "for line in fhand:\n",
    "    k=(line.startswith('From:') )\n",
    "    if(k == True):\n",
    "        sp = line.split(\"From:\")\n",
    "        sp = (sp[1].split(\" \"))\n",
    "        sp = sp[1].split(\"\\n\")\n",
    "        l.append(sp[0])\n",
    "\n",
    "p = set(l)\n",
    "#print(p)\n",
    "print(len(p))\n",
    "# frequency of each mail\n",
    "di = {}\n",
    "for t in range(len(p)):\n",
    "    count = 0\n",
    "    mail = p.pop()\n",
    "    #print(mail)\n",
    "    for line in l:\n",
    "        if( mail == line ):\n",
    "                count = count +1\n",
    "        \n",
    "    di[mail] = count\n",
    "print(di)\n",
    "max = 0\n",
    "min = 1\n",
    "num1 = \"\"\n",
    "num2 = \"\"\n",
    "ll =[]\n",
    "for m in di:\n",
    "    if min == di[m]:\n",
    "        ll.append(m)\n",
    "        \n",
    "    if min >= di[m]:\n",
    "        num1 = m\n",
    "        min = di[m]\n",
    "    if max < di[m]:\n",
    "        num2 = m\n",
    "        max = di[m]\n",
    "print(min,num1,\"min\")\n",
    "print(max,num2,\"max\")\n",
    "print(ll,min)\n",
    "\n",
    "\n",
    "#How do you sort a dictionary based on:\n",
    "#Keys\n",
    "#Values\n",
    "import operator\n",
    "sorted_x = sorted(di.items(), key=operator.itemgetter(1))\n",
    "print(sorted_x[1:3],sorted_x[-1])"
   ]
  },
  {
   "cell_type": "code",
   "execution_count": 5,
   "metadata": {},
   "outputs": [
    {
     "name": "stdout",
     "output_type": "stream",
     "text": [
      "sum 1606.7480999999987\n",
      "mean 0.8941280467445736\n"
     ]
    }
   ],
   "source": [
    "#wrong\n",
    "fhand = open(\"mbox.txt\")\n",
    "Confidence = 0\n",
    "NC = 0\n",
    "l =[]\n",
    "for line in fhand:\n",
    "    if line.startswith('X-DSPAM-Confidence:'):\n",
    "        line = line.split(\":\")\n",
    "        line[1] = line[1].split(\"\\n\")\n",
    "        l.append(float(line[1][0]))\n",
    "            \n",
    "print(\"sum\",sum(l))\n",
    "print(\"mean\",sum(l)/len(l))\n"
   ]
  },
  {
   "cell_type": "code",
   "execution_count": null,
   "metadata": {},
   "outputs": [],
   "source": [
    "#For Every “From address” find the sum, min max, average and standard deviation of the X-DSPAM-Confidence value - \n",
    "#do not use any built in methods for computing the statistics.\n",
    "#You are allowed to use map and reduce methods for computing the statistics\n",
    "#wrong\n",
    "fhand = open(\"mbox.txt\")\n",
    "l =[]\n",
    "for line in fhand:\n",
    "    if line.startswith('X-DSPAM-Confidence:'):\n",
    "        line = line.split(\":\")\n",
    "        line[1] = line[1].split(\"\\n\")\n",
    "        l.append(float(line[1][0]))\n",
    "            \n",
    "print(\"sum\",sum(l))\n",
    "print(\"mean\",sum(l)/len(l))"
   ]
  },
  {
   "cell_type": "code",
   "execution_count": 4,
   "metadata": {},
   "outputs": [
    {
     "name": "stdout",
     "output_type": "stream",
     "text": [
      "21\n",
      "dict_items([('iupui.edu', 536), ('bu.edu', 14), ('ucdavis.edu', 1), ('rsmart.com', 8), ('caret.cam.ac.uk', 157), ('utoronto.ca', 1), ('loi.nl', 9), ('gmail.com', 25), ('et.gatech.edu', 17), ('uct.ac.za', 96), ('stanford.edu', 12), ('fhda.edu', 1), ('umich.edu', 491), ('txstate.edu', 17), ('vt.edu', 110), ('indiana.edu', 178), ('ufp.pt', 28), ('whitman.edu', 17), ('media.berkeley.edu', 56), ('unicon.net', 9), ('lancaster.ac.uk', 14)])\n"
     ]
    }
   ],
   "source": [
    "#Write a program to record the domain name (domain name in abc@manipal.edu is manipal.edu) where the message was received, \n",
    "#along with the no. of emails received from the domain as a dictionary\n",
    "l = []\n",
    "fhand = open(\"mbox.txt\")\n",
    "index = 4\n",
    "for line in fhand:\n",
    "    k=(line.startswith('From:') )\n",
    "    if(k == True):\n",
    "        sp = line.split(\"@\")\n",
    "        #print(sp)\n",
    "        sp[1] = (sp[1].strip()).split(\"\\n\")\n",
    "        #print(sp[1][0])\n",
    "        l.append(sp[1][0])\n",
    "#print(l)\n",
    "p = set(l)\n",
    "di = {}\n",
    "#print(p)\n",
    "print(len(p))\n",
    "for t in range(len(p)):\n",
    "    count = 0\n",
    "    mail = p.pop()\n",
    "    \n",
    "    for line in l:\n",
    "        if( mail == line ):\n",
    "                count = count +1\n",
    "        \n",
    "    di[mail] = count\n",
    "print(di.items())\n"
   ]
  },
  {
   "cell_type": "code",
   "execution_count": 2,
   "metadata": {},
   "outputs": [],
   "source": [
    "#Write a program to convert mbox.txt into a dictionary with the following keys, Every individual value should appear as a list\n",
    "#Message-ID, Mime-Version, Content-Transfer-Encoding,Date,X-Authentication-Warning,To,From,Subject,\n",
    "#X-Content-Type-Outer-Envelope,X-Content-Type-Message-Body,Content-Type,X-DSPAM-Result,X-DSPAM-Processed,X-DSPAM-Confidence,\n",
    "#X-DSPAM-Probability\n"
   ]
  },
  {
   "cell_type": "code",
   "execution_count": 16,
   "metadata": {},
   "outputs": [
    {
     "name": "stdout",
     "output_type": "stream",
     "text": [
      "{'jimeng@umich.edu', 'ktsao@stanford.edu', 'ggolden@umich.edu', 'wagnermr@iupui.edu', 'stephen.marquard@uct.ac.za', 'colin.clark@utoronto.ca', 'gsilver@umich.edu', 'thoppaymallika@fhda.edu', 'dlhaines@umich.edu', 'arwhyte@umich.edu', 'ssmail@indiana.edu', 'cwen@iupui.edu', 'mbreuker@loi.nl', 'hu2@iupui.edu', 'aaronz@vt.edu', 'bahollad@indiana.edu', 'rjlowe@iupui.edu', 'zqian@umich.edu', 'kimsooil@bu.edu', 'knoop@umich.edu', 'ostermmg@whitman.edu', 'ajpoland@iupui.edu', 'louis@media.berkeley.edu', 'josrodri@iupui.edu', 'jzaremba@unicon.net', 'a.fish@lancaster.ac.uk', 'gjthomas@iupui.edu', 'gbhatnag@umich.edu', 'tnguyen@iupui.edu', 'gopal.ramasammycook@gmail.com', 'stuart.freeman@et.gatech.edu', 'ray@media.berkeley.edu', 'mmmay@indiana.edu', 'antranig@caret.cam.ac.uk', 'sgithens@caret.cam.ac.uk', 'nuno@ufp.pt', 'jleasia@umich.edu', 'chmaurer@iupui.edu', 'zach.thomas@txstate.edu', 'david.horwitz@uct.ac.za', 'lance@indiana.edu', 'bkirschn@umich.edu', 'john.ellis@rsmart.com', 'ian@caret.cam.ac.uk', 'csev@umich.edu', 'jlrenfro@ucdavis.edu'}\n",
      "['edu', 'edu', 'edu', 'edu', 'ac', 'ca', 'edu', 'edu', 'edu', 'edu', 'edu', 'edu', 'nl', 'edu', 'edu', 'edu', 'edu', 'edu', 'edu', 'edu', 'edu', 'edu', 'berkeley', 'edu', 'net', 'ac', 'edu', 'edu', 'edu', 'com', 'gatech', 'berkeley', 'edu', 'cam', 'cam', 'pt', 'edu', 'edu', 'edu', 'ac', 'edu', 'edu', 'com', 'cam', 'edu', 'edu']\n"
     ]
    }
   ],
   "source": [
    "import re\n",
    "l = []\n",
    "fhand = open(\"mbox.txt\")\n",
    "index = 5\n",
    "for line in fhand:\n",
    "    k=(line.startswith('From:') )\n",
    "    if(k == True):\n",
    "        sp = line.split(\"From:\")\n",
    "        sp = (sp[1].split(\" \"))\n",
    "        sp = sp[1].split(\"\\n\")\n",
    "        l.append(sp[0])\n",
    "\n",
    "p = set(l)\n",
    "print(p)\n",
    "q =  []\n",
    "for i in range(len(p)):\n",
    "    k = p.pop()\n",
    "    result=re.findall(r'@\\w+\\.(\\w+)',k)\n",
    "    q = q+result\n",
    "print (q) "
   ]
  }
 ],
 "metadata": {
  "kernelspec": {
   "display_name": "Python 3",
   "language": "python",
   "name": "python3"
  },
  "language_info": {
   "codemirror_mode": {
    "name": "ipython",
    "version": 3
   },
   "file_extension": ".py",
   "mimetype": "text/x-python",
   "name": "python",
   "nbconvert_exporter": "python",
   "pygments_lexer": "ipython3",
   "version": "3.6.4"
  }
 },
 "nbformat": 4,
 "nbformat_minor": 2
}
