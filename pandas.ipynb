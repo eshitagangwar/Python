{
 "cells": [
  {
   "cell_type": "markdown",
   "metadata": {},
   "source": [
    "# Python and Data Analysis (PANDAS)"
   ]
  },
  {
   "cell_type": "code",
   "execution_count": 1,
   "metadata": {},
   "outputs": [],
   "source": [
    "import pandas as pd\n",
    "import numpy as np"
   ]
  },
  {
   "cell_type": "code",
   "execution_count": 2,
   "metadata": {
    "scrolled": true
   },
   "outputs": [
    {
     "data": {
      "text/plain": [
       "0    4.0\n",
       "1    8.0\n",
       "2    8.1\n",
       "3   -4.0\n",
       "dtype: float64"
      ]
     },
     "execution_count": 2,
     "metadata": {},
     "output_type": "execute_result"
    }
   ],
   "source": [
    "pandas_series = pd.Series([4, 8, 8.1, -4])\n",
    "pandas_series"
   ]
  },
  {
   "cell_type": "code",
   "execution_count": 3,
   "metadata": {},
   "outputs": [
    {
     "data": {
      "text/plain": [
       "a    4.0\n",
       "c    8.0\n",
       "b    8.1\n",
       "d   -4.0\n",
       "dtype: float64"
      ]
     },
     "execution_count": 3,
     "metadata": {},
     "output_type": "execute_result"
    }
   ],
   "source": [
    "pandas_series = pd.Series([4, 8, 8.1, -4], index = [\"a\", \"c\", \"b\", \"d\"])\n",
    "pandas_series"
   ]
  },
  {
   "cell_type": "code",
   "execution_count": 4,
   "metadata": {},
   "outputs": [
    {
     "data": {
      "text/plain": [
       "8.0999999999999996"
      ]
     },
     "execution_count": 4,
     "metadata": {},
     "output_type": "execute_result"
    }
   ],
   "source": [
    "pandas_series[2]"
   ]
  },
  {
   "cell_type": "code",
   "execution_count": 5,
   "metadata": {
    "scrolled": true
   },
   "outputs": [
    {
     "data": {
      "text/plain": [
       "a    4.0\n",
       "d   -4.0\n",
       "dtype: float64"
      ]
     },
     "execution_count": 5,
     "metadata": {},
     "output_type": "execute_result"
    }
   ],
   "source": [
    "pandas_series [pandas_series < 5 ]"
   ]
  },
  {
   "cell_type": "code",
   "execution_count": 6,
   "metadata": {},
   "outputs": [
    {
     "data": {
      "text/plain": [
       "a    4.0\n",
       "c    8.0\n",
       "b    8.1\n",
       "dtype: float64"
      ]
     },
     "execution_count": 6,
     "metadata": {},
     "output_type": "execute_result"
    }
   ],
   "source": [
    "pandas_series[pandas_series > 0]"
   ]
  },
  {
   "cell_type": "code",
   "execution_count": 4,
   "metadata": {},
   "outputs": [
    {
     "data": {
      "text/plain": [
       "a    [hi, hello]\n",
       "b            5.4\n",
       "c           -9.4\n",
       "d             12\n",
       "dtype: object"
      ]
     },
     "execution_count": 4,
     "metadata": {},
     "output_type": "execute_result"
    }
   ],
   "source": [
    "panda_series = pd.Series([[\"hi\",\"hello\"],5.4,-9.4,12],index = [\"a\",\"b\",\"c\",\"d\"])\n",
    "panda_series"
   ]
  },
  {
   "cell_type": "code",
   "execution_count": 5,
   "metadata": {},
   "outputs": [
    {
     "data": {
      "text/plain": [
       "['hi', 'hello']"
      ]
     },
     "execution_count": 5,
     "metadata": {},
     "output_type": "execute_result"
    }
   ],
   "source": [
    "panda_series.a"
   ]
  },
  {
   "cell_type": "code",
   "execution_count": 6,
   "metadata": {},
   "outputs": [
    {
     "name": "stdout",
     "output_type": "stream",
     "text": [
      "a        [hi, Hello]\n",
      "b    [5.4, 7.5, 6.2]\n",
      "c               -9.4\n",
      "d                 12\n",
      "dtype: object\n"
     ]
    }
   ],
   "source": [
    "#series from dictionary\n",
    "\n",
    "dictionary = {\"a\":[\"hi\",\"Hello\"],\"b\":[5.4,7.5,6.2],\"c\":-9.4,\"d\":12}\n",
    "s=pd.Series(dictionary)\n",
    "print(s)"
   ]
  },
  {
   "cell_type": "code",
   "execution_count": 14,
   "metadata": {
    "scrolled": true
   },
   "outputs": [
    {
     "data": {
      "text/html": [
       "<div>\n",
       "<style>\n",
       "    .dataframe thead tr:only-child th {\n",
       "        text-align: right;\n",
       "    }\n",
       "\n",
       "    .dataframe thead th {\n",
       "        text-align: left;\n",
       "    }\n",
       "\n",
       "    .dataframe tbody tr th {\n",
       "        vertical-align: top;\n",
       "    }\n",
       "</style>\n",
       "<table border=\"1\" class=\"dataframe\">\n",
       "  <thead>\n",
       "    <tr style=\"text-align: right;\">\n",
       "      <th></th>\n",
       "      <th>date</th>\n",
       "      <th>global_temp</th>\n",
       "    </tr>\n",
       "  </thead>\n",
       "  <tbody>\n",
       "    <tr>\n",
       "      <th>0</th>\n",
       "      <td>December,2014</td>\n",
       "      <td>0.87</td>\n",
       "    </tr>\n",
       "    <tr>\n",
       "      <th>1</th>\n",
       "      <td>December, 2013</td>\n",
       "      <td>0.74</td>\n",
       "    </tr>\n",
       "    <tr>\n",
       "      <th>2</th>\n",
       "      <td>December, 2012</td>\n",
       "      <td>0.65</td>\n",
       "    </tr>\n",
       "    <tr>\n",
       "      <th>3</th>\n",
       "      <td>December,2011</td>\n",
       "      <td>0.63</td>\n",
       "    </tr>\n",
       "  </tbody>\n",
       "</table>\n",
       "</div>"
      ],
      "text/plain": [
       "             date  global_temp\n",
       "0   December,2014         0.87\n",
       "1  December, 2013         0.74\n",
       "2  December, 2012         0.65\n",
       "3   December,2011         0.63"
      ]
     },
     "execution_count": 14,
     "metadata": {},
     "output_type": "execute_result"
    }
   ],
   "source": [
    "data = {\"date\" : [ \"December,2014\", \"December, 2013\",\n",
    "                  \"December, 2012\",\"December,2011\"],\n",
    "        \"global_temp\": [0.87,0.74,0.65,0.63]\n",
    "       }\n",
    "dataframe = pd.DataFrame(data)\n",
    "dataframe"
   ]
  },
  {
   "cell_type": "code",
   "execution_count": 19,
   "metadata": {},
   "outputs": [
    {
     "data": {
      "text/html": [
       "<div>\n",
       "<style>\n",
       "    .dataframe thead tr:only-child th {\n",
       "        text-align: right;\n",
       "    }\n",
       "\n",
       "    .dataframe thead th {\n",
       "        text-align: left;\n",
       "    }\n",
       "\n",
       "    .dataframe tbody tr th {\n",
       "        vertical-align: top;\n",
       "    }\n",
       "</style>\n",
       "<table border=\"1\" class=\"dataframe\">\n",
       "  <thead>\n",
       "    <tr style=\"text-align: right;\">\n",
       "      <th></th>\n",
       "      <th>global_temp</th>\n",
       "      <th>date</th>\n",
       "    </tr>\n",
       "  </thead>\n",
       "  <tbody>\n",
       "    <tr>\n",
       "      <th>0</th>\n",
       "      <td>0.87</td>\n",
       "      <td>December,2014</td>\n",
       "    </tr>\n",
       "    <tr>\n",
       "      <th>1</th>\n",
       "      <td>0.74</td>\n",
       "      <td>December, 2013</td>\n",
       "    </tr>\n",
       "    <tr>\n",
       "      <th>2</th>\n",
       "      <td>0.65</td>\n",
       "      <td>December, 2012</td>\n",
       "    </tr>\n",
       "    <tr>\n",
       "      <th>3</th>\n",
       "      <td>0.63</td>\n",
       "      <td>December,2011</td>\n",
       "    </tr>\n",
       "  </tbody>\n",
       "</table>\n",
       "</div>"
      ],
      "text/plain": [
       "   global_temp            date\n",
       "0         0.87   December,2014\n",
       "1         0.74  December, 2013\n",
       "2         0.65  December, 2012\n",
       "3         0.63   December,2011"
      ]
     },
     "execution_count": 19,
     "metadata": {},
     "output_type": "execute_result"
    }
   ],
   "source": [
    "pd.DataFrame(dataframe,columns = [\"global_temp\",\"date\"])"
   ]
  },
  {
   "cell_type": "code",
   "execution_count": 15,
   "metadata": {},
   "outputs": [
    {
     "name": "stdout",
     "output_type": "stream",
     "text": [
      "0     December,2014\n",
      "1    December, 2013\n",
      "2    December, 2012\n",
      "3     December,2011\n",
      "Name: date, dtype: object\n",
      "0     December,2014\n",
      "1    December, 2013\n",
      "2    December, 2012\n",
      "3     December,2011\n",
      "Name: date, dtype: object\n"
     ]
    }
   ],
   "source": [
    "print(dataframe.date)\n",
    "print(dataframe['date'])"
   ]
  },
  {
   "cell_type": "code",
   "execution_count": 16,
   "metadata": {},
   "outputs": [
    {
     "data": {
      "text/plain": [
       "array(['December,2014', 'December, 2013', 'December, 2012', 'December,2011'], dtype=object)"
      ]
     },
     "execution_count": 16,
     "metadata": {},
     "output_type": "execute_result"
    }
   ],
   "source": [
    "dataframe['date'].values"
   ]
  },
  {
   "cell_type": "code",
   "execution_count": 17,
   "metadata": {
    "collapsed": true
   },
   "outputs": [],
   "source": [
    "#Dataframe : viewing Data.\n",
    "\n",
    "dataframe = pd.DataFrame(np.random.randn(20, 5), \n",
    "                         columns = ['A', 'B', 'C', 'D', 'E'])"
   ]
  },
  {
   "cell_type": "code",
   "execution_count": 18,
   "metadata": {
    "scrolled": false
   },
   "outputs": [
    {
     "name": "stdout",
     "output_type": "stream",
     "text": [
      "          A         B         C         D         E\n",
      "0  1.147973  1.264467  1.384800 -0.940340 -0.293729\n",
      "1 -2.595585  0.937161 -0.553825 -1.495732 -2.281464\n",
      "2 -0.675270 -1.016064  1.124503 -0.043086 -0.664418\n",
      "3  0.380692 -1.266137  1.620486  1.183465 -1.050535\n",
      "4 -0.341020 -1.159042 -0.482472  0.088432  2.876943\n"
     ]
    }
   ],
   "source": [
    "print(dataframe.head())"
   ]
  },
  {
   "cell_type": "code",
   "execution_count": 19,
   "metadata": {},
   "outputs": [
    {
     "name": "stdout",
     "output_type": "stream",
     "text": [
      "           A         B         C         D         E\n",
      "18 -0.055697  1.269716  1.118617  0.379113  0.461052\n",
      "19 -0.321136  0.528848  1.091655  0.045777 -0.973728\n"
     ]
    }
   ],
   "source": [
    "print(dataframe.tail(n = 2))"
   ]
  },
  {
   "cell_type": "code",
   "execution_count": 20,
   "metadata": {},
   "outputs": [
    {
     "name": "stdout",
     "output_type": "stream",
     "text": [
      "               A          B          C          D          E\n",
      "count  20.000000  20.000000  20.000000  20.000000  20.000000\n",
      "mean   -0.001832   0.140460   0.331478   0.210704  -0.100675\n",
      "std     1.012826   1.158359   0.912573   0.858145   1.114303\n",
      "min    -2.595585  -2.177228  -1.386466  -1.495732  -2.281464\n",
      "25%    -0.450780  -0.801425  -0.259930  -0.353139  -0.737819\n",
      "50%    -0.196527   0.466423   0.187848   0.156936  -0.226178\n",
      "75%     0.550029   1.241010   1.098395   1.064040   0.448230\n",
      "max     1.664746   1.769536   1.620486   1.622692   2.876943\n"
     ]
    }
   ],
   "source": [
    "print(dataframe.describe())"
   ]
  },
  {
   "cell_type": "code",
   "execution_count": 21,
   "metadata": {
    "scrolled": true
   },
   "outputs": [
    {
     "name": "stdout",
     "output_type": "stream",
     "text": [
      "           A         B         C         D         E\n",
      "9   1.058041  1.233191 -1.386466 -0.741651 -1.316402\n",
      "5   1.664746 -0.609835 -1.338195  1.033351 -0.958019\n",
      "1  -2.595585  0.937161 -0.553825 -1.495732 -2.281464\n",
      "4  -0.341020 -1.159042 -0.482472  0.088432  2.876943\n",
      "14 -0.318083  1.769536 -0.477364 -0.329887 -0.096212\n"
     ]
    }
   ],
   "source": [
    "print(dataframe.sort_values(by='C').head())"
   ]
  },
  {
   "cell_type": "code",
   "execution_count": 17,
   "metadata": {
    "scrolled": false
   },
   "outputs": [
    {
     "name": "stdout",
     "output_type": "stream",
     "text": [
      "           A         B         C         D         E\n",
      "19  0.356689  0.729589 -1.996340 -1.460250 -1.224428\n",
      "18  0.477116  0.467094  0.750811 -0.314363 -0.061238\n",
      "17 -0.037065  0.202186 -0.592227  0.142119 -0.356635\n",
      "16  0.714330 -0.027779 -0.483000  1.589747  0.937058\n",
      "15  0.406458 -0.598635 -0.521593  0.220173 -0.319628\n"
     ]
    }
   ],
   "source": [
    "print(dataframe.sort_index(ascending = False).head())"
   ]
  },
  {
   "cell_type": "code",
   "execution_count": 5,
   "metadata": {
    "scrolled": false
   },
   "outputs": [
    {
     "name": "stdout",
     "output_type": "stream",
     "text": [
      "0    1.449468\n",
      "1    0.449642\n",
      "2   -0.447878\n",
      "3   -0.357037\n",
      "4    0.061078\n",
      "Name: A, dtype: float64\n"
     ]
    }
   ],
   "source": [
    "print(dataframe['A'].head())"
   ]
  },
  {
   "cell_type": "code",
   "execution_count": 4,
   "metadata": {
    "scrolled": false
   },
   "outputs": [
    {
     "name": "stdout",
     "output_type": "stream",
     "text": [
      "          A         B         C         D         E\n",
      "1  0.449642 -0.370049 -2.083164  0.028875 -0.973921\n",
      "2 -0.447878  0.163164  1.547500  0.961028 -0.169222\n",
      "3 -0.357037 -1.012916 -0.835160 -1.095091  0.178336\n"
     ]
    }
   ],
   "source": [
    "print(dataframe[1:4])"
   ]
  },
  {
   "cell_type": "code",
   "execution_count": 73,
   "metadata": {},
   "outputs": [
    {
     "name": "stdout",
     "output_type": "stream",
     "text": [
      "          A         B         C\n",
      "0  0.603915  0.544760  1.127070\n",
      "1 -1.005300 -0.802737 -0.159041\n",
      "2 -0.401276 -0.037106  0.350671\n",
      "3 -1.039700 -0.728051  0.868975\n"
     ]
    }
   ],
   "source": [
    "#Print first 4 rows of columns A, B, c\n",
    "print(dataframe[0:4][['A','B','C']])"
   ]
  },
  {
   "cell_type": "code",
   "execution_count": 80,
   "metadata": {},
   "outputs": [
    {
     "name": "stdout",
     "output_type": "stream",
     "text": [
      "          A         B\n",
      "0  0.603915  0.544760\n",
      "1 -1.005300 -0.802737\n",
      "2 -0.401276 -0.037106\n",
      "3 -1.039700 -0.728051\n",
      "4  0.210097 -1.062780\n"
     ]
    }
   ],
   "source": [
    "print(dataframe[['A', 'B']].head())"
   ]
  },
  {
   "cell_type": "code",
   "execution_count": 22,
   "metadata": {},
   "outputs": [
    {
     "name": "stdout",
     "output_type": "stream",
     "text": [
      "    A   B    C\n",
      "aa  4  10  100\n",
      "aa  5  20   50\n",
      "bb  6  30  -30\n",
      "cc  7  40  -50\n"
     ]
    }
   ],
   "source": [
    "#loc, iloc & ix\n",
    "df = pd.DataFrame({'A' : [4,5,6,7],\n",
    "                   'B' : [10,20,30,40],\n",
    "                   'C' : [100,50,-30,-50]})\n",
    "df.index = ['aa', 'aa', 'bb', 'cc']\n",
    "print(df)"
   ]
  },
  {
   "cell_type": "code",
   "execution_count": 25,
   "metadata": {},
   "outputs": [
    {
     "name": "stdout",
     "output_type": "stream",
     "text": [
      "    A   B    C\n",
      "aa  4  10  100\n",
      "aa  5  20   50\n",
      "    A   B    C\n",
      "aa  4  10  100\n",
      "aa  5  20   50\n",
      "bb  6  30  -30\n"
     ]
    }
   ],
   "source": [
    "# label based indexing. \n",
    "# loc[label of the row as a list , label of the column as a list]\n",
    "print(df.loc['aa'])\n",
    "\n",
    "#to print the rows indexed as aa and bb\n",
    "print(df.loc[['aa','bb']])          "
   ]
  },
  {
   "cell_type": "code",
   "execution_count": 43,
   "metadata": {},
   "outputs": [
    {
     "name": "stdout",
     "output_type": "stream",
     "text": [
      "    A   B\n",
      "aa  4  10\n",
      "aa  5  20\n"
     ]
    }
   ],
   "source": [
    "print(df.loc['aa', ['A', 'B']])"
   ]
  },
  {
   "cell_type": "code",
   "execution_count": 31,
   "metadata": {},
   "outputs": [
    {
     "name": "stdout",
     "output_type": "stream",
     "text": [
      "    A   B    C\n",
      "aa  4  10  100\n",
      "aa  5  20   50\n",
      "bb  6  30  -30\n"
     ]
    }
   ],
   "source": [
    "# positional indexing\n",
    "print df.iloc[0:3]"
   ]
  },
  {
   "cell_type": "code",
   "execution_count": 48,
   "metadata": {},
   "outputs": [
    {
     "name": "stdout",
     "output_type": "stream",
     "text": [
      "A     6\n",
      "B    30\n",
      "Name: bb, dtype: int64\n"
     ]
    }
   ],
   "source": [
    "print(df.iloc[2, [0, 1]])"
   ]
  },
  {
   "cell_type": "code",
   "execution_count": 23,
   "metadata": {},
   "outputs": [
    {
     "name": "stderr",
     "output_type": "stream",
     "text": [
      "/usr/local/anaconda3/lib/python3.6/site-packages/ipykernel_launcher.py:1: DeprecationWarning: \n",
      ".ix is deprecated. Please use\n",
      ".loc for label based indexing or\n",
      ".iloc for positional indexing\n",
      "\n",
      "See the documentation here:\n",
      "http://pandas.pydata.org/pandas-docs/stable/indexing.html#ix-indexer-is-deprecated\n",
      "  \"\"\"Entry point for launching an IPython kernel.\n"
     ]
    },
    {
     "data": {
      "text/plain": [
       "5"
      ]
     },
     "execution_count": 23,
     "metadata": {},
     "output_type": "execute_result"
    }
   ],
   "source": [
    " df.ix[1, 'A']"
   ]
  },
  {
   "cell_type": "code",
   "execution_count": 22,
   "metadata": {},
   "outputs": [
    {
     "name": "stdout",
     "output_type": "stream",
     "text": [
      "    A   B    C\n",
      "aa  4  10  100\n",
      "aa  5  20   50\n"
     ]
    }
   ],
   "source": [
    "print(df.ix['aa', :3])"
   ]
  },
  {
   "cell_type": "code",
   "execution_count": 29,
   "metadata": {},
   "outputs": [
    {
     "name": "stdout",
     "output_type": "stream",
     "text": [
      "           A         B         C         D         E\n",
      "0   2.062576  0.008351  0.085366  0.299988  1.297569\n",
      "1   0.494296  0.222253 -0.418268  1.277968 -0.129569\n",
      "2  -2.896461  0.556212  0.176990 -1.442846 -1.116734\n",
      "3   0.416558 -0.651394 -0.286093 -0.743699 -0.407437\n",
      "4   0.702190 -0.391104 -0.550280  0.503863 -0.318028\n",
      "5  -0.715626 -0.420611  0.307323 -0.281851  0.406419\n",
      "6  -0.208246  0.213427  0.449067  1.482499 -0.203684\n",
      "7  -0.802773  0.567220  0.946325 -0.566234 -2.863966\n",
      "8   1.287846 -0.734271 -1.312391  0.007253 -1.121040\n",
      "9  -1.319795  0.180368  1.231052 -0.426861  1.156916\n",
      "10  0.197411  1.609137 -0.209491  2.791311 -1.437933\n",
      "11  1.169508  0.753125 -0.472129  1.068601 -0.163895\n",
      "12  0.331397 -0.820568 -0.319576 -0.664542 -0.317090\n",
      "13 -0.178663  1.274224 -0.395883 -0.929472 -0.495399\n",
      "14 -0.230191 -0.325361 -1.276624  1.765187 -0.276244\n",
      "15  0.399531 -0.236239  0.635263  1.643993  0.821918\n",
      "16 -2.004361 -0.209580 -1.853213 -1.020907 -0.137431\n",
      "17  0.073863  1.231451  1.633076 -0.063793  0.308319\n",
      "18  1.109830 -0.145981  1.268979 -0.129083  0.008609\n",
      "19 -0.964409 -0.790305 -1.613416 -0.566349  0.548833\n"
     ]
    }
   ],
   "source": [
    "print(dataframe)"
   ]
  },
  {
   "cell_type": "code",
   "execution_count": 23,
   "metadata": {},
   "outputs": [
    {
     "name": "stdout",
     "output_type": "stream",
     "text": [
      "          A         B         D\n",
      "1  0.968925  2.224586 -0.784100\n",
      "3 -1.601025 -1.217159  1.510624\n",
      "5  0.246302  0.621415 -0.340311\n",
      "7  0.302048 -0.134779 -2.350390\n"
     ]
    },
    {
     "name": "stderr",
     "output_type": "stream",
     "text": [
      "/usr/local/anaconda3/lib/python3.6/site-packages/ipykernel_launcher.py:3: DeprecationWarning: \n",
      ".ix is deprecated. Please use\n",
      ".loc for label based indexing or\n",
      ".iloc for positional indexing\n",
      "\n",
      "See the documentation here:\n",
      "http://pandas.pydata.org/pandas-docs/stable/indexing.html#ix-indexer-is-deprecated\n",
      "  This is separate from the ipykernel package so we can avoid doing imports until\n"
     ]
    }
   ],
   "source": [
    "#print 1,3,5,7 rows of columns A, B and D\n",
    "print(dataframe.ix[[1,3,5,7],['A','B','D']])"
   ]
  },
  {
   "cell_type": "code",
   "execution_count": 31,
   "metadata": {},
   "outputs": [
    {
     "data": {
      "text/html": [
       "<div>\n",
       "<style>\n",
       "    .dataframe thead tr:only-child th {\n",
       "        text-align: right;\n",
       "    }\n",
       "\n",
       "    .dataframe thead th {\n",
       "        text-align: left;\n",
       "    }\n",
       "\n",
       "    .dataframe tbody tr th {\n",
       "        vertical-align: top;\n",
       "    }\n",
       "</style>\n",
       "<table border=\"1\" class=\"dataframe\">\n",
       "  <thead>\n",
       "    <tr style=\"text-align: right;\">\n",
       "      <th></th>\n",
       "      <th>A</th>\n",
       "      <th>B</th>\n",
       "    </tr>\n",
       "  </thead>\n",
       "  <tbody>\n",
       "    <tr>\n",
       "      <th>aa</th>\n",
       "      <td>5</td>\n",
       "      <td>20</td>\n",
       "    </tr>\n",
       "    <tr>\n",
       "      <th>bb</th>\n",
       "      <td>6</td>\n",
       "      <td>30</td>\n",
       "    </tr>\n",
       "    <tr>\n",
       "      <th>cc</th>\n",
       "      <td>7</td>\n",
       "      <td>40</td>\n",
       "    </tr>\n",
       "  </tbody>\n",
       "</table>\n",
       "</div>"
      ],
      "text/plain": [
       "    A   B\n",
       "aa  5  20\n",
       "bb  6  30\n",
       "cc  7  40"
      ]
     },
     "execution_count": 31,
     "metadata": {},
     "output_type": "execute_result"
    }
   ],
   "source": [
    "# Fetch A and B columns of the df for all A values >= 5\n",
    "df[df.A>=5][['A','B']] # or df[df[A]>=5][['A','B']] "
   ]
  },
  {
   "cell_type": "code",
   "execution_count": 96,
   "metadata": {},
   "outputs": [
    {
     "data": {
      "text/html": [
       "<div>\n",
       "<style>\n",
       "    .dataframe thead tr:only-child th {\n",
       "        text-align: right;\n",
       "    }\n",
       "\n",
       "    .dataframe thead th {\n",
       "        text-align: left;\n",
       "    }\n",
       "\n",
       "    .dataframe tbody tr th {\n",
       "        vertical-align: top;\n",
       "    }\n",
       "</style>\n",
       "<table border=\"1\" class=\"dataframe\">\n",
       "  <thead>\n",
       "    <tr style=\"text-align: right;\">\n",
       "      <th></th>\n",
       "      <th>A</th>\n",
       "      <th>B</th>\n",
       "    </tr>\n",
       "  </thead>\n",
       "  <tbody>\n",
       "    <tr>\n",
       "      <th>bb</th>\n",
       "      <td>6</td>\n",
       "      <td>30</td>\n",
       "    </tr>\n",
       "    <tr>\n",
       "      <th>cc</th>\n",
       "      <td>7</td>\n",
       "      <td>40</td>\n",
       "    </tr>\n",
       "  </tbody>\n",
       "</table>\n",
       "</div>"
      ],
      "text/plain": [
       "    A   B\n",
       "bb  6  30\n",
       "cc  7  40"
      ]
     },
     "execution_count": 96,
     "metadata": {},
     "output_type": "execute_result"
    }
   ],
   "source": [
    "# Print all A vlaues and B Values for which A>=5 and B>20\n",
    "df[(df.A>=5) & (df.B>20)][['A','B']] # or df[df[A]>=5][['A','B']] "
   ]
  },
  {
   "cell_type": "code",
   "execution_count": 137,
   "metadata": {
    "collapsed": true
   },
   "outputs": [],
   "source": [
    "# merging datasets"
   ]
  },
  {
   "cell_type": "code",
   "execution_count": 24,
   "metadata": {},
   "outputs": [
    {
     "name": "stdout",
     "output_type": "stream",
     "text": [
      "df1: \n",
      "  key  val1\n",
      "0   a     1\n",
      "1   b     2\n",
      "2   e     9\n",
      "3   f    10\n",
      "df2\n",
      "  key  val2\n",
      "0   a     4\n",
      "1   b     5\n",
      "2   c     6\n",
      "3   d     7\n"
     ]
    }
   ],
   "source": [
    "df1  = pd.DataFrame({'key': ['a', 'b','e','f'], 'val1': [1, 2,9,10]})\n",
    "df2 = pd.DataFrame({'key': ['a', 'b','c','d'], 'val2': [4, 5,6,7]})\n",
    "\n",
    "print(\"df1: \")\n",
    "print(df1)\n",
    "\n",
    "print(\"df2\")\n",
    "print(df2)"
   ]
  },
  {
   "cell_type": "code",
   "execution_count": 25,
   "metadata": {},
   "outputs": [
    {
     "name": "stdout",
     "output_type": "stream",
     "text": [
      "  key  val1  val2\n",
      "0   a     1     4\n",
      "1   b     2     5\n"
     ]
    }
   ],
   "source": [
    "print(pd.merge(df1, df2, on = 'key'))"
   ]
  },
  {
   "cell_type": "code",
   "execution_count": 26,
   "metadata": {},
   "outputs": [
    {
     "data": {
      "text/html": [
       "<div>\n",
       "<style>\n",
       "    .dataframe thead tr:only-child th {\n",
       "        text-align: right;\n",
       "    }\n",
       "\n",
       "    .dataframe thead th {\n",
       "        text-align: left;\n",
       "    }\n",
       "\n",
       "    .dataframe tbody tr th {\n",
       "        vertical-align: top;\n",
       "    }\n",
       "</style>\n",
       "<table border=\"1\" class=\"dataframe\">\n",
       "  <thead>\n",
       "    <tr style=\"text-align: right;\">\n",
       "      <th></th>\n",
       "      <th>key</th>\n",
       "      <th>val1</th>\n",
       "      <th>val2</th>\n",
       "    </tr>\n",
       "  </thead>\n",
       "  <tbody>\n",
       "    <tr>\n",
       "      <th>0</th>\n",
       "      <td>a</td>\n",
       "      <td>1.0</td>\n",
       "      <td>4.0</td>\n",
       "    </tr>\n",
       "    <tr>\n",
       "      <th>1</th>\n",
       "      <td>b</td>\n",
       "      <td>2.0</td>\n",
       "      <td>5.0</td>\n",
       "    </tr>\n",
       "    <tr>\n",
       "      <th>2</th>\n",
       "      <td>e</td>\n",
       "      <td>9.0</td>\n",
       "      <td>NaN</td>\n",
       "    </tr>\n",
       "    <tr>\n",
       "      <th>3</th>\n",
       "      <td>f</td>\n",
       "      <td>10.0</td>\n",
       "      <td>NaN</td>\n",
       "    </tr>\n",
       "    <tr>\n",
       "      <th>4</th>\n",
       "      <td>c</td>\n",
       "      <td>NaN</td>\n",
       "      <td>6.0</td>\n",
       "    </tr>\n",
       "    <tr>\n",
       "      <th>5</th>\n",
       "      <td>d</td>\n",
       "      <td>NaN</td>\n",
       "      <td>7.0</td>\n",
       "    </tr>\n",
       "  </tbody>\n",
       "</table>\n",
       "</div>"
      ],
      "text/plain": [
       "  key  val1  val2\n",
       "0   a   1.0   4.0\n",
       "1   b   2.0   5.0\n",
       "2   e   9.0   NaN\n",
       "3   f  10.0   NaN\n",
       "4   c   NaN   6.0\n",
       "5   d   NaN   7.0"
      ]
     },
     "execution_count": 26,
     "metadata": {},
     "output_type": "execute_result"
    }
   ],
   "source": [
    "pd.merge(df1,df2, left_on='key', right_on='key', how='outer')"
   ]
  },
  {
   "cell_type": "code",
   "execution_count": 57,
   "metadata": {},
   "outputs": [
    {
     "data": {
      "text/html": [
       "<div>\n",
       "<style>\n",
       "    .dataframe thead tr:only-child th {\n",
       "        text-align: right;\n",
       "    }\n",
       "\n",
       "    .dataframe thead th {\n",
       "        text-align: left;\n",
       "    }\n",
       "\n",
       "    .dataframe tbody tr th {\n",
       "        vertical-align: top;\n",
       "    }\n",
       "</style>\n",
       "<table border=\"1\" class=\"dataframe\">\n",
       "  <thead>\n",
       "    <tr style=\"text-align: right;\">\n",
       "      <th></th>\n",
       "      <th>key</th>\n",
       "      <th>val1</th>\n",
       "      <th>val2</th>\n",
       "    </tr>\n",
       "  </thead>\n",
       "  <tbody>\n",
       "    <tr>\n",
       "      <th>0</th>\n",
       "      <td>a</td>\n",
       "      <td>1</td>\n",
       "      <td>4.0</td>\n",
       "    </tr>\n",
       "    <tr>\n",
       "      <th>1</th>\n",
       "      <td>b</td>\n",
       "      <td>2</td>\n",
       "      <td>5.0</td>\n",
       "    </tr>\n",
       "    <tr>\n",
       "      <th>2</th>\n",
       "      <td>e</td>\n",
       "      <td>9</td>\n",
       "      <td>NaN</td>\n",
       "    </tr>\n",
       "    <tr>\n",
       "      <th>3</th>\n",
       "      <td>f</td>\n",
       "      <td>10</td>\n",
       "      <td>NaN</td>\n",
       "    </tr>\n",
       "  </tbody>\n",
       "</table>\n",
       "</div>"
      ],
      "text/plain": [
       "  key  val1  val2\n",
       "0   a     1   4.0\n",
       "1   b     2   5.0\n",
       "2   e     9   NaN\n",
       "3   f    10   NaN"
      ]
     },
     "execution_count": 57,
     "metadata": {},
     "output_type": "execute_result"
    }
   ],
   "source": [
    "pd.merge(df1,df2, left_on='key', right_on='key', how='left')"
   ]
  },
  {
   "cell_type": "code",
   "execution_count": 58,
   "metadata": {},
   "outputs": [
    {
     "data": {
      "text/html": [
       "<div>\n",
       "<style>\n",
       "    .dataframe thead tr:only-child th {\n",
       "        text-align: right;\n",
       "    }\n",
       "\n",
       "    .dataframe thead th {\n",
       "        text-align: left;\n",
       "    }\n",
       "\n",
       "    .dataframe tbody tr th {\n",
       "        vertical-align: top;\n",
       "    }\n",
       "</style>\n",
       "<table border=\"1\" class=\"dataframe\">\n",
       "  <thead>\n",
       "    <tr style=\"text-align: right;\">\n",
       "      <th></th>\n",
       "      <th>key</th>\n",
       "      <th>val1</th>\n",
       "      <th>val2</th>\n",
       "    </tr>\n",
       "  </thead>\n",
       "  <tbody>\n",
       "    <tr>\n",
       "      <th>0</th>\n",
       "      <td>a</td>\n",
       "      <td>1.0</td>\n",
       "      <td>4</td>\n",
       "    </tr>\n",
       "    <tr>\n",
       "      <th>1</th>\n",
       "      <td>b</td>\n",
       "      <td>2.0</td>\n",
       "      <td>5</td>\n",
       "    </tr>\n",
       "    <tr>\n",
       "      <th>2</th>\n",
       "      <td>c</td>\n",
       "      <td>NaN</td>\n",
       "      <td>6</td>\n",
       "    </tr>\n",
       "    <tr>\n",
       "      <th>3</th>\n",
       "      <td>d</td>\n",
       "      <td>NaN</td>\n",
       "      <td>7</td>\n",
       "    </tr>\n",
       "  </tbody>\n",
       "</table>\n",
       "</div>"
      ],
      "text/plain": [
       "  key  val1  val2\n",
       "0   a   1.0     4\n",
       "1   b   2.0     5\n",
       "2   c   NaN     6\n",
       "3   d   NaN     7"
      ]
     },
     "execution_count": 58,
     "metadata": {},
     "output_type": "execute_result"
    }
   ],
   "source": [
    "pd.merge(df1,df2, left_on='key', right_on='key', how='right')"
   ]
  },
  {
   "cell_type": "code",
   "execution_count": 62,
   "metadata": {},
   "outputs": [
    {
     "data": {
      "text/html": [
       "<div>\n",
       "<style>\n",
       "    .dataframe thead tr:only-child th {\n",
       "        text-align: right;\n",
       "    }\n",
       "\n",
       "    .dataframe thead th {\n",
       "        text-align: left;\n",
       "    }\n",
       "\n",
       "    .dataframe tbody tr th {\n",
       "        vertical-align: top;\n",
       "    }\n",
       "</style>\n",
       "<table border=\"1\" class=\"dataframe\">\n",
       "  <thead>\n",
       "    <tr style=\"text-align: right;\">\n",
       "      <th></th>\n",
       "      <th>key</th>\n",
       "      <th>val1</th>\n",
       "      <th>val2</th>\n",
       "    </tr>\n",
       "  </thead>\n",
       "  <tbody>\n",
       "    <tr>\n",
       "      <th>0</th>\n",
       "      <td>a</td>\n",
       "      <td>1.0</td>\n",
       "      <td>NaN</td>\n",
       "    </tr>\n",
       "    <tr>\n",
       "      <th>1</th>\n",
       "      <td>b</td>\n",
       "      <td>2.0</td>\n",
       "      <td>NaN</td>\n",
       "    </tr>\n",
       "    <tr>\n",
       "      <th>2</th>\n",
       "      <td>e</td>\n",
       "      <td>9.0</td>\n",
       "      <td>NaN</td>\n",
       "    </tr>\n",
       "    <tr>\n",
       "      <th>3</th>\n",
       "      <td>f</td>\n",
       "      <td>10.0</td>\n",
       "      <td>NaN</td>\n",
       "    </tr>\n",
       "    <tr>\n",
       "      <th>0</th>\n",
       "      <td>a</td>\n",
       "      <td>NaN</td>\n",
       "      <td>4.0</td>\n",
       "    </tr>\n",
       "    <tr>\n",
       "      <th>1</th>\n",
       "      <td>b</td>\n",
       "      <td>NaN</td>\n",
       "      <td>5.0</td>\n",
       "    </tr>\n",
       "    <tr>\n",
       "      <th>2</th>\n",
       "      <td>c</td>\n",
       "      <td>NaN</td>\n",
       "      <td>6.0</td>\n",
       "    </tr>\n",
       "    <tr>\n",
       "      <th>3</th>\n",
       "      <td>d</td>\n",
       "      <td>NaN</td>\n",
       "      <td>7.0</td>\n",
       "    </tr>\n",
       "  </tbody>\n",
       "</table>\n",
       "</div>"
      ],
      "text/plain": [
       "  key  val1  val2\n",
       "0   a   1.0   NaN\n",
       "1   b   2.0   NaN\n",
       "2   e   9.0   NaN\n",
       "3   f  10.0   NaN\n",
       "0   a   NaN   4.0\n",
       "1   b   NaN   5.0\n",
       "2   c   NaN   6.0\n",
       "3   d   NaN   7.0"
      ]
     },
     "execution_count": 62,
     "metadata": {},
     "output_type": "execute_result"
    }
   ],
   "source": [
    "pd.concat([df1, df2], axis = 0)"
   ]
  },
  {
   "cell_type": "code",
   "execution_count": 27,
   "metadata": {},
   "outputs": [
    {
     "data": {
      "text/html": [
       "<div>\n",
       "<style>\n",
       "    .dataframe thead tr:only-child th {\n",
       "        text-align: right;\n",
       "    }\n",
       "\n",
       "    .dataframe thead th {\n",
       "        text-align: left;\n",
       "    }\n",
       "\n",
       "    .dataframe tbody tr th {\n",
       "        vertical-align: top;\n",
       "    }\n",
       "</style>\n",
       "<table border=\"1\" class=\"dataframe\">\n",
       "  <thead>\n",
       "    <tr style=\"text-align: right;\">\n",
       "      <th></th>\n",
       "      <th>key</th>\n",
       "      <th>val1</th>\n",
       "      <th>key</th>\n",
       "      <th>val2</th>\n",
       "    </tr>\n",
       "  </thead>\n",
       "  <tbody>\n",
       "    <tr>\n",
       "      <th>0</th>\n",
       "      <td>a</td>\n",
       "      <td>1</td>\n",
       "      <td>a</td>\n",
       "      <td>4</td>\n",
       "    </tr>\n",
       "    <tr>\n",
       "      <th>1</th>\n",
       "      <td>b</td>\n",
       "      <td>2</td>\n",
       "      <td>b</td>\n",
       "      <td>5</td>\n",
       "    </tr>\n",
       "    <tr>\n",
       "      <th>2</th>\n",
       "      <td>e</td>\n",
       "      <td>9</td>\n",
       "      <td>c</td>\n",
       "      <td>6</td>\n",
       "    </tr>\n",
       "    <tr>\n",
       "      <th>3</th>\n",
       "      <td>f</td>\n",
       "      <td>10</td>\n",
       "      <td>d</td>\n",
       "      <td>7</td>\n",
       "    </tr>\n",
       "  </tbody>\n",
       "</table>\n",
       "</div>"
      ],
      "text/plain": [
       "  key  val1 key  val2\n",
       "0   a     1   a     4\n",
       "1   b     2   b     5\n",
       "2   e     9   c     6\n",
       "3   f    10   d     7"
      ]
     },
     "execution_count": 27,
     "metadata": {},
     "output_type": "execute_result"
    }
   ],
   "source": [
    "pd.concat([df1, df2], axis = 1)"
   ]
  },
  {
   "cell_type": "code",
   "execution_count": 152,
   "metadata": {
    "collapsed": true
   },
   "outputs": [],
   "source": [
    "# reshaping data : Data wrangling"
   ]
  },
  {
   "cell_type": "code",
   "execution_count": 29,
   "metadata": {},
   "outputs": [
    {
     "name": "stdout",
     "output_type": "stream",
     "text": [
      "  Country  GDPpC  Year\n",
      "0      IN     83  1960\n",
      "1      IN    114  1970\n",
      "2      IN    375  1990\n",
      "3      SL    143  1960\n",
      "4      SL    183  1970\n",
      "5      SL    472  1990\n"
     ]
    }
   ],
   "source": [
    "long_data = pd.DataFrame({'Country': ['IN', 'IN', 'IN', 'SL', 'SL', 'SL'],\n",
    "                         'Year':[1960, 1970, 1990,1960, 1970, 1990  ],\n",
    "                         'GDPpC': [83, 114, 375, 143, 183,472]})\n",
    "print(long_data)"
   ]
  },
  {
   "cell_type": "code",
   "execution_count": 31,
   "metadata": {},
   "outputs": [
    {
     "name": "stdout",
     "output_type": "stream",
     "text": [
      "Year     1960  1970  1990\n",
      "Country                  \n",
      "IN         83   114   375\n",
      "SL        143   183   472\n"
     ]
    }
   ],
   "source": [
    "print(long_data.pivot('Country', 'Year', 'GDPpC'))"
   ]
  },
  {
   "cell_type": "code",
   "execution_count": 164,
   "metadata": {
    "collapsed": true
   },
   "outputs": [],
   "source": [
    "# replacing values. "
   ]
  },
  {
   "cell_type": "code",
   "execution_count": 166,
   "metadata": {},
   "outputs": [
    {
     "name": "stdout",
     "output_type": "stream",
     "text": [
      "0      1.0\n",
      "1   -999.0\n",
      "2      0.5\n",
      "3      0.4\n",
      "dtype: float64\n"
     ]
    }
   ],
   "source": [
    "data = pd.Series([1, -999, 0.5,  0.4])\n",
    "print data"
   ]
  },
  {
   "cell_type": "code",
   "execution_count": 169,
   "metadata": {},
   "outputs": [
    {
     "data": {
      "text/plain": [
       "0    1.0\n",
       "1    0.0\n",
       "2    0.5\n",
       "3    0.4\n",
       "dtype: float64"
      ]
     },
     "execution_count": 169,
     "metadata": {},
     "output_type": "execute_result"
    }
   ],
   "source": [
    "data.replace(-999, 0)"
   ]
  },
  {
   "cell_type": "code",
   "execution_count": 172,
   "metadata": {},
   "outputs": [
    {
     "data": {
      "text/plain": [
       "0    1.0\n",
       "2    0.5\n",
       "3    0.4\n",
       "dtype: float64"
      ]
     },
     "execution_count": 172,
     "metadata": {},
     "output_type": "execute_result"
    }
   ],
   "source": [
    "data[ data > -999]"
   ]
  },
  {
   "cell_type": "code",
   "execution_count": 177,
   "metadata": {
    "collapsed": true
   },
   "outputs": [],
   "source": [
    "# group by demo! "
   ]
  },
  {
   "cell_type": "code",
   "execution_count": 33,
   "metadata": {},
   "outputs": [
    {
     "data": {
      "text/html": [
       "<div>\n",
       "<style>\n",
       "    .dataframe thead tr:only-child th {\n",
       "        text-align: right;\n",
       "    }\n",
       "\n",
       "    .dataframe thead th {\n",
       "        text-align: left;\n",
       "    }\n",
       "\n",
       "    .dataframe tbody tr th {\n",
       "        vertical-align: top;\n",
       "    }\n",
       "</style>\n",
       "<table border=\"1\" class=\"dataframe\">\n",
       "  <thead>\n",
       "    <tr style=\"text-align: right;\">\n",
       "      <th></th>\n",
       "      <th>group</th>\n",
       "      <th>group_Name</th>\n",
       "      <th>value1</th>\n",
       "      <th>value2</th>\n",
       "    </tr>\n",
       "  </thead>\n",
       "  <tbody>\n",
       "    <tr>\n",
       "      <th>0</th>\n",
       "      <td>a</td>\n",
       "      <td>Marker</td>\n",
       "      <td>12</td>\n",
       "      <td>120</td>\n",
       "    </tr>\n",
       "    <tr>\n",
       "      <th>1</th>\n",
       "      <td>a</td>\n",
       "      <td>Marker</td>\n",
       "      <td>10</td>\n",
       "      <td>100</td>\n",
       "    </tr>\n",
       "    <tr>\n",
       "      <th>2</th>\n",
       "      <td>b</td>\n",
       "      <td>Projector</td>\n",
       "      <td>3</td>\n",
       "      <td>30</td>\n",
       "    </tr>\n",
       "    <tr>\n",
       "      <th>3</th>\n",
       "      <td>b</td>\n",
       "      <td>Projector</td>\n",
       "      <td>6</td>\n",
       "      <td>60</td>\n",
       "    </tr>\n",
       "  </tbody>\n",
       "</table>\n",
       "</div>"
      ],
      "text/plain": [
       "  group group_Name  value1  value2\n",
       "0     a     Marker      12     120\n",
       "1     a     Marker      10     100\n",
       "2     b  Projector       3      30\n",
       "3     b  Projector       6      60"
      ]
     },
     "execution_count": 33,
     "metadata": {},
     "output_type": "execute_result"
    }
   ],
   "source": [
    "df = pd.DataFrame({'group': ['a', 'a', 'b', 'b'],\n",
    "                   'group_Name': ['Marker', 'Marker', 'Projector', 'Projector'],\n",
    "                         'value1':[12, 10, 3, 6],\n",
    "                         'value2':[120, 100, 30, 60]})\n",
    "df"
   ]
  },
  {
   "cell_type": "code",
   "execution_count": 34,
   "metadata": {},
   "outputs": [
    {
     "name": "stdout",
     "output_type": "stream",
     "text": [
      "<pandas.core.groupby.DataFrameGroupBy object at 0x1072f1f60>\n"
     ]
    }
   ],
   "source": [
    "grouped = df.groupby('group')\n",
    "print(grouped)"
   ]
  },
  {
   "cell_type": "code",
   "execution_count": 35,
   "metadata": {},
   "outputs": [
    {
     "name": "stdout",
     "output_type": "stream",
     "text": [
      "       value1  value2\n",
      "group                \n",
      "a        11.0   110.0\n",
      "b         4.5    45.0\n"
     ]
    }
   ],
   "source": [
    "print(grouped.mean())"
   ]
  },
  {
   "cell_type": "code",
   "execution_count": 36,
   "metadata": {},
   "outputs": [
    {
     "data": {
      "text/html": [
       "<div>\n",
       "<style>\n",
       "    .dataframe thead tr:only-child th {\n",
       "        text-align: right;\n",
       "    }\n",
       "\n",
       "    .dataframe thead th {\n",
       "        text-align: left;\n",
       "    }\n",
       "\n",
       "    .dataframe tbody tr th {\n",
       "        vertical-align: top;\n",
       "    }\n",
       "</style>\n",
       "<table border=\"1\" class=\"dataframe\">\n",
       "  <thead>\n",
       "    <tr style=\"text-align: right;\">\n",
       "      <th></th>\n",
       "      <th></th>\n",
       "      <th>value1</th>\n",
       "      <th>value2</th>\n",
       "    </tr>\n",
       "    <tr>\n",
       "      <th>group</th>\n",
       "      <th>group_Name</th>\n",
       "      <th></th>\n",
       "      <th></th>\n",
       "    </tr>\n",
       "  </thead>\n",
       "  <tbody>\n",
       "    <tr>\n",
       "      <th>a</th>\n",
       "      <th>Marker</th>\n",
       "      <td>22</td>\n",
       "      <td>110</td>\n",
       "    </tr>\n",
       "    <tr>\n",
       "      <th>b</th>\n",
       "      <th>Projector</th>\n",
       "      <td>9</td>\n",
       "      <td>45</td>\n",
       "    </tr>\n",
       "  </tbody>\n",
       "</table>\n",
       "</div>"
      ],
      "text/plain": [
       "                  value1  value2\n",
       "group group_Name                \n",
       "a     Marker          22     110\n",
       "b     Projector        9      45"
      ]
     },
     "execution_count": 36,
     "metadata": {},
     "output_type": "execute_result"
    }
   ],
   "source": [
    "df. groupby(['group','group_Name']).agg({'value1':np.sum, 'value2':np.mean})"
   ]
  },
  {
   "cell_type": "code",
   "execution_count": 61,
   "metadata": {},
   "outputs": [
    {
     "data": {
      "text/plain": [
       "group\n",
       "a    11.0\n",
       "b     4.5\n",
       "Name: value1, dtype: float64"
      ]
     },
     "execution_count": 61,
     "metadata": {},
     "output_type": "execute_result"
    }
   ],
   "source": [
    "dataframe.groupby('group')['value1'].mean()"
   ]
  },
  {
   "cell_type": "code",
   "execution_count": 38,
   "metadata": {},
   "outputs": [
    {
     "name": "stdout",
     "output_type": "stream",
     "text": [
      "       value1  value2\n",
      "group                \n",
      "a          22     220\n",
      "b           9      90\n"
     ]
    }
   ],
   "source": [
    "print(grouped.sum())"
   ]
  },
  {
   "cell_type": "code",
   "execution_count": 40,
   "metadata": {},
   "outputs": [
    {
     "name": "stdout",
     "output_type": "stream",
     "text": [
      "       value1  value2\n",
      "group                \n",
      "a        11.0   110.0\n",
      "b         4.5    45.0\n"
     ]
    }
   ],
   "source": [
    "print(grouped.apply(np.mean))"
   ]
  },
  {
   "cell_type": "code",
   "execution_count": null,
   "metadata": {
    "collapsed": true
   },
   "outputs": [],
   "source": [
    "## apply working on dataframes directly. "
   ]
  },
  {
   "cell_type": "code",
   "execution_count": 41,
   "metadata": {},
   "outputs": [
    {
     "data": {
      "text/html": [
       "<div>\n",
       "<style>\n",
       "    .dataframe thead tr:only-child th {\n",
       "        text-align: right;\n",
       "    }\n",
       "\n",
       "    .dataframe thead th {\n",
       "        text-align: left;\n",
       "    }\n",
       "\n",
       "    .dataframe tbody tr th {\n",
       "        vertical-align: top;\n",
       "    }\n",
       "</style>\n",
       "<table border=\"1\" class=\"dataframe\">\n",
       "  <thead>\n",
       "    <tr style=\"text-align: right;\">\n",
       "      <th></th>\n",
       "      <th>0</th>\n",
       "      <th>1</th>\n",
       "      <th>2</th>\n",
       "      <th>3</th>\n",
       "    </tr>\n",
       "  </thead>\n",
       "  <tbody>\n",
       "    <tr>\n",
       "      <th>0</th>\n",
       "      <td>-0.776108</td>\n",
       "      <td>-0.835603</td>\n",
       "      <td>0.051129</td>\n",
       "      <td>-0.158974</td>\n",
       "    </tr>\n",
       "    <tr>\n",
       "      <th>1</th>\n",
       "      <td>-1.448146</td>\n",
       "      <td>1.216997</td>\n",
       "      <td>1.450648</td>\n",
       "      <td>0.296552</td>\n",
       "    </tr>\n",
       "    <tr>\n",
       "      <th>2</th>\n",
       "      <td>0.798010</td>\n",
       "      <td>-0.236493</td>\n",
       "      <td>-0.054415</td>\n",
       "      <td>-1.425435</td>\n",
       "    </tr>\n",
       "    <tr>\n",
       "      <th>3</th>\n",
       "      <td>0.918327</td>\n",
       "      <td>-1.258397</td>\n",
       "      <td>-1.948334</td>\n",
       "      <td>-0.911928</td>\n",
       "    </tr>\n",
       "    <tr>\n",
       "      <th>4</th>\n",
       "      <td>-1.729486</td>\n",
       "      <td>1.182310</td>\n",
       "      <td>-0.763175</td>\n",
       "      <td>-0.877269</td>\n",
       "    </tr>\n",
       "    <tr>\n",
       "      <th>5</th>\n",
       "      <td>0.392319</td>\n",
       "      <td>1.295492</td>\n",
       "      <td>-0.982638</td>\n",
       "      <td>0.384082</td>\n",
       "    </tr>\n",
       "    <tr>\n",
       "      <th>6</th>\n",
       "      <td>-0.615735</td>\n",
       "      <td>0.509905</td>\n",
       "      <td>-0.540204</td>\n",
       "      <td>-0.510870</td>\n",
       "    </tr>\n",
       "    <tr>\n",
       "      <th>7</th>\n",
       "      <td>-0.118467</td>\n",
       "      <td>-0.790262</td>\n",
       "      <td>0.616349</td>\n",
       "      <td>0.523249</td>\n",
       "    </tr>\n",
       "    <tr>\n",
       "      <th>8</th>\n",
       "      <td>0.301386</td>\n",
       "      <td>0.137754</td>\n",
       "      <td>0.008990</td>\n",
       "      <td>0.366122</td>\n",
       "    </tr>\n",
       "    <tr>\n",
       "      <th>9</th>\n",
       "      <td>1.041135</td>\n",
       "      <td>-0.174503</td>\n",
       "      <td>0.117034</td>\n",
       "      <td>-0.195712</td>\n",
       "    </tr>\n",
       "    <tr>\n",
       "      <th>10</th>\n",
       "      <td>0.973210</td>\n",
       "      <td>-1.545134</td>\n",
       "      <td>-0.325351</td>\n",
       "      <td>-0.875710</td>\n",
       "    </tr>\n",
       "    <tr>\n",
       "      <th>11</th>\n",
       "      <td>-1.503038</td>\n",
       "      <td>0.111339</td>\n",
       "      <td>0.277320</td>\n",
       "      <td>-1.407121</td>\n",
       "    </tr>\n",
       "    <tr>\n",
       "      <th>12</th>\n",
       "      <td>-0.150754</td>\n",
       "      <td>-0.470049</td>\n",
       "      <td>-0.995660</td>\n",
       "      <td>0.648144</td>\n",
       "    </tr>\n",
       "    <tr>\n",
       "      <th>13</th>\n",
       "      <td>-0.589530</td>\n",
       "      <td>-0.565054</td>\n",
       "      <td>-0.493958</td>\n",
       "      <td>0.158802</td>\n",
       "    </tr>\n",
       "    <tr>\n",
       "      <th>14</th>\n",
       "      <td>-0.113123</td>\n",
       "      <td>-0.022858</td>\n",
       "      <td>1.399416</td>\n",
       "      <td>0.019113</td>\n",
       "    </tr>\n",
       "    <tr>\n",
       "      <th>15</th>\n",
       "      <td>0.178034</td>\n",
       "      <td>1.780376</td>\n",
       "      <td>-0.982997</td>\n",
       "      <td>-0.019635</td>\n",
       "    </tr>\n",
       "    <tr>\n",
       "      <th>16</th>\n",
       "      <td>0.022060</td>\n",
       "      <td>0.985993</td>\n",
       "      <td>1.118971</td>\n",
       "      <td>-1.192186</td>\n",
       "    </tr>\n",
       "    <tr>\n",
       "      <th>17</th>\n",
       "      <td>-0.072720</td>\n",
       "      <td>-0.284867</td>\n",
       "      <td>-0.582906</td>\n",
       "      <td>0.876773</td>\n",
       "    </tr>\n",
       "    <tr>\n",
       "      <th>18</th>\n",
       "      <td>-0.608632</td>\n",
       "      <td>1.223222</td>\n",
       "      <td>-0.696666</td>\n",
       "      <td>-1.362425</td>\n",
       "    </tr>\n",
       "    <tr>\n",
       "      <th>19</th>\n",
       "      <td>0.070070</td>\n",
       "      <td>0.486307</td>\n",
       "      <td>0.638978</td>\n",
       "      <td>1.567232</td>\n",
       "    </tr>\n",
       "  </tbody>\n",
       "</table>\n",
       "</div>"
      ],
      "text/plain": [
       "           0         1         2         3\n",
       "0  -0.776108 -0.835603  0.051129 -0.158974\n",
       "1  -1.448146  1.216997  1.450648  0.296552\n",
       "2   0.798010 -0.236493 -0.054415 -1.425435\n",
       "3   0.918327 -1.258397 -1.948334 -0.911928\n",
       "4  -1.729486  1.182310 -0.763175 -0.877269\n",
       "5   0.392319  1.295492 -0.982638  0.384082\n",
       "6  -0.615735  0.509905 -0.540204 -0.510870\n",
       "7  -0.118467 -0.790262  0.616349  0.523249\n",
       "8   0.301386  0.137754  0.008990  0.366122\n",
       "9   1.041135 -0.174503  0.117034 -0.195712\n",
       "10  0.973210 -1.545134 -0.325351 -0.875710\n",
       "11 -1.503038  0.111339  0.277320 -1.407121\n",
       "12 -0.150754 -0.470049 -0.995660  0.648144\n",
       "13 -0.589530 -0.565054 -0.493958  0.158802\n",
       "14 -0.113123 -0.022858  1.399416  0.019113\n",
       "15  0.178034  1.780376 -0.982997 -0.019635\n",
       "16  0.022060  0.985993  1.118971 -1.192186\n",
       "17 -0.072720 -0.284867 -0.582906  0.876773\n",
       "18 -0.608632  1.223222 -0.696666 -1.362425\n",
       "19  0.070070  0.486307  0.638978  1.567232"
      ]
     },
     "execution_count": 41,
     "metadata": {},
     "output_type": "execute_result"
    }
   ],
   "source": [
    "dataframe =  pd.DataFrame(np.random.randn(20, 4))\n",
    "dataframe"
   ]
  },
  {
   "cell_type": "code",
   "execution_count": 42,
   "metadata": {},
   "outputs": [
    {
     "data": {
      "text/plain": [
       "0    -0.429889\n",
       "1     0.379013\n",
       "2    -0.229583\n",
       "3    -0.800083\n",
       "4    -0.546905\n",
       "5     0.272314\n",
       "6    -0.289226\n",
       "7     0.057717\n",
       "8     0.203563\n",
       "9     0.196988\n",
       "10   -0.443246\n",
       "11   -0.630375\n",
       "12   -0.242080\n",
       "13   -0.372435\n",
       "14    0.320637\n",
       "15    0.238944\n",
       "16    0.233709\n",
       "17   -0.015930\n",
       "18   -0.361125\n",
       "19    0.690647\n",
       "dtype: float64"
      ]
     },
     "execution_count": 42,
     "metadata": {},
     "output_type": "execute_result"
    }
   ],
   "source": [
    "#Compute mean of every row\n",
    "dataframe.apply(np.mean, axis = 1 )"
   ]
  },
  {
   "cell_type": "code",
   "execution_count": 43,
   "metadata": {},
   "outputs": [
    {
     "data": {
      "text/plain": [
       "0   -0.151559\n",
       "1    0.137324\n",
       "2   -0.134373\n",
       "3   -0.204860\n",
       "dtype: float64"
      ]
     },
     "execution_count": 43,
     "metadata": {},
     "output_type": "execute_result"
    }
   ],
   "source": [
    "#Copute mean of every column \n",
    "dataframe.apply(np.mean, axis = 0)"
   ]
  },
  {
   "cell_type": "code",
   "execution_count": 232,
   "metadata": {
    "collapsed": true
   },
   "outputs": [],
   "source": [
    "## lambda operators. \n"
   ]
  },
  {
   "cell_type": "code",
   "execution_count": 235,
   "metadata": {},
   "outputs": [
    {
     "data": {
      "text/plain": [
       "6"
      ]
     },
     "execution_count": 235,
     "metadata": {},
     "output_type": "execute_result"
    }
   ],
   "source": [
    "f = lambda x, y: x + y\n",
    "f(1, 5)"
   ]
  },
  {
   "cell_type": "code",
   "execution_count": 46,
   "metadata": {},
   "outputs": [
    {
     "name": "stdout",
     "output_type": "stream",
     "text": [
      "           0         1         2         3\n",
      "0  -0.346219 -0.405714  0.481018  0.270915\n",
      "1  -1.827159  0.837984  1.071635 -0.082461\n",
      "2   1.027593 -0.006910  0.175168 -1.195852\n",
      "3   1.718410 -0.458314 -1.148251 -0.111845\n",
      "4  -1.182581  1.729215 -0.216270 -0.330364\n",
      "5   0.120005  1.023178 -1.254952  0.111768\n",
      "6  -0.326509  0.799131 -0.250978 -0.221644\n",
      "7  -0.176184 -0.847979  0.558631  0.465532\n",
      "8   0.097823 -0.065809 -0.194573  0.162559\n",
      "9   0.844146 -0.371492 -0.079954 -0.392700\n",
      "10  1.416456 -1.101888  0.117895 -0.432464\n",
      "11 -0.872663  0.741714  0.907695 -0.776746\n",
      "12  0.091326 -0.227969 -0.753581  0.890224\n",
      "13 -0.217095 -0.192619 -0.121523  0.531237\n",
      "14 -0.433760 -0.343495  1.078779 -0.301524\n",
      "15 -0.060910  1.541431 -1.221942 -0.258579\n",
      "16 -0.211650  0.752284  0.885261 -1.425895\n",
      "17 -0.056790 -0.268937 -0.566976  0.892703\n",
      "18 -0.247507  1.584347 -0.335541 -1.001299\n",
      "19 -0.620577 -0.204340 -0.051669  0.876586\n"
     ]
    }
   ],
   "source": [
    "print(dataframe.apply(lambda x : (x - np.mean(x)), axis = 1))"
   ]
  }
 ],
 "metadata": {
  "anaconda-cloud": {},
  "kernelspec": {
   "display_name": "Python 3",
   "language": "python",
   "name": "python3"
  },
  "language_info": {
   "codemirror_mode": {
    "name": "ipython",
    "version": 3
   },
   "file_extension": ".py",
   "mimetype": "text/x-python",
   "name": "python",
   "nbconvert_exporter": "python",
   "pygments_lexer": "ipython3",
   "version": "3.6.4"
  }
 },
 "nbformat": 4,
 "nbformat_minor": 1
}
