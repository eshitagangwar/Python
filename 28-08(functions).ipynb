{
 "cells": [
  {
   "cell_type": "code",
   "execution_count": 35,
   "metadata": {},
   "outputs": [
    {
     "data": {
      "text/plain": [
       "'\\nsorting algorithm :\\nassumption : first element is smallest\\n1 comparison with each element (to violate the assumption)\\n2 if any other small element found then replace the elements position\\n\\neg. : 10 , 4 , 5, 75, 90            10\\n       *\\n       4,10 , 5 ,75 ,90           10 -> 4  , 10 min \\n          *\\n        4,5,10,75,90               10 ->5  , 10 min\\n            *\\n        4,5,10,75,90                          75 min\\n                *\\n        4,5,10,75,90                          75 min\\n        \\n'"
      ]
     },
     "execution_count": 35,
     "metadata": {},
     "output_type": "execute_result"
    }
   ],
   "source": [
    "'''\n",
    "python uses quick sort\n",
    "                                      sorting algorithm :\n",
    "assumption -> first element is smallest\n",
    "1 comparison with each element (to violate the assumption)\n",
    "2 if any other small element found then replace the elements position\n",
    "\n",
    "eg. : 10 , 4 , 5, 75, 90            10\n",
    "       *\n",
    "       4,10 , 5 ,75 ,90           10 -> 4  , 10 min \n",
    "          *\n",
    "        4,5,10,75,90               10 ->5  , 10 min\n",
    "            *\n",
    "        4,5,10,75,90                          75 min\n",
    "                *\n",
    "        4,5,10,75,90                          75 min\n",
    "        \n",
    "        \n",
    "                             lamda function\n",
    "1.fast execution\n",
    "2.unnamed function\n",
    "3. memory saved\n",
    "\n",
    "syntax ->  lambda function_argument1 : function_body\n",
    "\n",
    "It can have multiple argument but first arguement should be the function with one argument\n",
    "\n",
    "lambda function(arg) , arg2 : function_body\n",
    "\n",
    "complexity of the function should be minimum\n",
    "        \n",
    "        \n",
    "        \n",
    " List comprehension takes memory and time we will make use of the other fxn as                                   \n",
    "                                    \n",
    "                                    \n",
    "                                    \n",
    "                                    \n",
    "                                    \n",
    "                                    \n",
    "                                            Map function\n",
    "\n",
    " map -> apply a function  R operation to every element of the list.\n",
    "        \n",
    "         map(fxn , list)\n",
    "                fxn-> can take only one arguement\n",
    "         \n",
    "         map object is returned, not the list\n",
    "         \n",
    "         in parllel execution\n",
    "         \n",
    "         map( lambda function_argument1 : function_body , list )\n",
    "                         ^(only one arguemnet)\n",
    "        \n",
    "        no. of element in the list is same\n",
    "                         \n",
    "                         \n",
    "                         \n",
    "                         \n",
    "                                                Filter Function\n",
    "\n",
    "filter -> (like R programing)\n",
    "         \n",
    "         filter(fxn , list)\n",
    "                 ^(fxn that returns the logical value)\n",
    "                \n",
    "        filter will keep the values corresponding the TRUE value\n",
    "        \n",
    "        parllel exectution\n",
    "        \n",
    "        no. of element in the list is reduced\n",
    "        \n",
    "'''"
   ]
  },
  {
   "cell_type": "code",
   "execution_count": 2,
   "metadata": {},
   "outputs": [],
   "source": [
    "def isPrime (number):\n",
    "    count = 2\n",
    "    isPrime = 1\n",
    "    while count <= number//2:\n",
    "        if number % count ==0:\n",
    "            isPrime = 0\n",
    "            break\n",
    "        else:\n",
    "            count = count + 1\n",
    "    if isPrime ==1:\n",
    "        return True\n",
    "    else:\n",
    "        return False\n",
    "    "
   ]
  },
  {
   "cell_type": "code",
   "execution_count": 4,
   "metadata": {},
   "outputs": [
    {
     "name": "stdout",
     "output_type": "stream",
     "text": [
      "number is prime\n"
     ]
    }
   ],
   "source": [
    "if( isPrime(47) == True) : print(\"number is prime\")"
   ]
  },
  {
   "cell_type": "code",
   "execution_count": 9,
   "metadata": {},
   "outputs": [
    {
     "name": "stdout",
     "output_type": "stream",
     "text": [
      "enter the number : 5\n",
      "7\n",
      "11\n",
      "13\n",
      "17\n",
      "19\n"
     ]
    }
   ],
   "source": [
    "number = int(input(\"enter the number : \"))\n",
    "numPrime = 1\n",
    "while numPrime <= 5:\n",
    "    number = number  +1\n",
    "    if(isPrime(number) == True):\n",
    "        print(number)\n",
    "        numPrime = numPrime + 1"
   ]
  },
  {
   "cell_type": "code",
   "execution_count": 14,
   "metadata": {},
   "outputs": [
    {
     "name": "stdout",
     "output_type": "stream",
     "text": [
      "enter the number lower: 5\n",
      "enter  the number upper10\n",
      "5 it\n",
      "5\n",
      "6 it\n",
      "7 it\n",
      "7\n",
      "8 it\n",
      "9 it\n",
      "10 it\n"
     ]
    }
   ],
   "source": [
    "number = int(input(\"enter the number lower: \"))\n",
    "number1 = int(input(\"enter  the number upper\"))\n",
    "numPrime = number\n",
    "while number <= number1:\n",
    "    \n",
    "    #print(number,\"it\")\n",
    "    if(isPrime(number) == True):\n",
    "        print(number)\n",
    "        #numPrime = numPrime + 1\n",
    "    number = number  +1"
   ]
  },
  {
   "cell_type": "code",
   "execution_count": 28,
   "metadata": {},
   "outputs": [],
   "source": [
    "def fact (number):\n",
    "    mul = 1\n",
    "    i = number\n",
    "    while i >1:\n",
    "        mul = mul *i\n",
    "        i = i-1\n",
    "    return mul"
   ]
  },
  {
   "cell_type": "code",
   "execution_count": 18,
   "metadata": {},
   "outputs": [
    {
     "data": {
      "text/plain": [
       "120"
      ]
     },
     "execution_count": 18,
     "metadata": {},
     "output_type": "execute_result"
    }
   ],
   "source": [
    "fact(5)"
   ]
  },
  {
   "cell_type": "code",
   "execution_count": 21,
   "metadata": {},
   "outputs": [
    {
     "name": "stdout",
     "output_type": "stream",
     "text": [
      "120\n"
     ]
    }
   ],
   "source": [
    "mul =1\n",
    "for i in range(5,1,-1):\n",
    "    mul = mul*i\n",
    "print(mul)\n",
    "    \n",
    "    "
   ]
  },
  {
   "cell_type": "code",
   "execution_count": 29,
   "metadata": {},
   "outputs": [],
   "source": [
    "def fact1 (number):\n",
    "    if number == 1:\n",
    "        return number\n",
    "    else:\n",
    "        return (number*fact(number-1))"
   ]
  },
  {
   "cell_type": "code",
   "execution_count": 27,
   "metadata": {},
   "outputs": [
    {
     "data": {
      "text/plain": [
       "120"
      ]
     },
     "execution_count": 27,
     "metadata": {},
     "output_type": "execute_result"
    }
   ],
   "source": [
    "fact(5)"
   ]
  },
  {
   "cell_type": "code",
   "execution_count": 32,
   "metadata": {},
   "outputs": [],
   "source": [
    "def fact2 (number = 1):\n",
    "    mul = 1\n",
    "    i = number\n",
    "    while i >1:\n",
    "        mul = mul *i\n",
    "        i = i-1\n",
    "    return mul"
   ]
  },
  {
   "cell_type": "code",
   "execution_count": 34,
   "metadata": {},
   "outputs": [
    {
     "data": {
      "text/plain": [
       "1"
      ]
     },
     "execution_count": 34,
     "metadata": {},
     "output_type": "execute_result"
    }
   ],
   "source": [
    "fact2()"
   ]
  },
  {
   "cell_type": "code",
   "execution_count": 141,
   "metadata": {},
   "outputs": [],
   "source": [
    "def srt (li):\n",
    "    j = 0\n",
    "    for i in range(len(li)):\n",
    "        min = li[i]\n",
    "        print('min before', min , i)\n",
    "        for j in range (i):\n",
    "            print(\"j\",j)\n",
    "            if li[j]>min:\n",
    "                temp = li[j]\n",
    "                li[j] = li[i]\n",
    "                li[i] = temp\n",
    "                print(li[j] ,'replace',li[i],'now',li)\n",
    "        print('after ',i,li ,'min',min)\n",
    "        print(\"#######################################\")\n",
    "    return (li)"
   ]
  },
  {
   "cell_type": "code",
   "execution_count": 91,
   "metadata": {},
   "outputs": [
    {
     "data": {
      "text/plain": [
       "[]"
      ]
     },
     "execution_count": 91,
     "metadata": {},
     "output_type": "execute_result"
    }
   ],
   "source": [
    "list(range(0))"
   ]
  },
  {
   "cell_type": "code",
   "execution_count": 142,
   "metadata": {},
   "outputs": [
    {
     "name": "stdout",
     "output_type": "stream",
     "text": [
      "min before 5 0\n",
      "after  0 [5, 4, 90, 6, 2] min 5\n",
      "#######################################\n",
      "min before 4 1\n",
      "j 0\n",
      "4 replace 5 now [4, 5, 90, 6, 2]\n",
      "after  1 [4, 5, 90, 6, 2] min 4\n",
      "#######################################\n",
      "min before 90 2\n",
      "j 0\n",
      "j 1\n",
      "after  2 [4, 5, 90, 6, 2] min 90\n",
      "#######################################\n",
      "min before 6 3\n",
      "j 0\n",
      "j 1\n",
      "j 2\n",
      "6 replace 90 now [4, 5, 6, 90, 2]\n",
      "after  3 [4, 5, 6, 90, 2] min 6\n",
      "#######################################\n",
      "min before 2 4\n",
      "j 0\n",
      "2 replace 4 now [2, 5, 6, 90, 4]\n",
      "j 1\n",
      "4 replace 5 now [2, 4, 6, 90, 5]\n",
      "j 2\n",
      "5 replace 6 now [2, 4, 5, 90, 6]\n",
      "j 3\n",
      "6 replace 90 now [2, 4, 5, 6, 90]\n",
      "after  4 [2, 4, 5, 6, 90] min 2\n",
      "#######################################\n",
      "[2, 4, 5, 6, 90]\n"
     ]
    }
   ],
   "source": [
    "#li = [5,4,-2,90,6,2,1,3]\n",
    "li = [5,4,90,6,2]\n",
    "print(srt(li))"
   ]
  },
  {
   "cell_type": "code",
   "execution_count": null,
   "metadata": {},
   "outputs": [],
   "source": [
    "'''\n",
    "code miiising \n",
    "'''"
   ]
  },
  {
   "cell_type": "code",
   "execution_count": 117,
   "metadata": {},
   "outputs": [
    {
     "name": "stdout",
     "output_type": "stream",
     "text": [
      "[97.7, 98.6, 99.5, 100.4, 102.2]\n"
     ]
    }
   ],
   "source": [
    "'''\n",
    "map -> map object is returned, not the list\n",
    "'''\n",
    "def far (T):\n",
    "    f = round(((float(9/5)*T)+32),2)\n",
    "    return f\n",
    "temp = [36.5,37,37.5,38,39]\n",
    "\n",
    "F = map(far , temp)\n",
    "print(list(F))"
   ]
  },
  {
   "cell_type": "code",
   "execution_count": 119,
   "metadata": {},
   "outputs": [
    {
     "name": "stdout",
     "output_type": "stream",
     "text": [
      "[97.7, 98.6, 99.5, 100.4, 102.2]\n"
     ]
    }
   ],
   "source": [
    "f1 = [round(((float(9/5)*T)+32),2) for T in temp]\n",
    "print(f1)"
   ]
  },
  {
   "cell_type": "code",
   "execution_count": 125,
   "metadata": {},
   "outputs": [
    {
     "name": "stdout",
     "output_type": "stream",
     "text": [
      "<map object at 0x000001F55630D278>\n",
      "[97.7, 98.6, 99.5, 100.4, 102.2]\n"
     ]
    }
   ],
   "source": [
    "F = map(lambda T : round(((float(9/5)*T)+32),2), temp)\n",
    "print(F)\n",
    "print(list(F))"
   ]
  },
  {
   "cell_type": "code",
   "execution_count": 126,
   "metadata": {},
   "outputs": [
    {
     "name": "stdout",
     "output_type": "stream",
     "text": [
      "[2, 4, 8, 10]\n"
     ]
    }
   ],
   "source": [
    "lst = [2,3,4,5,67,8,9,10]\n",
    "result = filter(lambda x : x%2 == 0 ,lst)\n",
    "print(list(result))"
   ]
  },
  {
   "cell_type": "code",
   "execution_count": 129,
   "metadata": {},
   "outputs": [
    {
     "name": "stdout",
     "output_type": "stream",
     "text": [
      "[2, 3, 5, 67]\n"
     ]
    }
   ],
   "source": [
    "r = filter(isPrime , lst)\n",
    "print(list(r))"
   ]
  },
  {
   "cell_type": "code",
   "execution_count": 133,
   "metadata": {},
   "outputs": [
    {
     "name": "stdout",
     "output_type": "stream",
     "text": [
      "[0, 1, 2, 3, 4]\n"
     ]
    }
   ],
   "source": [
    "print(list(range(5)))"
   ]
  },
  {
   "cell_type": "code",
   "execution_count": 134,
   "metadata": {},
   "outputs": [
    {
     "name": "stdout",
     "output_type": "stream",
     "text": [
      "[0, 1, 2, 3, 5, 7, 11, 13, 17, 19, 23, 29, 31, 37, 41, 43, 47, 53, 59, 61, 67, 71, 73, 79, 83, 89, 97]\n"
     ]
    }
   ],
   "source": [
    "r = filter(isPrime , range(100))\n",
    "print(list(r))"
   ]
  },
  {
   "cell_type": "code",
   "execution_count": 150,
   "metadata": {},
   "outputs": [
    {
     "name": "stdout",
     "output_type": "stream",
     "text": [
      "[0, 4, 16, 36, 64, 100, 144, 196, 256, 324]\n"
     ]
    }
   ],
   "source": [
    "f = filter(lambda i : i%2 == 0 , range(20))\n",
    "d = list(f)\n",
    "#print(d)\n",
    "o = map(lambda i : i*i ,d )\n",
    "print(list(o))"
   ]
  },
  {
   "cell_type": "code",
   "execution_count": 153,
   "metadata": {},
   "outputs": [
    {
     "name": "stdout",
     "output_type": "stream",
     "text": [
      "[100, 102, 104, 106, 108, 110, 112, 114, 116, 118, 120, 122, 124, 126, 128, 130, 132, 134, 136, 138, 140, 142, 144, 146, 148, 150, 152, 154, 156, 158, 160, 162, 164, 166, 168, 170, 172, 174, 176, 178, 180, 182, 184, 186, 188, 190, 192, 194, 196, 198, 200, 202, 204, 206, 208, 210, 212, 214, 216, 218, 220, 222, 224, 226, 228, 230, 232, 234, 236, 238, 240, 242, 244, 246, 248, 250, 252, 254, 256, 258, 260, 262, 264, 266, 268, 270, 272, 274, 276, 278, 280, 282, 284, 286, 288, 290, 292, 294, 296, 298, 300, 302, 304, 306, 308, 310, 312, 314, 316, 318, 320, 322, 324, 326, 328, 330, 332, 334, 336, 338, 340, 342, 344, 346, 348, 350, 352, 354, 356, 358, 360, 362, 364, 366, 368, 370, 372, 374, 376, 378, 380, 382, 384, 386, 388, 390, 392, 394, 396, 398, 400, 402, 404, 406, 408, 410, 412, 414, 416, 418, 420, 422, 424, 426, 428, 430, 432, 434, 436, 438, 440, 442, 444, 446, 448, 450, 452, 454, 456, 458, 460, 462, 464, 466, 468, 470, 472, 474, 476, 478, 480, 482, 484, 486, 488, 490, 492, 494, 496, 498, 500, 502, 504, 506, 508, 510, 512, 514, 516, 518, 520, 522, 524, 526, 528, 530, 532, 534, 536, 538, 540, 542, 544, 546, 548, 550, 552, 554, 556, 558, 560, 562, 564, 566, 568, 570, 572, 574, 576, 578, 580, 582, 584, 586, 588, 590, 592, 594, 596, 598, 600, 602, 604, 606, 608, 610, 612, 614, 616, 618, 620, 622, 624, 626, 628, 630, 632, 634, 636, 638, 640, 642, 644, 646, 648, 650, 652, 654, 656, 658, 660, 662, 664, 666, 668, 670, 672, 674, 676, 678, 680, 682, 684, 686, 688, 690, 692, 694, 696, 698, 700, 702, 704, 706, 708, 710, 712, 714, 716, 718, 720, 722, 724, 726, 728, 730, 732, 734, 736, 738, 740, 742, 744, 746, 748, 750, 752, 754, 756, 758, 760, 762, 764, 766, 768, 770, 772, 774, 776, 778, 780, 782, 784, 786, 788, 790, 792, 794, 796, 798, 800, 802, 804, 806, 808, 810, 812, 814, 816, 818, 820, 822, 824, 826, 828, 830, 832, 834, 836, 838, 840, 842, 844, 846, 848, 850, 852, 854, 856, 858, 860, 862, 864, 866, 868, 870, 872, 874, 876, 878, 880, 882, 884, 886, 888, 890, 892, 894, 896, 898, 900, 902, 904, 906, 908, 910, 912, 914, 916, 918, 920, 922, 924, 926, 928, 930, 932, 934, 936, 938, 940, 942, 944, 946, 948, 950, 952, 954, 956, 958, 960, 962, 964, 966, 968, 970, 972, 974, 976, 978, 980, 982, 984, 986, 988, 990, 992, 994, 996, 998]\n"
     ]
    }
   ],
   "source": [
    "f = filter(lambda i : i%2 == 0 , range(100,1000))\n",
    "print(list(f))"
   ]
  },
  {
   "cell_type": "code",
   "execution_count": 156,
   "metadata": {},
   "outputs": [
    {
     "name": "stdout",
     "output_type": "stream",
     "text": [
      "[1, 2, 3, 4, 5, 6, 7, 8, 9, 10, 11, 12, 13, 14, 15, 16, 17, 18, 19, 20, 21, 22, 23, 24, 25, 26, 27, 28, 29, 30, 31, 32, 33, 34, 35, 36, 37, 38, 39, 40, 41, 42, 43, 44, 45, 46, 47, 48, 49]\n"
     ]
    }
   ],
   "source": [
    "f = filter(lambda i : i/2 if i%2 == 0 else i/3 ,range(50))\n",
    "print(list(f))"
   ]
  }
 ],
 "metadata": {
  "kernelspec": {
   "display_name": "Python 3",
   "language": "python",
   "name": "python3"
  },
  "language_info": {
   "codemirror_mode": {
    "name": "ipython",
    "version": 3
   },
   "file_extension": ".py",
   "mimetype": "text/x-python",
   "name": "python",
   "nbconvert_exporter": "python",
   "pygments_lexer": "ipython3",
   "version": "3.6.4"
  }
 },
 "nbformat": 4,
 "nbformat_minor": 2
}
