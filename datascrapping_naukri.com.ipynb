{
 "cells": [
  {
   "cell_type": "code",
   "execution_count": 1,
   "metadata": {},
   "outputs": [
    {
     "data": {
      "text/plain": [
       "'\\ndata scrapping\\n'"
      ]
     },
     "execution_count": 1,
     "metadata": {},
     "output_type": "execute_result"
    }
   ],
   "source": [
    "'''\n",
    "data scrapping\n",
    "'''"
   ]
  },
  {
   "cell_type": "code",
   "execution_count": 2,
   "metadata": {},
   "outputs": [],
   "source": [
    "\n",
    "import requests\n",
    "import bs4\n"
   ]
  },
  {
   "cell_type": "code",
   "execution_count": 3,
   "metadata": {},
   "outputs": [],
   "source": [
    "from bs4 import BeautifulSoup"
   ]
  },
  {
   "cell_type": "code",
   "execution_count": 6,
   "metadata": {},
   "outputs": [],
   "source": [
    "url = \"https://www.naukri.com/data-science-jobs\"\n"
   ]
  },
  {
   "cell_type": "code",
   "execution_count": 7,
   "metadata": {},
   "outputs": [
    {
     "name": "stdout",
     "output_type": "stream",
     "text": [
      "Type of output is <class 'str'>\n",
      "lenght of the 164818\n"
     ]
    }
   ],
   "source": [
    "page = requests.get(url).text\n",
    "print('Type of output is %s' % type(page))\n",
    "print('lenght of the %d' % len(page))\n",
    "bs_obj = bs4.BeautifulSoup(page ,'lxml')"
   ]
  },
  {
   "cell_type": "code",
   "execution_count": 8,
   "metadata": {},
   "outputs": [
    {
     "data": {
      "text/plain": [
       "[<li class=\"mActive\"><a href=\"https://www.naukri.com/browse-jobs\" target=\"_blank\" title=\"Search Jobs\"><span class=\"topIcon jobs\"> </span><div class=\"mTxt\">Jobs</div></a><div class=\"subMenu c2\"><ul><li><a href=\"https://www.naukri.com\" target=\"_blank\" title=\"Search Jobs\">Search Jobs</a></li><li><a href=\"https://www.naukri.com/advanced-search\" target=\"_blank\" title=\"Advanced Search\">Advanced Search</a></li><li><a href=\"https://www.naukri.com/free-job-alerts\" target=\"_blank\" title=\"Create Free Job Alert\">Create Free Job Alert</a></li><li><a href=\"https://my.naukri.com/account/createaccount?othersrcp=16201&amp;err=1\" target=\"_blank\" title=\"Register Now\">Register Now</a></li></ul><ul><li><a href=\"https://www.naukri.com/jobs-by-location\" target=\"_blank\" title=\"Jobs by Location\">Jobs by Location</a></li><li><a href=\"https://www.naukri.com/top-skill-jobs\" target=\"_blank\" title=\"Jobs by Skill\">Jobs by Skill</a></li><li><a href=\"https://www.naukri.com/top-jobs-by-designations\" target=\"_blank\" title=\"Jobs by Designation\">Jobs by Designation</a></li><li><a href=\"https://www.naukri.com/top-company-jobs\" title=\"Jobs by Company\">Jobs by Company</a></li><li><a href=\"https://www.naukri.com/jobs-by-category\" title=\"Jobs by Category\">Jobs by Category</a></li><li><a href=\"https://www.naukri.com/browse-jobs\" target=\"_blank\" title=\"Browse All Jobs\">Browse All Jobs</a></li></ul></div></li>,\n",
       " <li><a href=\"https://www.naukri.com\" target=\"_blank\" title=\"Search Jobs\">Search Jobs</a></li>,\n",
       " <li><a href=\"https://www.naukri.com/advanced-search\" target=\"_blank\" title=\"Advanced Search\">Advanced Search</a></li>,\n",
       " <li><a href=\"https://www.naukri.com/free-job-alerts\" target=\"_blank\" title=\"Create Free Job Alert\">Create Free Job Alert</a></li>,\n",
       " <li><a href=\"https://my.naukri.com/account/createaccount?othersrcp=16201&amp;err=1\" target=\"_blank\" title=\"Register Now\">Register Now</a></li>,\n",
       " <li><a href=\"https://www.naukri.com/jobs-by-location\" target=\"_blank\" title=\"Jobs by Location\">Jobs by Location</a></li>,\n",
       " <li><a href=\"https://www.naukri.com/top-skill-jobs\" target=\"_blank\" title=\"Jobs by Skill\">Jobs by Skill</a></li>,\n",
       " <li><a href=\"https://www.naukri.com/top-jobs-by-designations\" target=\"_blank\" title=\"Jobs by Designation\">Jobs by Designation</a></li>,\n",
       " <li><a href=\"https://www.naukri.com/top-company-jobs\" title=\"Jobs by Company\">Jobs by Company</a></li>,\n",
       " <li><a href=\"https://www.naukri.com/jobs-by-category\" title=\"Jobs by Category\">Jobs by Category</a></li>,\n",
       " <li><a href=\"https://www.naukri.com/browse-jobs\" target=\"_blank\" title=\"Browse All Jobs\">Browse All Jobs</a></li>,\n",
       " <li class=\"''\"><a href=\"https://www.naukri.com/recruiters\" target=\"_blank\" title=\"Search Recruiters\"><span class=\"topIcon jobs Recr\"> </span><div class=\"mTxt\">Recruiters</div></a><div class=\"subMenu\"><ul><li><a href=\"https://www.naukri.com/recruiters/browse-all-recruiters\" target=\"_blank\" title=\"Browse All Recruiters\">Browse All Recruiters</a></li><li><a href=\"https://resume.naukri.com/contact-recruiters-hr?fftid=101010\" target=\"_blank\" title=\"Recruiter Connection\">Recruiter Connection</a></li><li><a href=\"https://naukrirecruiter.naukri.com?src=128\" target=\"_blank\" title=\"Go to NaukriRecruiter\">Go to NaukriRecruiter</a></li></ul></div></li>,\n",
       " <li><a href=\"https://www.naukri.com/recruiters/browse-all-recruiters\" target=\"_blank\" title=\"Browse All Recruiters\">Browse All Recruiters</a></li>,\n",
       " <li><a href=\"https://resume.naukri.com/contact-recruiters-hr?fftid=101010\" target=\"_blank\" title=\"Recruiter Connection\">Recruiter Connection</a></li>,\n",
       " <li><a href=\"https://naukrirecruiter.naukri.com?src=128\" target=\"_blank\" title=\"Go to NaukriRecruiter\">Go to NaukriRecruiter</a></li>,\n",
       " <li class=\"''\"><a href=\"https://www.naukri.com/top-company-jobs\" target=\"_blank\" title=\"Jobs Posted By Top Companies\"><span class=\"topIcon jobs Comp\"> </span><div class=\"mTxt\">Companies</div></a><div class=\"subMenu\"><ul><li><a href=\"https://www.naukri.com/top-company-jobs\" target=\"_blank\" title=\"Browse All Companies\">Browse All Companies</a></li><li><a href=\"http://ambitionbox.com/companies?utm_source=naukri&amp;utm_medium=gnb\" rel=\"noindex nofollow\" target=\"_blank\" title=\"About Companies\">About Companies</a></li><li><a href=\"http://ambitionbox.com/interviews?utm_source=naukri&amp;utm_medium=gnb\" target=\"_blank\" title=\"Interview Questions\">Interview Questions</a></li><li><a href=\"http://ambitionbox.com/contribute?review_name=CompanyReview&amp;utm_source=naukri&amp;utm_medium=gnb\" rel=\"noindex nofollow\" target=\"_blank\" title=\"Write Company Review\">Write Company Review</a></li><li><a href=\"http://ambitionbox.com/contribute?review_name=InterviewAdvice&amp;utm_source=naukri&amp;utm_medium=gnb\" target=\"_blank\" title=\"Write Interview Advice\">Write Interview Advice</a></li><li><a href=\"http://ambitionbox.com/reviews?utm_source=naukri&amp;utm_medium=gnb\" target=\"_blank\" title=\"Company Reviews\">Company Reviews</a></li></ul></div></li>,\n",
       " <li><a href=\"https://www.naukri.com/top-company-jobs\" target=\"_blank\" title=\"Browse All Companies\">Browse All Companies</a></li>,\n",
       " <li><a href=\"http://ambitionbox.com/companies?utm_source=naukri&amp;utm_medium=gnb\" rel=\"noindex nofollow\" target=\"_blank\" title=\"About Companies\">About Companies</a></li>,\n",
       " <li><a href=\"http://ambitionbox.com/interviews?utm_source=naukri&amp;utm_medium=gnb\" target=\"_blank\" title=\"Interview Questions\">Interview Questions</a></li>,\n",
       " <li><a href=\"http://ambitionbox.com/contribute?review_name=CompanyReview&amp;utm_source=naukri&amp;utm_medium=gnb\" rel=\"noindex nofollow\" target=\"_blank\" title=\"Write Company Review\">Write Company Review</a></li>,\n",
       " <li><a href=\"http://ambitionbox.com/contribute?review_name=InterviewAdvice&amp;utm_source=naukri&amp;utm_medium=gnb\" target=\"_blank\" title=\"Write Interview Advice\">Write Interview Advice</a></li>,\n",
       " <li><a href=\"http://ambitionbox.com/reviews?utm_source=naukri&amp;utm_medium=gnb\" target=\"_blank\" title=\"Company Reviews\">Company Reviews</a></li>,\n",
       " <li class=\"''\"><a href=\"https://resume.naukri.com/resume-services?fftid=100001&amp;id=\" target=\"_blank\" title=\"Naukri FastForward- Resume Services\"><span class=\"topIcon jobs Serv\"> </span><div class=\"mTxt\">Services</div></a><div class=\"subMenu c3\"><ul class=\"group\"><li class=\"header1\"><a title=\"Resume Writing\">Resume Writing</a></li><li><a href=\"https://resume.naukri.com/resume-writing-services?fftid=101001\" target=\"_blank\" title=\"Text Resume\">Text Resume</a></li><li><a href=\"https://resume.naukri.com/visual-resume-writing-services?fftid=101002\" target=\"_blank\" title=\"Visual Resume\">Visual Resume</a></li><li><a href=\"https://resume.naukri.com/resume-quality-score?fftid=101003\" target=\"_blank\" title=\"Resume Quality Score - Free\">Resume Quality Score - Free</a></li><li class=\"lastSib\"><a href=\"https://resume.naukri.com/resume-samples?fftid=101004\" target=\"_blank\" title=\"Resume Samples\">Resume Samples</a></li><li class=\"header1\"><a title=\"Jobs For You\">Jobs For You</a></li><li><a href=\"https://resume.naukri.com/job-alerts-on-mobile-mail?fftid=101011#jobmail\" target=\"_blank\" title=\"Jobs4U\">Jobs4U</a></li><li class=\"header1\"><a>Interview Preparation</a></li><li><a href=\"https://resume.naukri.com/interview-preparation-tips?fftid=101021\" target=\"_blank\" title=\"Interview Pro\">Interview Pro</a></li></ul><ul class=\"group\"><li class=\"header1\"><a>Recruiter Reach</a></li><li><a href=\"https://resume.naukri.com/resume-display?fftid=101009\" target=\"_blank\" title=\"Resume Display\">Resume Display</a></li><li><a href=\"https://resume.naukri.com/contact-recruiters-hr?fftid=101010\" target=\"_blank\" title=\"RecruiterConnection\"><span class=\"newStatus\"></span>RecruiterConnection</a></li><li class=\"lastSib\"><a href=\"https://resume.naukri.com/priority-job-application?fftid=101019\" target=\"_blank\" title=\"Priority Applicant\"><span class=\"newStatus\"></span>Priority Applicant</a></li><li class=\"header1\"><a>Other</a></li><li><a href=\"https://resume.naukri.com/frequently-asked-questions-faq/?fftid=101013\" target=\"_blank\" title=\"Help/FAQ\">Help / FAQ</a></li><li><a href=\"https://resume.naukri.com/articles/?fftid=101014\" target=\"_blank\" title=\"Career Advice\">Career Advice</a></li><li><a href=\"https://resume.naukri.com/contact-us?fftid=101015\" target=\"_blank\" title=\"Contact Us\">Contact Us</a></li></ul><ul class=\"group\"><li class=\"header1\"><a>Courses / Certifications</a></li><li class=\"club\"><a href=\"https://learning.naukri.com/it-telecom-courses-certification-training-ct31?utm_source=naukri&amp;utm_medium=naukri_gnb&amp;utm_content=naukri_gnb&amp;utm_campaign=naukri_gnb_top&amp;fftid=naukri_gnb\" target=\"_blank\" title=\"IT &amp; Telecom\">IT &amp; Telecom</a>|<a href=\"https://learning.naukri.com/project-management-courses-certification-training-st313?utm_source=naukri&amp;utm_medium=naukri_gnb&amp;utm_content=naukri_gnb&amp;utm_campaign=naukri_gnb_top&amp;fftid=naukri_gnb\" target=\"_blank\" title=\"PMP\">PMP</a></li><li><a href=\"https://learning.naukri.com/banking-finance-analytics-courses-certification-training-ct35?utm_source=naukri&amp;utm_medium=naukri_gnb&amp;utm_content=naukri_gnb&amp;utm_campaign=naukri_gnb_top&amp;fftid=naukri_gnb\" target=\"_blank\" title=\"Banking &amp; Finance\">Banking &amp; Finance</a></li><li><a href=\"https://learning.naukri.com/ifrs-certification?utm_source=naukri&amp;utm_medium=naukri_gnb&amp;utm_content=naukri_gnb&amp;utm_campaign=naukri_gnb_top&amp;fftid=naukri_gnb\" target=\"_blank\" title=\"IFRS\">IFRS</a></li><li><a href=\"https://learning.naukri.com/data-science-analytics-courses-certification-training-st309?utm_source=naukri&amp;utm_medium=naukri_gnb&amp;utm_content=naukri_gnb&amp;utm_campaign=naukri_gnb_top&amp;fftid=naukri_gnb\" target=\"_blank\" title=\"Data Science , Analytics\">Data Science , Analytics</a></li><li class=\"club\"><a href=\"https://learning.naukri.com/bpo-operations-engineering-courses-certification-training-ct41?utm_source=naukri&amp;utm_medium=naukri_gnb&amp;utm_content=naukri_gnb&amp;utm_campaign=naukri_gnb_top&amp;fftid=naukri_gnb\" target=\"_blank\" title=\"Operations\">Operations</a>|<a href=\"https://learning.naukri.com/six-sigma-quality-courses-certification-training-st311?utm_source=naukri&amp;utm_medium=naukri_gnb&amp;utm_content=naukri_gnb&amp;utm_campaign=naukri_gnb_top&amp;fftid=naukri_gnb\" target=\"_blank\" title=\"Quality\">Quality</a></li><li><a href=\"https://learning.naukri.com/digital-marketing-courses-certification-training-st301?utm_source=naukri&amp;utm_medium=naukri_gnb&amp;utm_content=naukri_gnb&amp;utm_campaign=naukri_gnb_top&amp;fftid=naukri_gnb\" target=\"_blank\" title=\"Digital Marketing\">Digital Marketing</a></li><li><a href=\"https://learning.naukri.com/human-resources-administration-courses-certification-training-ct37?utm_source=naukri&amp;utm_medium=naukri_gnb&amp;utm_content=naukri_gnb&amp;utm_campaign=naukri_gnb_top&amp;fftid=naukri_gnb\" target=\"_blank\" title=\"HR &amp; Admin\">HR &amp; Admin</a></li><li><a href=\"https://learning.naukri.com/leadership-management-courses-certification-training-ct49?utm_source=naukri&amp;utm_medium=naukri_gnb&amp;utm_content=naukri_gnb&amp;utm_campaign=naukri_gnb_top&amp;fftid=naukri_gnb\" target=\"_blank\" title=\"Leadership &amp; Strategy\">Leadership &amp; Strategy</a></li></ul></div></li>,\n",
       " <li class=\"header1\"><a title=\"Resume Writing\">Resume Writing</a></li>,\n",
       " <li><a href=\"https://resume.naukri.com/resume-writing-services?fftid=101001\" target=\"_blank\" title=\"Text Resume\">Text Resume</a></li>,\n",
       " <li><a href=\"https://resume.naukri.com/visual-resume-writing-services?fftid=101002\" target=\"_blank\" title=\"Visual Resume\">Visual Resume</a></li>,\n",
       " <li><a href=\"https://resume.naukri.com/resume-quality-score?fftid=101003\" target=\"_blank\" title=\"Resume Quality Score - Free\">Resume Quality Score - Free</a></li>,\n",
       " <li class=\"lastSib\"><a href=\"https://resume.naukri.com/resume-samples?fftid=101004\" target=\"_blank\" title=\"Resume Samples\">Resume Samples</a></li>,\n",
       " <li class=\"header1\"><a title=\"Jobs For You\">Jobs For You</a></li>,\n",
       " <li><a href=\"https://resume.naukri.com/job-alerts-on-mobile-mail?fftid=101011#jobmail\" target=\"_blank\" title=\"Jobs4U\">Jobs4U</a></li>,\n",
       " <li class=\"header1\"><a>Interview Preparation</a></li>,\n",
       " <li><a href=\"https://resume.naukri.com/interview-preparation-tips?fftid=101021\" target=\"_blank\" title=\"Interview Pro\">Interview Pro</a></li>,\n",
       " <li class=\"header1\"><a>Recruiter Reach</a></li>,\n",
       " <li><a href=\"https://resume.naukri.com/resume-display?fftid=101009\" target=\"_blank\" title=\"Resume Display\">Resume Display</a></li>,\n",
       " <li><a href=\"https://resume.naukri.com/contact-recruiters-hr?fftid=101010\" target=\"_blank\" title=\"RecruiterConnection\"><span class=\"newStatus\"></span>RecruiterConnection</a></li>,\n",
       " <li class=\"lastSib\"><a href=\"https://resume.naukri.com/priority-job-application?fftid=101019\" target=\"_blank\" title=\"Priority Applicant\"><span class=\"newStatus\"></span>Priority Applicant</a></li>,\n",
       " <li class=\"header1\"><a>Other</a></li>,\n",
       " <li><a href=\"https://resume.naukri.com/frequently-asked-questions-faq/?fftid=101013\" target=\"_blank\" title=\"Help/FAQ\">Help / FAQ</a></li>,\n",
       " <li><a href=\"https://resume.naukri.com/articles/?fftid=101014\" target=\"_blank\" title=\"Career Advice\">Career Advice</a></li>,\n",
       " <li><a href=\"https://resume.naukri.com/contact-us?fftid=101015\" target=\"_blank\" title=\"Contact Us\">Contact Us</a></li>,\n",
       " <li class=\"header1\"><a>Courses / Certifications</a></li>,\n",
       " <li class=\"club\"><a href=\"https://learning.naukri.com/it-telecom-courses-certification-training-ct31?utm_source=naukri&amp;utm_medium=naukri_gnb&amp;utm_content=naukri_gnb&amp;utm_campaign=naukri_gnb_top&amp;fftid=naukri_gnb\" target=\"_blank\" title=\"IT &amp; Telecom\">IT &amp; Telecom</a>|<a href=\"https://learning.naukri.com/project-management-courses-certification-training-st313?utm_source=naukri&amp;utm_medium=naukri_gnb&amp;utm_content=naukri_gnb&amp;utm_campaign=naukri_gnb_top&amp;fftid=naukri_gnb\" target=\"_blank\" title=\"PMP\">PMP</a></li>,\n",
       " <li><a href=\"https://learning.naukri.com/banking-finance-analytics-courses-certification-training-ct35?utm_source=naukri&amp;utm_medium=naukri_gnb&amp;utm_content=naukri_gnb&amp;utm_campaign=naukri_gnb_top&amp;fftid=naukri_gnb\" target=\"_blank\" title=\"Banking &amp; Finance\">Banking &amp; Finance</a></li>,\n",
       " <li><a href=\"https://learning.naukri.com/ifrs-certification?utm_source=naukri&amp;utm_medium=naukri_gnb&amp;utm_content=naukri_gnb&amp;utm_campaign=naukri_gnb_top&amp;fftid=naukri_gnb\" target=\"_blank\" title=\"IFRS\">IFRS</a></li>,\n",
       " <li><a href=\"https://learning.naukri.com/data-science-analytics-courses-certification-training-st309?utm_source=naukri&amp;utm_medium=naukri_gnb&amp;utm_content=naukri_gnb&amp;utm_campaign=naukri_gnb_top&amp;fftid=naukri_gnb\" target=\"_blank\" title=\"Data Science , Analytics\">Data Science , Analytics</a></li>,\n",
       " <li class=\"club\"><a href=\"https://learning.naukri.com/bpo-operations-engineering-courses-certification-training-ct41?utm_source=naukri&amp;utm_medium=naukri_gnb&amp;utm_content=naukri_gnb&amp;utm_campaign=naukri_gnb_top&amp;fftid=naukri_gnb\" target=\"_blank\" title=\"Operations\">Operations</a>|<a href=\"https://learning.naukri.com/six-sigma-quality-courses-certification-training-st311?utm_source=naukri&amp;utm_medium=naukri_gnb&amp;utm_content=naukri_gnb&amp;utm_campaign=naukri_gnb_top&amp;fftid=naukri_gnb\" target=\"_blank\" title=\"Quality\">Quality</a></li>,\n",
       " <li><a href=\"https://learning.naukri.com/digital-marketing-courses-certification-training-st301?utm_source=naukri&amp;utm_medium=naukri_gnb&amp;utm_content=naukri_gnb&amp;utm_campaign=naukri_gnb_top&amp;fftid=naukri_gnb\" target=\"_blank\" title=\"Digital Marketing\">Digital Marketing</a></li>,\n",
       " <li><a href=\"https://learning.naukri.com/human-resources-administration-courses-certification-training-ct37?utm_source=naukri&amp;utm_medium=naukri_gnb&amp;utm_content=naukri_gnb&amp;utm_campaign=naukri_gnb_top&amp;fftid=naukri_gnb\" target=\"_blank\" title=\"HR &amp; Admin\">HR &amp; Admin</a></li>,\n",
       " <li><a href=\"https://learning.naukri.com/leadership-management-courses-certification-training-ct49?utm_source=naukri&amp;utm_medium=naukri_gnb&amp;utm_content=naukri_gnb&amp;utm_campaign=naukri_gnb_top&amp;fftid=naukri_gnb\" target=\"_blank\" title=\"Leadership &amp; Strategy\">Leadership &amp; Strategy</a></li>,\n",
       " <li class='\"\"'><a href=\"http://naukri.shiksha.com\" target=\"_blank\"><span class=\"topIcon jobs More\"> </span><div class=\"mTxt\">More</div></a><div class=\"subMenu c3\"><ul class=\"group\"><li class=\"header1\"><a>Management and Business</a></li><li><a href=\"http://www.shiksha.com/mba/mba-home\" target=\"_blank\" title=\"MBA\">MBA</a></li><li><a href=\"http://www.shiksha.com/mba/distance-mba-home\" target=\"_blank\" title=\"Distance MBA\">Distance MBA</a></li><li class=\"lastSib\"><a href=\"http://www.shiksha.com/mba/executive-mba-home\" target=\"_blank\" title=\"Executive MBA\">Executive MBA</a></li><li class=\"header1\"><a>Information Technology</a></li><li><a href=\"http://naukri.shiksha.com/mca-colleges-in-india-categorypage-10-98-1-0-0-1-1-2-0-none-1-1\" target=\"_blank\" title=\"MCA\">MCA</a></li></ul><ul class=\"group\"><li><a href=\"http://naukri.shiksha.com/mca-distance-education-in-india-categorypage-10-97-1-0-0-1-1-2-0-none-1-1\" target=\"_blank\" title=\"Distance MCA\">Distance MCA</a></li><li><a href=\"http://naukri.shiksha.com/computer-programming-language-courses-in-india-categorypage-10-105-1-0-0-1-1-2-0-none-1-1\" target=\"_blank\" title=\"Software Courses\">Software Courses</a></li><li class=\"lastSib\"><a href=\"http://naukri.shiksha.com/cisco-certification-courses-in-india-categorypage-10-101-1-0-0-1-1-2-0-none-1-1\" target=\"_blank\" title=\"Hardware Courses\">Hardware Courses</a></li><li class=\"header1\"><a>Animation, Multimedia</a></li><li><a href=\"http://naukri.shiksha.com/animation-courses-in-india-categorypage-12-89-1-0-0-1-1-2-0-none-1-1\" target=\"_blank\" title=\"Animation\">Animation</a></li><li><a href=\"http://naukri.shiksha.com/graphic-designing-courses-in-india-categorypage-12-92-1-0-0-1-1-2-0-none-1-1\" target=\"_blank\" title=\"Graphic Designing\">Graphic Designing</a></li><li><a href=\"http://naukri.shiksha.com/web-designing-courses-in-india-categorypage-12-93-1-0-0-1-1-2-0-none-1-1\" target=\"_blank\" title=\"Web Designing\">Web Designing</a></li></ul><ul class=\"group\"><li class=\"header1\"><a>Study Abroad</a></li><li><a href=\"http://studyabroad.shiksha.com/mba-in-abroad-dc11508\" target=\"_blank\" title=\"MBA\">MBA</a></li><li><a href=\"http://studyabroad.shiksha.com/ms-in-abroad-dc11509\" target=\"_blank\" title=\"MS\">MS</a></li><li><a href=\"http://studyabroad.shiksha.com/be-btech-in-abroad-dc11510\" target=\"_blank\" title=\"BE/BTech\">BE/BTech</a></li></ul><ul class=\"group\"><li class=\"header1\"><a>More</a></li><li><a href=\"https://careernavigator.naukri.com\" target=\"_blank\" title=\"Paycheck\">Paycheck</a></li><li><a href=\"https://www.naukri.com/mobile\" target=\"_blank\" title=\"Naukri On Mobile\">Naukri On Mobile</a></li><li><a href=\"http://blogs.naukri.com\" target=\"_blank\" title=\"Naukri Blog\">Blog</a></li></ul></div></li>,\n",
       " <li class=\"header1\"><a>Management and Business</a></li>,\n",
       " <li><a href=\"http://www.shiksha.com/mba/mba-home\" target=\"_blank\" title=\"MBA\">MBA</a></li>,\n",
       " <li><a href=\"http://www.shiksha.com/mba/distance-mba-home\" target=\"_blank\" title=\"Distance MBA\">Distance MBA</a></li>,\n",
       " <li class=\"lastSib\"><a href=\"http://www.shiksha.com/mba/executive-mba-home\" target=\"_blank\" title=\"Executive MBA\">Executive MBA</a></li>,\n",
       " <li class=\"header1\"><a>Information Technology</a></li>,\n",
       " <li><a href=\"http://naukri.shiksha.com/mca-colleges-in-india-categorypage-10-98-1-0-0-1-1-2-0-none-1-1\" target=\"_blank\" title=\"MCA\">MCA</a></li>,\n",
       " <li><a href=\"http://naukri.shiksha.com/mca-distance-education-in-india-categorypage-10-97-1-0-0-1-1-2-0-none-1-1\" target=\"_blank\" title=\"Distance MCA\">Distance MCA</a></li>,\n",
       " <li><a href=\"http://naukri.shiksha.com/computer-programming-language-courses-in-india-categorypage-10-105-1-0-0-1-1-2-0-none-1-1\" target=\"_blank\" title=\"Software Courses\">Software Courses</a></li>,\n",
       " <li class=\"lastSib\"><a href=\"http://naukri.shiksha.com/cisco-certification-courses-in-india-categorypage-10-101-1-0-0-1-1-2-0-none-1-1\" target=\"_blank\" title=\"Hardware Courses\">Hardware Courses</a></li>,\n",
       " <li class=\"header1\"><a>Animation, Multimedia</a></li>,\n",
       " <li><a href=\"http://naukri.shiksha.com/animation-courses-in-india-categorypage-12-89-1-0-0-1-1-2-0-none-1-1\" target=\"_blank\" title=\"Animation\">Animation</a></li>,\n",
       " <li><a href=\"http://naukri.shiksha.com/graphic-designing-courses-in-india-categorypage-12-92-1-0-0-1-1-2-0-none-1-1\" target=\"_blank\" title=\"Graphic Designing\">Graphic Designing</a></li>,\n",
       " <li><a href=\"http://naukri.shiksha.com/web-designing-courses-in-india-categorypage-12-93-1-0-0-1-1-2-0-none-1-1\" target=\"_blank\" title=\"Web Designing\">Web Designing</a></li>,\n",
       " <li class=\"header1\"><a>Study Abroad</a></li>,\n",
       " <li><a href=\"http://studyabroad.shiksha.com/mba-in-abroad-dc11508\" target=\"_blank\" title=\"MBA\">MBA</a></li>,\n",
       " <li><a href=\"http://studyabroad.shiksha.com/ms-in-abroad-dc11509\" target=\"_blank\" title=\"MS\">MS</a></li>,\n",
       " <li><a href=\"http://studyabroad.shiksha.com/be-btech-in-abroad-dc11510\" target=\"_blank\" title=\"BE/BTech\">BE/BTech</a></li>,\n",
       " <li class=\"header1\"><a>More</a></li>,\n",
       " <li><a href=\"https://careernavigator.naukri.com\" target=\"_blank\" title=\"Paycheck\">Paycheck</a></li>,\n",
       " <li><a href=\"https://www.naukri.com/mobile\" target=\"_blank\" title=\"Naukri On Mobile\">Naukri On Mobile</a></li>,\n",
       " <li><a href=\"http://blogs.naukri.com\" target=\"_blank\" title=\"Naukri Blog\">Blog</a></li>,\n",
       " <li><a href=\"https://login.naukri.com/nLogin/Login.php\" id=\"login_Layer\" title=\"Jobseeker Login\"><span class=\"topIcon jobs Login\"> </span><div class=\"mTxt\">Login</div></a></li>,\n",
       " <li><a class=\"blob\" href=\"https://www.naukri.com/mnjuser/recommendedjobs\" id=\"blobId\" target=\"_blank\"><div class=\"topIcon notify\"><span> </span></div><div class=\"mTxt\">Notifications<span class=\"rJobCntr\" id=\"rJobCntr\"></span></div></a></li>,\n",
       " <li class=\"first-child\"><a class=\"immediate\" href=\"https://login.recruit.naukri.com\" target=\"_blank\" title=\"Employer Login\">Employer Zone</a></li>,\n",
       " <li class=\"last-child\"><a class=\"immediate\" href=\"https://recruit.naukri.com/rCommerce/demo/buy\" target=\"_blank\" title=\"Buy Online- RESDEX and Vacancy Listings\"><div>Buy Online<span class='\\\"smArw\\\"'></span></div></a><div class=\"subMenu\"><ul><li><a href=\"https://recruit.naukri.com/rCommerce/demo/buy\" target=\"_blank\" title=\"Buy Online- RESDEX and Vacancy Listings\">Buy Online</a></li><li><a href=\"https://recruit.naukri.com/rCommerce/instaPost/default\" target=\"_blank\" title=\"Post an Insta Job\">Post an Insta Job</a></li></ul></div></li>,\n",
       " <li><a href=\"https://recruit.naukri.com/rCommerce/demo/buy\" target=\"_blank\" title=\"Buy Online- RESDEX and Vacancy Listings\">Buy Online</a></li>,\n",
       " <li><a href=\"https://recruit.naukri.com/rCommerce/instaPost/default\" target=\"_blank\" title=\"Post an Insta Job\">Post an Insta Job</a></li>,\n",
       " <li class=\"active\"><a href=\"https://www.naukri.com\" title=\"All Jobs\">All Jobs</a></li>,\n",
       " <li class=\" target_premiumLayer\"><a data-ga-track=\"IIT-IIM Jobs|IIT-IIM Jobs\" href=\"https://www.naukri.com/premium-jobs-for-iit-engineering-graduates\" title=\"IIT/IIM Jobs\">IIT/IIM Jobs</a></li>,\n",
       " <li><a data-ga-track=\"Govt Jobs|Govt Jobs\" href=\"https://www.naukri.com/psu-government-jobs\" title=\"Govt. Jobs\">Govt. Jobs</a></li>,\n",
       " <li><a data-ga-track=\"International Jobs|International Jobs\" href=\"https://www.naukri.com/international-jobs\" title=\"International Jobs\">International Jobs</a></li>,\n",
       " <li><a data-ga-track=\"GNBTopBand|WalkinJobs\" href=\"https://www.naukri.com/walkin-jobs\" title=\"Walk-in Jobs\">Walk-in Jobs</a></li>,\n",
       " <li> <a data-ga-track=\"SrpBreadCrumb|Home\" href=\"https://www.naukri.com\">Home</a> </li>,\n",
       " <li><span>Data science Jobs</span></li>,\n",
       " <li><a href=\"https://www.naukri.com/scientist-jobs\" qp=\"Scientist\" title=\"Scientist\">Scientist</a></li>,\n",
       " <li><a href=\"https://www.naukri.com/data-analyst-jobs\" qp=\"Data Analyst\" title=\"Data Analyst\">Data Analyst</a></li>,\n",
       " <li><a href=\"https://www.naukri.com/statistical-analyst-jobs\" qp=\"Statistical Analyst\" title=\"Statistical Analyst\">Statistical Analyst</a></li>,\n",
       " <li><a href=\"https://www.naukri.com/hadoop-developer-jobs\" qp=\"Hadoop Developer\" title=\"Hadoop Developer\">Hadoop Developer</a></li>,\n",
       " <li><a href=\"https://www.naukri.com/software-developer-jobs\" qp=\"Software Developer\" title=\"Software Developer\">Software Developer</a></li>,\n",
       " <li><a href=\"https://www.naukri.com/sas-analyst-jobs\" qp=\"SAS Analyst\" title=\"SAS Analyst\">SAS Analyst</a></li>,\n",
       " <li><a href=\"https://www.naukri.com/business-analyst-jobs\" qp=\"Business Analyst\" title=\"Business Analyst\">Business Analyst</a></li>,\n",
       " <li><a href=\"https://www.naukri.com/assistant-professor-jobs\" qp=\"Assistant Professor\" title=\"Assistant Professor\">Assistant Professor</a></li>,\n",
       " <li><a href=\"https://www.naukri.com/machine-learning-jobs\" qp=\"Machine Learning\" title=\"Machine Learning\">Machine Learning</a></li>,\n",
       " <li><a href=\"https://www.naukri.com/data-mining-jobs\" qp=\"Data Mining\" title=\"Data Mining\">Data Mining</a></li>,\n",
       " <li><a href=\"https://www.naukri.com/hadoop-jobs\" qp=\"Hadoop\" title=\"Hadoop\">Hadoop</a></li>,\n",
       " <li><a href=\"https://www.naukri.com/data-analytics-jobs\" qp=\"Data Analytics\" title=\"Data Analytics\">Data Analytics</a></li>,\n",
       " <li><a href=\"https://www.naukri.com/pig-jobs\" qp=\"Pig\" title=\"Pig\">Pig</a></li>,\n",
       " <li><a href=\"https://www.naukri.com/data-analysis-jobs\" qp=\"Data Analysis\" title=\"Data Analysis\">Data Analysis</a></li>,\n",
       " <li><a href=\"https://www.naukri.com/r-jobs\" qp=\"R\" title=\"R\">R</a></li>,\n",
       " <li class=\" item\" rel=\"f\">Date</li>,\n",
       " <li class=\"sel item\" rel=\"r\">Relevance</li>,\n",
       " <li class=\"desig\" title=\"Data Science\">Data Science</li>,\n",
       " <li class=\"desig\" title=\"Analyst / Sr. Analyst (data Science)\">Analyst / Sr. Analyst (data Science)</li>,\n",
       " <li class=\"desig\" title=\"Group Manager - Data Science - Python/nlp\">Group Manager - Data Science - Python/nlp</li>,\n",
       " <li class=\"desig\" title=\"Solution Architect - Data Science\">Solution Architect - Data Science</li>,\n",
       " <li class=\"desig\" title=\"Director - Data Science\">Director - Data Science</li>,\n",
       " <li class=\"desig\" title=\"Data Science Engineer - Machine Learning\">Data Science Engineer - Machine Learning</li>,\n",
       " <li class=\"desig\" title=\"Data Science Research Manager - IT\">Data Science Research Manager - IT</li>,\n",
       " <li class=\"desig\" title=\"Opening For FULL / PART TIME Trainer in DATA Science/ Machine Learning\">Opening For FULL / PART TIME Trainer in DATA Science/ Machine Learning</li>,\n",
       " <li class=\"desig\" title=\"ETL Lead &amp; Data Science\">ETL Lead &amp; Data Science</li>,\n",
       " <li class=\"desig\" title=\"Specialist - Data Science\">Specialist - Data Science</li>,\n",
       " <li class=\"desig\" title=\"Manager - Operations - Data Science Course - Edtech\">Manager - Operations - Data Science Course - Edtech</li>,\n",
       " <li class=\"desig\" title=\"Walk-in Drive for Data Science on 29th Sep @ Bangalore\">Walk-in Drive for Data Science on 29th Sep @ Bangalore</li>,\n",
       " <li class=\"desig\" title=\"Immediate Requirement for Data Science Trainer/faculty\">Immediate Requirement for Data Science Trainer/faculty</li>,\n",
       " <li class=\"desig\" title=\"Data Analyst / Data Science - Excel,sql,sas,python, R - Analytics Team\">Data Analyst / Data Science - Excel,sql,sas,python, R - Analytics Team</li>,\n",
       " <li class=\"desig\" title=\"Data Science Engineer\">Data Science Engineer</li>,\n",
       " <li class=\"desig\" title=\"Director (Grade F) - Data Sciences Lab\">Director (Grade F) - Data Sciences Lab</li>,\n",
       " <li class=\"desig\" title=\"Trainee Data Science\">Trainee Data Science</li>,\n",
       " <li class=\"desig\" title=\"Talent Search Consultant - Data Science &amp; Analytics\">Talent Search Consultant - Data Science &amp; Analytics</li>,\n",
       " <li class=\"desig\" title=\"Senior Consultant (data Sciences)\">Senior Consultant (data Sciences)</li>,\n",
       " <li class=\"desig\" title=\"Data Science Manager\">Data Science Manager</li>,\n",
       " <li class=\"desig\" title=\"Data Science\">Data Science</li>,\n",
       " <li class=\"desig\" title=\"Data Science Analytics Trainer - Part Time (weekends Only)\">Data Science Analytics Trainer - Part Time (weekends Only)</li>,\n",
       " <li class=\"desig\" title=\"Strategic Project &amp; Operations - Data Science Associate\">Strategic Project &amp; Operations - Data Science Associate</li>,\n",
       " <li class=\"desig\" title=\"Data Science Engineer\">Data Science Engineer</li>,\n",
       " <li class=\"desig\" title=\"Associate Project Manager- Data Science\">Associate Project Manager- Data Science</li>,\n",
       " <li class=\"desig\" title=\"Head - Data Science &amp; Analytics - Financial Services\">Head - Data Science &amp; Analytics - Financial Services</li>,\n",
       " <li class=\"desig\" title=\"Data Science Engineer - Machine Learning/r\">Data Science Engineer - Machine Learning/r</li>,\n",
       " <li class=\"desig\" title=\"Data Science/data Scientist - Machine Learning\">Data Science/data Scientist - Machine Learning</li>,\n",
       " <li class=\"desig\" title=\"Urgent Hiring for Full Time Trainer in DATA Science/ Machine Learning\">Urgent Hiring for Full Time Trainer in DATA Science/ Machine Learning</li>,\n",
       " <li class=\"desig\" title=\"Data Science Trainer / Bigdata Hadoop Trainer in a Leading IT Company\">Data Science Trainer / Bigdata Hadoop Trainer in a Leading IT Company</li>,\n",
       " <li class=\"desig\" title=\"Data Science Engineer @ Pune\">Data Science Engineer @ Pune</li>,\n",
       " <li class=\"desig\" title=\"SPi Technology - DATA Science Company - Looking for DATA Scientists\">SPi Technology - DATA Science Company - Looking for DATA Scientists</li>,\n",
       " <li class=\"desig\" title=\"Cyber Security Data Science Engineer\">Cyber Security Data Science Engineer</li>,\n",
       " <li class=\"desig\" title=\"Data Science Trainer\">Data Science Trainer</li>,\n",
       " <li class=\"desig\" title=\"Big Data, Data Science and AI Engineer\">Big Data, Data Science and AI Engineer</li>,\n",
       " <li class=\"desig\" title=\"Data Science  - 3+ Years of exp , Chennai\">Data Science  - 3+ Years of exp , Chennai</li>,\n",
       " <li class=\"desig\" title=\"Data Science/ Python Developer\">Data Science/ Python Developer</li>,\n",
       " <li class=\"desig\" title=\"Data Science (jupyter/azure Ml/matlab)\">Data Science (jupyter/azure Ml/matlab)</li>,\n",
       " <li class=\"desig\" title=\"Data Science (jupyter/azure Ml/matlab)\">Data Science (jupyter/azure Ml/matlab)</li>,\n",
       " <li class=\"desig\" title=\"Data Science (jupyter/azure Ml/matlab)\">Data Science (jupyter/azure Ml/matlab)</li>,\n",
       " <li class=\"desig\" title=\"Data Science,machine Learning, NLP, SAS, R, Mongodb,nosql\">Data Science,machine Learning, NLP, SAS, R, Mongodb,nosql</li>,\n",
       " <li class=\"desig\" title=\"Data Science (jupyter/azure Ml/matlab)\">Data Science (jupyter/azure Ml/matlab)</li>,\n",
       " <li class=\"desig\" title=\"Data Science Associate Consultant (pune, India)\">Data Science Associate Consultant (pune, India)</li>,\n",
       " <li class=\"desig\" title=\"Data Science Associate Consultant\">Data Science Associate Consultant</li>,\n",
       " <li class=\"desig\" title=\"Data Science Lead\">Data Science Lead</li>,\n",
       " <li class=\"desig\" title=\"Data Science Manager\">Data Science Manager</li>,\n",
       " <li class=\"desig\" title=\"Head - Data Science/enterprise AI - PhD\">Head - Data Science/enterprise AI - PhD</li>,\n",
       " <li class=\"desig\" title=\"Data Science Engineer - Machine Learning\">Data Science Engineer - Machine Learning</li>,\n",
       " <li class=\"desig\" title=\"Data Science for Banking\">Data Science for Banking</li>,\n",
       " <li class=\"desig\" title=\"Director of Data Science\">Director of Data Science</li>,\n",
       " <li bind=\"tabJ-0\" class=\"active\">Bangalore</li>,\n",
       " <li bind=\"tabJ-1\">Delhi NCR</li>,\n",
       " <li bind=\"tabJ-2\">Hyderabad Secunderabad</li>,\n",
       " <li bind=\"tabJ-3\">Mumbai</li>,\n",
       " <li bind=\"tabJ-4\">Chennai</li>,\n",
       " <li bind=\"tabJ-5\">Pune</li>,\n",
       " <li bind=\"tabJ-6\">Kolkata</li>,\n",
       " <li bind=\"tabJ-7\">Ahmedabad</li>,\n",
       " <li bind=\"tabJ-8\">Gurgaon</li>,\n",
       " <li bind=\"tabJ-9\">Noida</li>,\n",
       " <li bind=\"tabJ-10\">All Jobs</li>,\n",
       " <li class=\"header\"> <a target=\"_blank\">Information</a> </li>,\n",
       " <li> <a href=\"http://infoedge.in\" target=\"_blank\" title=\"About Us\">About Us</a> </li>,\n",
       " <li> <a href=\"https://www.naukri.com/termsconditions\" target=\"_blank\" title=\"Terms &amp; Conditions\">Terms &amp; Conditions</a> </li>,\n",
       " <li> <a href=\"https://www.naukri.com/privacypolicy\" target=\"_blank\" title=\"Privacy Policy\">Privacy Policy</a> </li>,\n",
       " <li> <a href=\"http://careers.naukri.com\" target=\"_blank\" title=\"Careers with Us\">Careers with Us</a> </li>,\n",
       " <li> <a href=\"https://www.naukri.com/sitemap/sitemap.php\" target=\"_blank\" title=\"Sitemap\">Sitemap</a> </li>,\n",
       " <li> <a href=\"https://www.naukri.com/mynaukri/mn_contactus.php\" target=\"_blank\" title=\"Contact Us\">Contact Us</a> </li>,\n",
       " <li> <a href=\"https://my.naukri.com/faq/faq.php\" target=\"_blank\" title=\"FAQs\">FAQs</a> </li>,\n",
       " <li> <a href=\"https://w5.naukri.com/summons-notices-form/\" target=\"_blank\" title=\"Summons/Notices\">Summons / Notices</a> </li>,\n",
       " <li> <a href=\"https://w5.naukri.com/grievances-form/\" target=\"_blank\" title=\"Grievances\">Grievances</a> </li>,\n",
       " <li> <a href=\"https://company.naukri.com/landing-page/fakejobtrend/new/index.html\" target=\"_blank\" title=\"Fraud Alert\">Fraud Alert</a> </li>,\n",
       " <li> <a href=\"https://www.naukri.com/jobsearch/trust-safety\" target=\"_blank\" title=\"Trust and Safety\">Trust and Safety</a> </li>,\n",
       " <li class=\"header\"> <a target=\"_blank\">Jobseekers</a> </li>,\n",
       " <li> <a href=\"https://www.naukri.com/tieups/tieups.php?othersrcp=24167&amp;id=\" target=\"_blank\" title=\"Register Now\">Register Now</a> </li>,\n",
       " <li> <a data-domain=\"https://www.naukri.com/\" href=\"https://www.naukri.com/advanced-search\" target=\"_blank\" title=\"Search Jobs\">Search Jobs</a></li>,\n",
       " <li> <a href=\"https://login.naukri.com/nLogin/Login.php\" target=\"_blank\" title=\"Login\">Login</a> </li>,\n",
       " <li> <a href=\"https://www.naukri.com/free-job-alerts\" target=\"_blank\" title=\"Create Job Alert\">Create Job Alert</a></li>,\n",
       " <li> <a href=\"https://w5.naukri.com/fdbck/main/feedback.php?app_id=15\" target=\"_blank\" title=\"Report a Problem\">Report a Problem</a> </li>,\n",
       " <li> <a href=\"http://blogs.naukri.com\" target=\"_blank\" title=\"Blogs\">Blogs</a> </li>,\n",
       " <li> <a href=\"https://my.naukri.com/faq/faq.php?pgid=9\" target=\"_blank\" title=\"Security Advice\">Security Advice</a> </li>,\n",
       " <li> <a href=\"https://www.naukri.com?env=en_mobile\" style=\"padding-bottom:20px\" title=\"Mobile Site\">Mobile Site</a></li>,\n",
       " <li class=\"header\"> <a target=\"_blank\">Fast Forward</a> </li>,\n",
       " <li> <a href=\"https://resume.naukri.com/resume-writing-for-freshers-entry-level?fftid=reswriting_220001\" target=\"_blank\" title=\"Resume Writing\">Resume Writing</a> </li>,\n",
       " <li> <a href=\"https://e-learning.naukri.com/?&amp;id=&amp;fftid=profileenhancement_220002\" target=\"_blank\" title=\"Profile Enhancement\">Profile Enhancement</a> </li>,\n",
       " <li> <a href=\"https://resume.naukri.com/contact-recruiters-hr?&amp;id=&amp;fftid=recruiter_reach_220003\" target=\"_blank\" title=\"Recruiter Reach\">Recruiter Reach</a> </li>,\n",
       " <li> <a href=\"https://resume.naukri.com/job-alerts-on-mobile-mail?&amp;id=&amp;fftid=jobs4u_220004\" target=\"_blank\" title=\"Jobs For You\">Jobs For You</a> </li>,\n",
       " <li> <a href=\"https://resume.naukri.com/interview-preparation-tips?fftid=201021\" target=\"_blank\" title=\"Interview Pro.\">Interview Pro.</a> </li>,\n",
       " <li class=\"header\"> <a target=\"_blank\">Browse Jobs</a> </li>,\n",
       " <li> <a href=\"https://www.naukri.com/browse-jobs\" target=\"_blank\" title=\"Browse All Jobs\">Browse All Jobs</a> </li>,\n",
       " <li> <a href=\"https://www.naukri.com/premium-jobs-for-iim-mba-graduates\" target=\"_blank\" title=\"Premium MBA Jobs for IIM Graduates\">Premium MBA Jobs</a> </li>,\n",
       " <li> <a href=\"https://www.naukri.com/premium-jobs-for-iit-engineering-graduates\" target=\"_blank\" title=\"Premium Engineering Jobsi for IIT Graduates\">Premium Engineering Jobs</a> </li>,\n",
       " <li> <a href=\"https://www.naukri.com/psu-government-jobs\" target=\"_blank\" title=\"Govt. Jobs\">Govt. Jobs</a> </li>,\n",
       " <li> <a href=\"https://www.naukri.com/international-jobs\" target=\"_blank\" title=\"International Jobs\">International Jobs</a> </li>,\n",
       " <li> <a href=\"https://www.naukrigulf.com\" target=\"_blank\" title=\"Jobs in Gulf\">Jobs in Gulf</a> </li>,\n",
       " <li> <a href=\"https://www.naukri.com/top-company-jobs\" target=\"_blank\" title=\"Jobs by Company\">Jobs by Company</a> </li>,\n",
       " <li> <a href=\"https://www.naukri.com/jobs-by-category\" target=\"_blank\" title=\"Jobs by Category\">Jobs by Category</a> </li>,\n",
       " <li> <a href=\"https://www.naukri.com/top-jobs-by-designations\" target=\"_blank\" title=\"Jobs by Designation\">Jobs by Designation</a> </li>,\n",
       " <li> <a href=\"https://www.naukri.com/jobs-by-location\" target=\"_blank\" title=\"Jobs by Location\">Jobs by Location</a> </li>,\n",
       " <li> <a href=\"https://www.naukri.com/top-skill-jobs\" style=\"padding-bottom:20px\" target=\"_blank\" title=\"Jobs by Skill\">Jobs by Skill</a> </li>,\n",
       " <li class=\"header\"> <a target=\"_blank\">Naukri on Mobile</a> </li>,\n",
       " <li> <a href=\"https://play.google.com/store/apps/details?id=naukriApp.appModules.login&amp;hl=en&amp;utm_source=naukri&amp;utm_medium=footer\" target=\"_blank\" title=\"Get it on Google Play\">Get it on Google Play</a> </li>,\n",
       " <li> <a href=\"https://itunes.apple.com/in/app/naukri.com-job-search/id482877505?mt=8\" target=\"_blank\" title=\"Download on App Store\">Download on App Store</a> </li>,\n",
       " <li class=\"header\"> <a target=\"_blank\">Employers</a> </li>,\n",
       " <li> <a href=\"https://recruit.naukri.com/rCommerce/learn/posting\" target=\"_blank\" title=\"Post Jobs\">Post Jobs</a> </li>,\n",
       " <li> <a href=\"https://recruit.naukri.com/rCommerce/learn/resdex\" target=\"_blank\" title=\"Access Database\">Access Database</a> </li>,\n",
       " <li> <a href=\"https://recruit.naukri.com/\" target=\"_blank\" title=\"Manage Responses\">Manage Responses</a> </li>,\n",
       " <li> <a href=\"https://www.naukrirms.com/\" target=\"_blank\" title=\"Recruitment Software, inclusive of Applicant Tracking System\">Naukri RMS</a> </li>,\n",
       " <li> <a href=\"https://recruit.naukri.com/rCommerce/demo/buy\" target=\"_blank\" title=\"Buy Online\">Buy Online</a> </li>,\n",
       " <li> <a href=\"https://w5.naukri.com/fdbck/main/feedback.php?app_id=18\" target=\"_blank\" title=\"Report a Problem\">Report a Problem</a> </li>,\n",
       " <li class=\"textual\"> <a>Recruiters from USA, call</a> </li>,\n",
       " <li class=\"textual\"> <a target=\"_blank\">Toll Free # 1866-557-3340</a> </li>,\n",
       " <li class=\"header\"> <a target=\"_blank\">Ambition Box</a> </li>,\n",
       " <li> <a href=\"http://ambitionbox.com/interviews?utm_source=naukri&amp;utm_medium=footer\" target=\"_blank\" title=\"Interview Questions\">Interview Questions</a> </li>,\n",
       " <li> <a href=\"http://ambitionbox.com/companies?utm_source=naukri&amp;utm_medium=footer\" rel=\"noindex nofollow\" target=\"_blank\" title=\"About Companies\">About Companies</a> </li>,\n",
       " <li> <a href=\"http://ambitionbox.com/contribute?utm_source=naukri&amp;utm_medium=footer\" target=\"_blank\" title=\"Share Interview Story\">Share Interview Story</a> </li>,\n",
       " <li> <a href=\"http://ambitionbox.com/contribute?review_name=CompanyReview&amp;utm_source=naukri&amp;utm_medium=footer\" target=\"_blank\" title=\"Write Company Review\">Write Company Review</a> </li>,\n",
       " <li> <a href=\"http://ambitionbox.com/reviews?utm_source=naukri&amp;utm_medium=footer\" target=\"_blank\" title=\"Company Reviews\">Company Reviews</a> </li>,\n",
       " <li class=\"item\"><a class=\"nnacres\" href=\"http://www.99acres.com/\" target=\"_blank\"></a> </li>,\n",
       " <li class=\"item\"><a class=\"jeevansathi\" href=\"http://www.jeevansathi.com/\" target=\"_blank\"></a> </li>,\n",
       " <li class=\"item\"><a class=\"ng\" href=\"http://www.naukrigulf.com/\" target=\"_blank\"></a> </li>,\n",
       " <li class=\"item\"><a class=\"firstNaukri\" href=\"http://www.firstnaukri.com/\" target=\"_blank\"></a> </li>,\n",
       " <li class=\"item\"><a class=\"brijj\" href=\"http://www.brijj.com/\" target=\"_blank\"></a> </li>,\n",
       " <li class=\"item\"><a class=\"allChkDeal\" href=\"http://www.allcheckdeals.com/\" target=\"_blank\"></a> </li>,\n",
       " <li class=\"item\"><a class=\"shiksha\" href=\"http://www.shiksha.com/\" target=\"_blank\"></a> </li>,\n",
       " <li class=\"item\"><a class=\"policyBazaar\" href=\"https://www.policybazaar.com/\" target=\"_blank\"></a> </li>,\n",
       " <li class=\"item\"><a class=\"zomato\" href=\"http://www.zomato.com\" target=\"_blank\"></a> </li>,\n",
       " <li class=\"item\"><a class=\"meritnation\" href=\"http://www.meritnation.com/\" target=\"_blank\"></a> </li>,\n",
       " <li class=\"item\"><a class=\"mydalal\" href=\"http://www.mydala.com/\" target=\"_blank\"></a> </li>,\n",
       " <li class=\"item\"><a class=\"paisaBazaar\" href=\"http://www.paisabazaar.com/\" target=\"_blank\"></a> </li>]"
      ]
     },
     "execution_count": 8,
     "metadata": {},
     "output_type": "execute_result"
    }
   ],
   "source": [
    "# To find the all the content in li tag\n",
    "bs_obj.findAll('li')"
   ]
  },
  {
   "cell_type": "code",
   "execution_count": 9,
   "metadata": {},
   "outputs": [
    {
     "data": {
      "text/plain": [
       "[<li class=\"desig\" title=\"Data Science\">Data Science</li>,\n",
       " <li class=\"desig\" title=\"Analyst / Sr. Analyst (data Science)\">Analyst / Sr. Analyst (data Science)</li>,\n",
       " <li class=\"desig\" title=\"Group Manager - Data Science - Python/nlp\">Group Manager - Data Science - Python/nlp</li>,\n",
       " <li class=\"desig\" title=\"Solution Architect - Data Science\">Solution Architect - Data Science</li>,\n",
       " <li class=\"desig\" title=\"Director - Data Science\">Director - Data Science</li>,\n",
       " <li class=\"desig\" title=\"Data Science Engineer - Machine Learning\">Data Science Engineer - Machine Learning</li>,\n",
       " <li class=\"desig\" title=\"Data Science Research Manager - IT\">Data Science Research Manager - IT</li>,\n",
       " <li class=\"desig\" title=\"Opening For FULL / PART TIME Trainer in DATA Science/ Machine Learning\">Opening For FULL / PART TIME Trainer in DATA Science/ Machine Learning</li>,\n",
       " <li class=\"desig\" title=\"ETL Lead &amp; Data Science\">ETL Lead &amp; Data Science</li>,\n",
       " <li class=\"desig\" title=\"Specialist - Data Science\">Specialist - Data Science</li>,\n",
       " <li class=\"desig\" title=\"Manager - Operations - Data Science Course - Edtech\">Manager - Operations - Data Science Course - Edtech</li>,\n",
       " <li class=\"desig\" title=\"Walk-in Drive for Data Science on 29th Sep @ Bangalore\">Walk-in Drive for Data Science on 29th Sep @ Bangalore</li>,\n",
       " <li class=\"desig\" title=\"Immediate Requirement for Data Science Trainer/faculty\">Immediate Requirement for Data Science Trainer/faculty</li>,\n",
       " <li class=\"desig\" title=\"Data Analyst / Data Science - Excel,sql,sas,python, R - Analytics Team\">Data Analyst / Data Science - Excel,sql,sas,python, R - Analytics Team</li>,\n",
       " <li class=\"desig\" title=\"Data Science Engineer\">Data Science Engineer</li>,\n",
       " <li class=\"desig\" title=\"Director (Grade F) - Data Sciences Lab\">Director (Grade F) - Data Sciences Lab</li>,\n",
       " <li class=\"desig\" title=\"Trainee Data Science\">Trainee Data Science</li>,\n",
       " <li class=\"desig\" title=\"Talent Search Consultant - Data Science &amp; Analytics\">Talent Search Consultant - Data Science &amp; Analytics</li>,\n",
       " <li class=\"desig\" title=\"Senior Consultant (data Sciences)\">Senior Consultant (data Sciences)</li>,\n",
       " <li class=\"desig\" title=\"Data Science Manager\">Data Science Manager</li>,\n",
       " <li class=\"desig\" title=\"Data Science\">Data Science</li>,\n",
       " <li class=\"desig\" title=\"Data Science Analytics Trainer - Part Time (weekends Only)\">Data Science Analytics Trainer - Part Time (weekends Only)</li>,\n",
       " <li class=\"desig\" title=\"Strategic Project &amp; Operations - Data Science Associate\">Strategic Project &amp; Operations - Data Science Associate</li>,\n",
       " <li class=\"desig\" title=\"Data Science Engineer\">Data Science Engineer</li>,\n",
       " <li class=\"desig\" title=\"Associate Project Manager- Data Science\">Associate Project Manager- Data Science</li>,\n",
       " <li class=\"desig\" title=\"Head - Data Science &amp; Analytics - Financial Services\">Head - Data Science &amp; Analytics - Financial Services</li>,\n",
       " <li class=\"desig\" title=\"Data Science Engineer - Machine Learning/r\">Data Science Engineer - Machine Learning/r</li>,\n",
       " <li class=\"desig\" title=\"Data Science/data Scientist - Machine Learning\">Data Science/data Scientist - Machine Learning</li>,\n",
       " <li class=\"desig\" title=\"Urgent Hiring for Full Time Trainer in DATA Science/ Machine Learning\">Urgent Hiring for Full Time Trainer in DATA Science/ Machine Learning</li>,\n",
       " <li class=\"desig\" title=\"Data Science Trainer / Bigdata Hadoop Trainer in a Leading IT Company\">Data Science Trainer / Bigdata Hadoop Trainer in a Leading IT Company</li>,\n",
       " <li class=\"desig\" title=\"Data Science Engineer @ Pune\">Data Science Engineer @ Pune</li>,\n",
       " <li class=\"desig\" title=\"SPi Technology - DATA Science Company - Looking for DATA Scientists\">SPi Technology - DATA Science Company - Looking for DATA Scientists</li>,\n",
       " <li class=\"desig\" title=\"Cyber Security Data Science Engineer\">Cyber Security Data Science Engineer</li>,\n",
       " <li class=\"desig\" title=\"Data Science Trainer\">Data Science Trainer</li>,\n",
       " <li class=\"desig\" title=\"Big Data, Data Science and AI Engineer\">Big Data, Data Science and AI Engineer</li>,\n",
       " <li class=\"desig\" title=\"Data Science  - 3+ Years of exp , Chennai\">Data Science  - 3+ Years of exp , Chennai</li>,\n",
       " <li class=\"desig\" title=\"Data Science/ Python Developer\">Data Science/ Python Developer</li>,\n",
       " <li class=\"desig\" title=\"Data Science (jupyter/azure Ml/matlab)\">Data Science (jupyter/azure Ml/matlab)</li>,\n",
       " <li class=\"desig\" title=\"Data Science (jupyter/azure Ml/matlab)\">Data Science (jupyter/azure Ml/matlab)</li>,\n",
       " <li class=\"desig\" title=\"Data Science (jupyter/azure Ml/matlab)\">Data Science (jupyter/azure Ml/matlab)</li>,\n",
       " <li class=\"desig\" title=\"Data Science,machine Learning, NLP, SAS, R, Mongodb,nosql\">Data Science,machine Learning, NLP, SAS, R, Mongodb,nosql</li>,\n",
       " <li class=\"desig\" title=\"Data Science (jupyter/azure Ml/matlab)\">Data Science (jupyter/azure Ml/matlab)</li>,\n",
       " <li class=\"desig\" title=\"Data Science Associate Consultant (pune, India)\">Data Science Associate Consultant (pune, India)</li>,\n",
       " <li class=\"desig\" title=\"Data Science Associate Consultant\">Data Science Associate Consultant</li>,\n",
       " <li class=\"desig\" title=\"Data Science Lead\">Data Science Lead</li>,\n",
       " <li class=\"desig\" title=\"Data Science Manager\">Data Science Manager</li>,\n",
       " <li class=\"desig\" title=\"Head - Data Science/enterprise AI - PhD\">Head - Data Science/enterprise AI - PhD</li>,\n",
       " <li class=\"desig\" title=\"Data Science Engineer - Machine Learning\">Data Science Engineer - Machine Learning</li>,\n",
       " <li class=\"desig\" title=\"Data Science for Banking\">Data Science for Banking</li>,\n",
       " <li class=\"desig\" title=\"Director of Data Science\">Director of Data Science</li>]"
      ]
     },
     "execution_count": 9,
     "metadata": {},
     "output_type": "execute_result"
    }
   ],
   "source": [
    "bs_obj.findAll('li',{'class' : 'desig'})"
   ]
  },
  {
   "cell_type": "code",
   "execution_count": 11,
   "metadata": {},
   "outputs": [
    {
     "name": "stdout",
     "output_type": "stream",
     "text": [
      "50\n",
      "[<li class=\"desig\" title=\"Analyst / Sr. Analyst (data Science)\">Analyst / Sr. Analyst (data Science)</li>, <li class=\"desig\" title=\"Group Manager - Data Science - Python/nlp\">Group Manager - Data Science - Python/nlp</li>, <li class=\"desig\" title=\"Solution Architect - Data Science\">Solution Architect - Data Science</li>]\n"
     ]
    }
   ],
   "source": [
    "print(len(bs_obj.findAll('li' , {'class' : 'desig'})))\n",
    "print(bs_obj.findAll('li' , {'class' : 'desig'})[1:4])"
   ]
  },
  {
   "cell_type": "code",
   "execution_count": 12,
   "metadata": {},
   "outputs": [
    {
     "name": "stdout",
     "output_type": "stream",
     "text": [
      "Data Science\n",
      "Analyst / Sr. Analyst (data Science)\n",
      "Group Manager - Data Science - Python/nlp\n",
      "Solution Architect - Data Science\n",
      "Director - Data Science\n",
      "Data Science Engineer - Machine Learning\n",
      "Data Science Research Manager - IT\n",
      "Opening For FULL / PART TIME Trainer in DATA Science/ Machine Learning\n",
      "ETL Lead & Data Science\n",
      "Specialist - Data Science\n",
      "Manager - Operations - Data Science Course - Edtech\n",
      "Walk-in Drive for Data Science on 29th Sep @ Bangalore\n",
      "Immediate Requirement for Data Science Trainer/faculty\n",
      "Data Analyst / Data Science - Excel,sql,sas,python, R - Analytics Team\n",
      "Data Science Engineer\n",
      "Director (Grade F) - Data Sciences Lab\n",
      "Trainee Data Science\n",
      "Talent Search Consultant - Data Science & Analytics\n",
      "Senior Consultant (data Sciences)\n",
      "Data Science Manager\n",
      "Data Science\n",
      "Data Science Analytics Trainer - Part Time (weekends Only)\n",
      "Strategic Project & Operations - Data Science Associate\n",
      "Data Science Engineer\n",
      "Associate Project Manager- Data Science\n",
      "Head - Data Science & Analytics - Financial Services\n",
      "Data Science Engineer - Machine Learning/r\n",
      "Data Science/data Scientist - Machine Learning\n",
      "Urgent Hiring for Full Time Trainer in DATA Science/ Machine Learning\n",
      "Data Science Trainer / Bigdata Hadoop Trainer in a Leading IT Company\n",
      "Data Science Engineer @ Pune\n",
      "SPi Technology - DATA Science Company - Looking for DATA Scientists\n",
      "Cyber Security Data Science Engineer\n",
      "Data Science Trainer\n",
      "Big Data, Data Science and AI Engineer\n",
      "Data Science  - 3+ Years of exp , Chennai\n",
      "Data Science/ Python Developer\n",
      "Data Science (jupyter/azure Ml/matlab)\n",
      "Data Science (jupyter/azure Ml/matlab)\n",
      "Data Science (jupyter/azure Ml/matlab)\n",
      "Data Science,machine Learning, NLP, SAS, R, Mongodb,nosql\n",
      "Data Science (jupyter/azure Ml/matlab)\n",
      "Data Science Associate Consultant (pune, India)\n",
      "Data Science Associate Consultant\n",
      "Data Science Lead\n",
      "Data Science Manager\n",
      "Head - Data Science/enterprise AI - PhD\n",
      "Data Science Engineer - Machine Learning\n",
      "Data Science for Banking\n",
      "Director of Data Science\n"
     ]
    }
   ],
   "source": [
    "for job in bs_obj.findAll('li',{'class':'desig'}):\n",
    "    print(job.get('title'))\n",
    "# to get the title from the bs_obj"
   ]
  },
  {
   "cell_type": "code",
   "execution_count": 59,
   "metadata": {},
   "outputs": [
    {
     "data": {
      "text/plain": [
       "['Data Science Research Manager - IT',\n",
       " 'Opening For FULL / PART TIME Trainer in DATA Science/ Machine Learning',\n",
       " 'Data Science Engineer',\n",
       " 'Immediate Requirement for Data Science Trainer/faculty',\n",
       " 'Data Science',\n",
       " 'Data Science Engineer',\n",
       " 'Talent Search Consultant - Data Science & Analytics',\n",
       " 'Marketing Data Science Professional - SAS - Consulting Firm',\n",
       " 'Senior Consultant (data Sciences)',\n",
       " 'Trainee Data Science',\n",
       " 'Analyst / Sr. Analyst (data Science)',\n",
       " 'Data Science Analytics Trainer - Part Time (weekends Only)',\n",
       " 'Strategic Project & Operations - Data Science Associate',\n",
       " 'Associate Project Manager- Data Science',\n",
       " 'Head - Data Science & Analytics - Financial Services',\n",
       " 'Urgent Hiring for Full Time Trainer in DATA Science/ Machine Learning',\n",
       " 'Hiring for Sr. Engineer-data Science@value First Digital',\n",
       " 'Strategic Project & Operations Analyst - Data Science',\n",
       " 'Strategic Project & Operations - Data Science Associate',\n",
       " 'Data Science Trainer / Bigdata Hadoop Trainer in a Leading IT Company',\n",
       " 'Hexaware: Walk-in Drive for Data Science on 22nd SEP @ Chennai',\n",
       " 'Hexaware - Walk-in Drive for BIG DATA & Data Science on 22nd Sep',\n",
       " 'Head of Data Science (chief Data Scientist)',\n",
       " 'Opportunity for Data Science with Python - Bangalore...',\n",
       " 'Data Science Openings for Top MNC, Banglore.',\n",
       " 'SPi Technology - DATA Science Company - Looking for DATA Scientists',\n",
       " 'Data Science Engineer - Machine Learning/r',\n",
       " 'Data Science/data Scientist - Machine Learning',\n",
       " 'Cyber Security Data Science Engineer',\n",
       " 'Data Science Trainer',\n",
       " 'Big Data, Data Science and AI Engineer',\n",
       " 'Data Science  - 3+ Years of exp , Chennai',\n",
       " 'Senior Data Science Analytics Developer',\n",
       " 'Data Science Engineer @ Pune',\n",
       " 'Head - Data Science/enterprise AI - PhD',\n",
       " 'Data Science Engineer - Machine Learning',\n",
       " 'Data Science for Banking',\n",
       " 'Asst. Professor / Research Scholar with Aegis School of Data Science',\n",
       " 'Data Science/ Python Developer',\n",
       " 'Data Science (jupyter/azure Ml/matlab)',\n",
       " 'Data Science (jupyter/azure Ml/matlab)',\n",
       " 'Data Science (jupyter/azure Ml/matlab)',\n",
       " 'Data Science,machine Learning, NLP, SAS, R, Mongodb,nosql',\n",
       " 'DGM- Operation Research and Forecasting(data Science)',\n",
       " 'Data Science (jupyter/azure Ml/matlab)',\n",
       " 'Data Science Associate Consultant (pune, India)',\n",
       " 'Data Science Associate Consultant',\n",
       " 'Data Science Lead',\n",
       " 'Data Science Manager',\n",
       " 'Manager Data Science AI ML, Hyderabad / Chennai']"
      ]
     },
     "execution_count": 59,
     "metadata": {},
     "output_type": "execute_result"
    }
   ],
   "source": [
    "title = []\n",
    "for job in bs_obj.findAll('li',{'class':'desig'}):\n",
    "    #title.append(job.get('title'))\n",
    "    k = (job.getText()).strip()\n",
    "    title.append(k)\n",
    "# to get the title from the bs_obj\n",
    "title"
   ]
  },
  {
   "cell_type": "code",
   "execution_count": 58,
   "metadata": {},
   "outputs": [
    {
     "data": {
      "text/plain": [
       "['- Working experience with machine learning algorithms: linear/logistic regression, random forest, ...',\n",
       " 'Experience of data warehousing technologies including data modeling, ETL and reporting, end-to-end data ...',\n",
       " '2-5 years of progressive experience in building complex data analytics solution;2-5 years of progressive ...',\n",
       " 'Experience with common data science toolkits, such as R, Weka, NumPy, MatLab, etc;Experience with data ...',\n",
       " '- Expertise in Excel and SQL required, experience with data visualization software (e.g;- 2+ years ...',\n",
       " 'Experience in productionizing the machine learning models for analytics-based SaaS (Software as a ...',\n",
       " 'Strong experience on providing predictive modelling solutions to clients;Good understanding of ...',\n",
       " 'Classes need to be conducted only in weekends - 3 hrs on Saturday AND 3 hours on Sunday in different ...',\n",
       " 'Should have managed 10-20 team member projects;Should have exp in leading a team;Have experience in ...',\n",
       " '- Incumbent must have Operational understanding includes classical regression, statistical methods like ...',\n",
       " 'The role need to understand the business problem, define data requirement, work on data set, build and ...',\n",
       " 'Candidates should have experience or interest in tackling data-related finance issues, analytics and ...',\n",
       " '- Around 10+ years of professional experience in Analytics including strong retail analytics experience ...',\n",
       " 'We have an opportunity with one of the leading CMMI Level 5 company as follows: ...',\n",
       " 'Pay slips{Please, send me atleast any one Month payslips for current and previous organizations}: ...',\n",
       " 'Demonstrated capability to pick up required software ...',\n",
       " 'BS/ MS in computer science, software engineering, statistics, calculus and algebra or related field ...',\n",
       " 'Contribute to the improvement of  data science infrastructure, incorporating the ground experience and ...',\n",
       " '1) Must have experience of working with cyber security products, in terms of development, cyber security ...',\n",
       " 'About 10+ years experience in Data Science/Machine Learning/Analytics;Should have proven skills in ...',\n",
       " 'Proven experience in working with Big Data, AI and Machine Learning ...',\n",
       " '3 + years experience with analytical software tools such as Python, R, SAS, Matlab;Qualified candidates ...',\n",
       " 'Experience using statistical computer languages (R, Python, SLQ, etc.) for querying and manipulate data ...',\n",
       " '- Pre-sales, solutioning, delivery experience;- Should have PnL Responsibility, People Management, ...',\n",
       " '1-5 years of work experience, prior experience in design high performance algorithms a must;Finance ...',\n",
       " 'Accenture Technology powers our clients businesses with innovative technologies established and emerging ...',\n",
       " 'These programs are jointly certified and delivered by Aegis association with IBM;Aegis School of ...',\n",
       " 'Should have 2+ years creating predictive models using advance machine learning;Should have an expert ...',\n",
       " 'At least 7 years of work experience as a data scientist;Experience with common d ata science toolkits, ...',\n",
       " 'Job Description  We are looking out for the position of DGM operation research and ...',\n",
       " 'Accenture Technology powers our clients businesses with innovative technologies established and emerging ...',\n",
       " 'High motivation, good work ethic and maturity;In lieu of a PhD, 3-5 years of relevant post-collegiate ...',\n",
       " 'Experience in applying machine learning techniques to real-world problems in a production environment ...',\n",
       " 'Liaise with the scrum master and scrum teams to promote good work practices and continuous improvement ...',\n",
       " 'Excellent oral and written communications skills and experience interacting with both business and IT ...']"
      ]
     },
     "execution_count": 58,
     "metadata": {},
     "output_type": "execute_result"
    }
   ],
   "source": [
    "i = 1\n",
    "desc = []\n",
    "for job in bs_obj.findAll('span',{'class':'desc'}):\n",
    "    #print(i,job.getText())\n",
    "    #i = i+1\n",
    "    #desc.append(job.getText())\n",
    "    k = (job.getText()).strip()\n",
    "    desc.append(k)\n",
    "# to get the title from the bs_obj\n",
    "desc"
   ]
  },
  {
   "cell_type": "code",
   "execution_count": 60,
   "metadata": {
    "scrolled": true
   },
   "outputs": [
    {
     "name": "stdout",
     "output_type": "stream",
     "text": [
      "['Not disclosed', '1,25,000 - 3,00,000 P.A.', 'Not disclosed', 'Not disclosed', 'Not disclosed', 'Not disclosed', '2,50,000 - 7,50,000 P.A.', 'Not disclosed', 'Not disclosed', '4,00,000 - 8,00,000 P.A.', '5,00,000 - 10,00,000 P.A.', 'Not disclosed', 'Not disclosed', 'Not disclosed', 'Not disclosed', '1,00,000 - 3,00,000 P.A.', 'Not disclosed', 'Not disclosed', 'Not disclosed', '1,25,000 - 4,00,000 P.A. Best salary as per Industry & ...', 'Not disclosed', 'Not disclosed', 'Not disclosed', '7,00,000 - 17,00,000 P.A.', 'Not disclosed', 'Not disclosed', 'Not disclosed', 'Not disclosed', 'Not disclosed', 'Not disclosed', 'Not disclosed', 'Not disclosed', 'Not disclosed', 'Not disclosed', 'Not disclosed', 'Not disclosed', 'Not disclosed', '4,00,000 - 8,00,000 P.A.', '4,00,000 - 7,50,000 P.A.', 'Not disclosed', 'Not disclosed', 'Not disclosed', 'Not disclosed', 'Not disclosed', 'Not disclosed', 'Not disclosed', 'Not disclosed', 'Not disclosed', 'Not disclosed', '22,50,000 - 35,00,000 P.A.']\n"
     ]
    }
   ],
   "source": [
    "i = 1\n",
    "salary = []\n",
    "for job in bs_obj.findAll('span',{'class':'salary'}):\n",
    "    #print(i,job.getText())\n",
    "    #i = i+1\n",
    "    k = (job.getText()).strip()\n",
    "    salary.append(k)\n",
    "print(salary)"
   ]
  },
  {
   "cell_type": "code",
   "execution_count": 62,
   "metadata": {},
   "outputs": [],
   "source": [
    "# missing value in the job desc"
   ]
  },
  {
   "cell_type": "code",
   "execution_count": 66,
   "metadata": {},
   "outputs": [],
   "source": [
    "# Approach 2\n",
    "# Scrape  information\n",
    "import pandas as pd\n",
    "jobs = pd.DataFrame(columns = ['title','designation',\n",
    "                              'location','description',\n",
    "                             'salary','posted_date',\n",
    "                              'skills','company',\n",
    "                              'required_experience'])"
   ]
  },
  {
   "cell_type": "code",
   "execution_count": 74,
   "metadata": {},
   "outputs": [
    {
     "data": {
      "text/plain": [
       "' Data Science Research Manager - IT  Peopleton Solutions  10-15 yrs Bengaluru  Keyskills:  R, Analytics, SQL, Statistical Modeling, Machine Learning...  Job Description: - Working experience with machine learning algorithms: linear/logistic regression, random forest, ...  '"
      ]
     },
     "execution_count": 74,
     "metadata": {},
     "output_type": "execute_result"
    }
   ],
   "source": [
    "bs_obj.findAll('a',{'class':'content'})[0]"
   ]
  },
  {
   "cell_type": "code",
   "execution_count": 82,
   "metadata": {},
   "outputs": [
    {
     "name": "stdout",
     "output_type": "stream",
     "text": [
      "  Data Science Research Manager - IT  Peopleton Solutions  10-15 yrs Bengaluru  Keyskills:  R, Analytics, SQL, Statistical Modeling, Machine Learning...  Job Description: - Working experience with machine learning algorithms: linear/logistic regression, random forest, ...        Not disclosed   Posted  by       Manish Gupta    , 1 day ago   \n"
     ]
    },
    {
     "data": {
      "text/plain": [
       "50"
      ]
     },
     "execution_count": 82,
     "metadata": {},
     "output_type": "execute_result"
    }
   ],
   "source": [
    "parents =bs_obj.findAll('div',{'class':'row','type' :'tuple'})\n",
    "print(parents[0].getText())\n",
    "len(parents)"
   ]
  },
  {
   "cell_type": "code",
   "execution_count": 99,
   "metadata": {},
   "outputs": [
    {
     "name": "stdout",
     "output_type": "stream",
     "text": [
      "[['title', 'designation', 'location', 'description', 'salary', 'posted_date', 'skills', 'company', 'required_experience'], ['Data Science Research Manager - IT', 'Data Science Research Manager - IT', 'Bengaluru', '- Working experience with machine learning algorithms: linear/logistic regression, random forest, ...', '  Not disclosed ', '1 day ago', 'R, Analytics, SQL, Statistical Modeling, Machine Learning...', 'Peopleton Solutions', '10-15 yrs'], ['Opening For FULL / PART TIME Trainer in DATA Science/ Machine Learning', 'Opening For FULL / PART TIME Trainer in DATA Science/ Machine Learning', 'Noida(Sector-2 Noida)', None, '    1,25,000 - 3,00,000 P.A.  ', '1 day ago', 'ec, ee, cs, mca, bca, 2013, 2014, ai, machine learning, r language...', 'Data Science / Machine LearningTrainer', '0-2 yrs'], ['Data Science Engineer', 'Data Science Engineer', 'Hyderabad', 'Experience of data warehousing technologies including data modeling, ETL and reporting, end-to-end data ...', '  Not disclosed ', '1 day ago', 'Data Science, Big Data Ecosystem, Cassandra, MongoDB, Tableau, Qlikview...', 'HighPoints Technologies India (P) Ltd.', '5-10 yrs'], ['Immediate Requirement for Data Science Trainer/faculty', 'Immediate Requirement for Data Science Trainer/faculty', 'Hyderabad', None, '  Not disclosed ', '1 day ago', 'Java, Oracle, Data Science, Python, Tableau, R, Strong Analytical Skills', 'Peers Technologies (P) Ltd.', '3-8 yrs'], ['Data Science', 'Data Science', 'Hyderabad, Pune', '2-5 years of progressive experience in building complex data analytics solution;2-5 years of progressive ...', '  Not disclosed ', '1 day ago', 'Data Science, R, Machine Learning, Stat, Python, Data Analytics, Big Data...', 'Walking Tree Consultancy Services', '3-8 yrs'], ['Data Science Engineer', 'Data Science Engineer', 'Bengaluru, Noida', 'Experience with common data science toolkits, such as R, Weka, NumPy, MatLab, etc;Experience with data ...', '  Not disclosed ', '1 day ago', 'Hive, NoSQL, HBase, Pig, Cassandra, SQL, Machine Learning, Python...', 'Startup - Involvio', '3-7 yrs'], ['Talent Search Consultant - Data Science & Analytics', 'Talent Search Consultant - Data Science & Analytics', 'Bengaluru, Chennai', None, '    2,50,000 - 7,50,000 P.A.  ', '1 day ago', 'Hiring, Data Science, Analytics, Big Data, Risk Management, IT Recruitment,...', 'Rinalytics Advisors Pvt. Ltd', '2-7 yrs'], ['Marketing Data Science Professional - SAS - Consulting Firm', 'Marketing Data Science Professional - SAS - Consulting Firm', 'Gurgaon', '- Expertise in Excel and SQL required, experience with data visualization software (e.g;- 2+ years ...', '  Not disclosed ', '1 day ago', 'Customer Analytics, SAS, Marketing Analytics, Predictive Analytics...', 'HuQuo', '2-5 yrs'], ['Senior Consultant (data Sciences)', 'Senior Consultant (data Sciences)', 'Gurgaon', 'Experience in productionizing the machine learning models for analytics-based SaaS (Software as a ...', '  Not disclosed ', '7 days ago', 'Natural Language Processing, NLP, Data Science, Neural Networks, NoSQL...', 'AbsolutData Research  Analytics Solutions Pvt. Lt', '6-8 yrs'], ['Trainee Data Science', 'Trainee Data Science', 'Mumbai, Bengaluru, Pune', None, '    4,00,000 - 8,00,000 P.A.  ', '1 day ago', 'Cyber Security, cyber security officer, cyber security manager...', 'MNC', '0-1 yrs'], ['Analyst / Sr. Analyst (data Science)', 'Analyst / Sr. Analyst (data Science)', 'Gurgaon', 'Strong experience on providing predictive modelling solutions to clients;Good understanding of ...', '    5,00,000 - 10,00,000 P.A.  ', '3 days ago', 'predictive modeling, predictive analytics, machine learning, data science...', 'Cvent India Pvt. Ltd.', '5-8 yrs'], ['Data Science Analytics Trainer - Part Time (weekends Only)', 'Data Science Analytics Trainer - Part Time (weekends Only)', 'Pune(Viman Nagar)', 'Classes need to be conducted only in weekends - 3 hrs on Saturday AND 3 hours on Sunday in different ...', '  Not disclosed ', '4 days ago', 'machine learning, data science, data scientist, statistical modeling...', 'MARSIAN Technologies LLP', '4-9 yrs'], ['Strategic Project & Operations - Data Science Associate', 'Strategic Project & Operations - Data Science Associate', 'Gurgaon', None, '  Not disclosed ', '5 days ago', 'Data Science, R, Machine Learning, Python, Spark, Maintenance, Hadoop...', 'BlackRock Services India Pvt. Ltd.', '5-8 yrs'], ['Associate Project Manager- Data Science', 'Associate Project Manager- Data Science', 'Noida', 'Should have managed 10-20 team member projects;Should have exp in leading a team;Have experience in ...', '  Not disclosed ', '6 days ago', 'deep learning, natural language processing, information retrieval...', 'IRIS SOFTWARE Inc', '8-12 yrs'], ['Head - Data Science & Analytics - Financial Services', 'Head - Data Science & Analytics - Financial Services', 'Noida', '- Incumbent must have Operational understanding includes classical regression, statistical methods like ...', '  Not disclosed ', '6 days ago', 'Data Science, Analytics, Data Mining, Machine Learning, Factor Analysis...', 'Dimensions HRD Consultants', '6-11 yrs'], ['Urgent Hiring for Full Time Trainer in DATA Science/ Machine Learning', 'Urgent Hiring for Full Time Trainer in DATA Science/ Machine Learning', 'Noida', None, '    1,00,000 - 3,00,000 P.A.  ', '3 days ago', 'data science, Python, Machine learning, Datascience...', 'K V Computer Home Private limited', '0-3 yrs'], ['Hiring for Sr. Engineer-data Science@value First Digital', 'Hiring for Sr. Engineer-data Science@value First Digital', 'Gurgaon', 'The role need to understand the business problem, define data requirement, work on data set, build and ...', '  Not disclosed ', '7 days ago', 'Data Science, Data Scientist, Machine Learning, Python, R, Clustering', 'ValueFirst Digital Media Pvt. Ltd', '3-4 yrs'], ['Strategic Project & Operations Analyst - Data Science', 'Strategic Project & Operations Analyst - Data Science', 'Gurgaon', None, '  Not disclosed ', '3 days ago', 'Strategic Project & Operations Analyst, Data Science, Cassandra, Spark...', 'BlackRock Services India Pvt. Ltd.', '3-5 yrs'], ['Strategic Project & Operations - Data Science Associate', 'Strategic Project & Operations - Data Science Associate', 'Gurgaon', 'Candidates should have experience or interest in tackling data-related finance issues, analytics and ...', '  Not disclosed ', '3 days ago', 'Data Science, Reuters, Bloomberg, IDC, Cassandra, Spark, Storm, Kafka...', 'BlackRock Services India Pvt. Ltd.', '5-8 yrs'], ['Data Science Trainer / Bigdata Hadoop Trainer in a Leading IT Company', 'Data Science Trainer / Bigdata Hadoop Trainer in a Leading IT Company', 'Chandigarh, Mohali', None, '    1,25,000 - 4,00,000 P.A. Best salary as per Industry & ...  ', '3 days ago', 'machine learning, data science, python, hadoop, bigdata, big data, big data...', 'Piford Technologies (P) Ltd', '0-5 yrs'], ['Hexaware: Walk-in Drive for Data Science on 22nd SEP @ Chennai', 'Hexaware: Walk-in Drive for Data Science on 22nd SEP @ Chennai', 'Chennai', None, '  Not disclosed ', '4 days ago', 'Text Mining, Hive, Hadoop, SQL, Data Science, Data Integration...', 'Hexaware Technologies Ltd.', '4-9 yrs'], ['Hexaware - Walk-in Drive for BIG DATA & Data Science on 22nd Sep', 'Hexaware - Walk-in Drive for BIG DATA & Data Science on 22nd Sep', 'Chennai', None, '  Not disclosed ', '4 days ago', 'SQL Server, Neo4J, Java, SCALA, Spark, Hadoop, Data Science...', 'Hexaware Technologies Ltd.', '9-14 yrs'], ['Head of Data Science (chief Data Scientist)', 'Head of Data Science (chief Data Scientist)', 'Chennai', '- Around 10+ years of professional experience in Analytics including strong retail analytics experience ...', '  Not disclosed ', '3 days ago', 'data science, analytics, Scorecard, Algorithms, Python, SAS...', 'Human Capital for Third Sector', '9-14 yrs'], ['Opportunity for Data Science with Python - Bangalore...', 'Opportunity for Data Science with Python - Bangalore...', 'Bengaluru', 'We have an opportunity with one of the leading CMMI Level 5 company as follows: ...', '    7,00,000 - 17,00,000 P.A.  ', '4 days ago', 'Data Science, Python, Data Scientist, Senior Data Scientist', 'Think People Solutions Private Ltd', '6-11 yrs'], ['Data Science Openings for Top MNC, Banglore.', 'Data Science Openings for Top MNC, Banglore.', 'Bengaluru', 'Pay slips{Please, send me atleast any one Month payslips for current and previous organizations}: ...', '  Not disclosed ', '6 days ago', 'data science', 'ILABZ TECHNOLOGY LLP', '5-9 yrs'], ['SPi Technology - DATA Science Company - Looking for DATA Scientists', 'SPi Technology - DATA Science Company - Looking for DATA Scientists', 'Chennai', 'Demonstrated capability to pick up required software ...', '  Not disclosed ', '14 days ago', 'data science, machine learning, data analysis, data analytics, python...', 'SPI TECHNOLOGIES INDIA PRIVATE LIMITED', '3-8 yrs'], ['Data Science Engineer - Machine Learning/r', 'Data Science Engineer - Machine Learning/r', 'Hyderabad', 'BS/ MS in computer science, software engineering, statistics, calculus and algebra or related field ...', '  Not disclosed ', '6 days ago', 'Machine Learning, Deep Learning, Natural Language Processing, R...', 'Vidooly - Startup', '3-7 yrs'], ['Data Science/data Scientist - Machine Learning', 'Data Science/data Scientist - Machine Learning', 'Chennai(Mandaveli)', 'Contribute to the improvement of  data science infrastructure, incorporating the ground experience and ...', '  Not disclosed ', '6 days ago', 'Deep Learning, Data Science, Machine Learning, R, Python, SQL, Data Mining,...', 'Matrimony.com Limited', '7-12 yrs'], ['Cyber Security Data Science Engineer', 'Cyber Security Data Science Engineer', 'Bengaluru', '1) Must have experience of working with cyber security products, in terms of development, cyber security ...', '  Not disclosed ', '11 days ago', 'Spark, Java, SCALA, Hadoop, Data Science, Python, Machine Learning, R...', 'JoulestoWatts Business Solutions Pvt Ltd', '2-7 yrs'], ['Data Science Trainer', 'Data Science Trainer', 'Chennai', 'About 10+ years experience in Data Science/Machine Learning/Analytics;Should have proven skills in ...', '  Not disclosed ', '13 days ago', 'Deep Learning, NLP, Linear Regression, Data Science, Neural Networks, R...', 'Pathfinder Enterprise Solutions Pvt Ltd', '10-15 yrs'], ['Big Data, Data Science and AI Engineer', 'Big Data, Data Science and AI Engineer', 'Coimbatore', 'Proven experience in working with Big Data, AI and Machine Learning ...', '  Not disclosed ', '13 days ago', 'Data Science, Machine Learning, Big Data, Software Development', 'Startup - icliniq.com', '2-5 yrs'], ['Data Science  - 3+ Years of exp , Chennai', 'Data Science  - 3+ Years of exp , Chennai', 'Chennai(Dhandeeswaram Nagar)', '3 + years experience with analytical software tools such as Python, R, SAS, Matlab;Qualified candidates ...', '  Not disclosed ', '13 days ago', 'Deep Learning, Machine Learning, NLP, Python, Data Science, R, Statistics...', 'Tekclan Software Solutions Private limited', '2-7 yrs'], ['Senior Data Science Analytics Developer', 'Senior Data Science Analytics Developer', 'Bengaluru(Bellandur)', 'Experience using statistical computer languages (R, Python, SLQ, etc.) for querying and manipulate data ...', '  Not disclosed ', '13 days ago', 'Machine Learning, R, Neural Networks, Data Science, Python...', 'HP India Sales Private Limited', '6-11 yrs'], ['Data Science Engineer @ Pune', 'Data Science Engineer @ Pune', 'Pune', None, '  Not disclosed ', '8 days ago', 'Machine Learning, Data Science, Statistical Modeling, R programming', 'iglance Systems LLP', '8-13 yrs'], ['Head - Data Science/enterprise AI - PhD', 'Head - Data Science/enterprise AI - PhD', 'Bengaluru, Hyderabad, Pune', '- Pre-sales, solutioning, delivery experience;- Should have PnL Responsibility, People Management, ...', '  Not disclosed ', '25 days ago', 'solutioning, data science, people management, competency development...', 'Rinalytics Advisors', '12-18 yrs'], ['Data Science Engineer - Machine Learning', 'Data Science Engineer - Machine Learning', 'Delhi NCR', '1-5 years of work experience, prior experience in design high performance algorithms a must;Finance ...', '  Not disclosed ', '25 days ago', 'Machine Learning, Python, NLP, Neural Networks, Data Science, R, Algorithms...', 'Kalagato - Startup', '1-5 yrs'], ['Data Science for Banking', 'Data Science for Banking', 'Bengaluru', 'Accenture Technology powers our clients businesses with innovative technologies established and emerging ...', '  Not disclosed ', '26 days ago', 'Python, Machine learning, Outsourcing, Artificial Intelligence, Operations,...', 'Accenture', '4-8 yrs'], ['Asst. Professor / Research Scholar with Aegis School of Data Science', 'Asst. Professor / Research Scholar with Aegis School of Data Science', 'Mumbai', 'These programs are jointly certified and delivered by Aegis association with IBM;Aegis School of ...', '    4,00,000 - 8,00,000 P.A.  ', '29 days ago', 'Deep Learning, Text Mining, Machine Learning, Computer Vision, R...', 'Aegis School of Business (Part of Aegis KnowledgeTrust)', '0-5 yrs'], ['Data Science/ Python Developer', 'Data Science/ Python Developer', 'Noida(Sector-59 Noida)', 'Should have 2+ years creating predictive models using advance machine learning;Should have an expert ...', '    4,00,000 - 7,50,000 P.A.  ', '17 days ago', 'Python, Django, Data Science, Machine Learning, R, SQL, Spark...', 'Polestar Solutions And Services India Pvt. Ltd.', '2-7 yrs'], ['Data Science (jupyter/azure Ml/matlab)', 'Data Science (jupyter/azure Ml/matlab)', 'Bengaluru', None, '  Not disclosed ', '18 days ago', 'MATLAB, Data mining, Machine learning, Outsourcing, Artificial Intelligence...', 'Accenture', '1-5 yrs'], ['Data Science (jupyter/azure Ml/matlab)', 'Data Science (jupyter/azure Ml/matlab)', 'Bengaluru', None, '  Not disclosed ', '18 days ago', 'Python, MATLAB, Data mining, Machine learning, Outsourcing...', 'Accenture', '1-5 yrs'], ['Data Science (jupyter/azure Ml/matlab)', 'Data Science (jupyter/azure Ml/matlab)', 'Bengaluru', None, '  Not disclosed ', '19 days ago', 'Python, MATLAB, Data mining, Machine learning, Outsourcing, Operations...', 'Accenture', '2-5 yrs'], ['Data Science,machine Learning, NLP, SAS, R, Mongodb,nosql', 'Data Science,machine Learning, NLP, SAS, R, Mongodb,nosql', 'Mumbai', 'At least 7 years of work experience as a data scientist;Experience with common d ata science toolkits, ...', '  Not disclosed ', '23 days ago', 'hadoop, nosql, data science, nlp, sql, r, MongoDB, Machine Learning...', 'Careernet Technologies Pvt Ltd', '7-11 yrs'], ['DGM- Operation Research and Forecasting(data Science)', 'DGM- Operation Research and Forecasting(data Science)', 'Mumbai', 'Job Description  We are looking out for the position of DGM operation research and ...', '  Not disclosed ', '25 days ago', 'operations research, senior management, revenue management...', 'Go Airlines (India) Pvt. Ltd.', '10-20 yrs'], ['Data Science (jupyter/azure Ml/matlab)', 'Data Science (jupyter/azure Ml/matlab)', 'Bengaluru', 'Accenture Technology powers our clients businesses with innovative technologies established and emerging ...', '  Not disclosed ', '21 days ago', 'SAP, Python, MATLAB, Enterprise applications, Data analysis...', 'Accenture', '4-7 yrs'], ['Data Science Associate Consultant (pune, India)', 'Data Science Associate Consultant (pune, India)', 'Pune', None, '  Not disclosed ', '22 days ago', 'data science, machine learning, data mining, analytics, client solutions...', 'ZS Associates {India} Pvt Ltd', '3-5 yrs'], ['Data Science Associate Consultant', 'Data Science Associate Consultant', 'Delhi', 'High motivation, good work ethic and maturity;In lieu of a PhD, 3-5 years of relevant post-collegiate ...', '  Not disclosed ', '20 days ago', 'Text Mining, Data Science, R, Machine Learning, Predictive Modeling...', 'ZS Associates {India} Pvt Ltd', '3-5 yrs'], ['Data Science Lead', 'Data Science Lead', 'Bengaluru', 'Experience in applying machine learning techniques to real-world problems in a production environment ...', '  Not disclosed ', '20 days ago', 'Data Science Lead, Data Science, product development, algorithms...', 'D Cube Analytics- Startup', '5-10 yrs'], ['Data Science Manager', 'Data Science Manager', 'Pune', 'Liaise with the scrum master and scrum teams to promote good work practices and continuous improvement ...', '  Not disclosed ', '22 days ago', 'data science, computer science, r, python, software product development...', 'Nice interactive solutions India pvt ltd', '12-22 yrs'], ['Manager Data Science AI ML, Hyderabad / Chennai', 'Manager Data Science AI ML, Hyderabad / Chennai', 'Chennai, Hyderabad', 'Excellent oral and written communications skills and experience interacting with both business and IT ...', '    22,50,000 - 35,00,000 P.A.  ', '11 days ago', 'Text Mining, Deep Learning, Data Analysis, Machine Learning, Data Science...', 'Technogen India Private Limited', '12-15 yrs']]\n"
     ]
    }
   ],
   "source": [
    "data = []\n",
    "cols =  ['title','designation',\n",
    "                              'location','description',\n",
    "                             'salary','posted_date',\n",
    "                              'skills','company',\n",
    "                              'required_experience']\n",
    "data = [cols]\n",
    "for job in parents:\n",
    "    title = job.find('li',{'class' :'desig'}).get('title')\n",
    "    designation = title\n",
    "    location = job.find('span',{'class' :'loc'}).text\n",
    "    description = job.find('span',{'class' :'desc'})\n",
    "    description = description.text if description != None else None\n",
    "    salary = job.find('span',{'class' :'salary'}).text\n",
    "    posted_date = job.find('span',{'class' :'date'}).text\n",
    "    skills = job.find('span',{'class' :'skill'}).text\n",
    "    company = job.find('span',{'class' :'org'}).text\n",
    "    required_experience = job.find('span',{'class' :'exp'}).text\n",
    "    job_details = [title,designation,location,description,salary,posted_date,skills,company,required_experience]\n",
    "    data.append(job_details)\n",
    "print(data)"
   ]
  },
  {
   "cell_type": "code",
   "execution_count": 100,
   "metadata": {},
   "outputs": [],
   "source": [
    "import csv"
   ]
  },
  {
   "cell_type": "code",
   "execution_count": 102,
   "metadata": {},
   "outputs": [],
   "source": [
    "import csv \n",
    "with open (\"output.csv\" , \"w\", newline = '') as f:\n",
    "    writer = csv.writer(f)\n",
    "    writer.writerows(data)"
   ]
  },
  {
   "cell_type": "code",
   "execution_count": 104,
   "metadata": {},
   "outputs": [
    {
     "data": {
      "text/plain": [
       "'https://www.naukri.com/data-science-jobs-2'"
      ]
     },
     "execution_count": 104,
     "metadata": {},
     "output_type": "execute_result"
    }
   ],
   "source": [
    "url = \"https://www.naukri.com/data-science-jobs-%d\" %(2)\n",
    "url"
   ]
  },
  {
   "cell_type": "code",
   "execution_count": 118,
   "metadata": {},
   "outputs": [
    {
     "name": "stdout",
     "output_type": "stream",
     "text": [
      "50 1\n",
      "50 2\n",
      "50 3\n",
      "50 4\n",
      "50 5\n",
      "50 6\n",
      "50 7\n",
      "50 8\n",
      "50 9\n",
      "50 10\n",
      "50 11\n",
      "50 12\n",
      "50 13\n",
      "50 14\n",
      "50 15\n",
      "50 16\n",
      "50 17\n",
      "50 18\n",
      "50 19\n",
      "50 20\n",
      "50 21\n",
      "50 22\n",
      "50 23\n",
      "50 24\n",
      "50 25\n",
      "50 26\n",
      "50 27\n",
      "50 28\n",
      "50 29\n",
      "50 30\n",
      "50 31\n",
      "50 32\n",
      "50 33\n",
      "50 34\n",
      "50 35\n",
      "50 36\n",
      "50 37\n",
      "50 38\n",
      "50 39\n",
      "50 40\n",
      "50 41\n",
      "50 42\n",
      "50 43\n",
      "50 44\n",
      "50 45\n",
      "50 46\n",
      "50 47\n",
      "50 48\n",
      "50 49\n",
      "50 50\n",
      "50 51\n",
      "50 52\n",
      "50 53\n",
      "50 54\n",
      "50 55\n",
      "50 56\n",
      "50 57\n",
      "50 58\n",
      "50 59\n",
      "50 60\n",
      "50 61\n",
      "50 62\n",
      "50 63\n",
      "50 64\n",
      "50 65\n",
      "50 66\n",
      "50 67\n",
      "50 68\n",
      "50 69\n",
      "50 70\n",
      "50 71\n",
      "50 72\n",
      "50 73\n",
      "50 74\n",
      "50 75\n",
      "50 76\n",
      "50 77\n",
      "28 78\n",
      "3878\n"
     ]
    }
   ],
   "source": [
    "data1 = []\n",
    "for page_no  in range(1,79):\n",
    "    url = \"https://www.naukri.com/data-science-jobs-%d\" %(page_no)\n",
    "    page = requests.get(url).text\n",
    "    bs_obj = bs4.BeautifulSoup(page ,'lxml')\n",
    "    parents =bs_obj.findAll('div',{'class':'row','type' :'tuple'})\n",
    "    print(len(parents),page_no)\n",
    "    for job in parents:\n",
    "        title = job.find('li',{'class' :'desig'}).get('title')\n",
    "        designation = title\n",
    "        location = job.find('span',{'class' :'loc'}).text\n",
    "        description = job.find('span',{'class' :'desc'})\n",
    "        description = description.text if description != None else None\n",
    "        salary = job.find('span',{'class' :'salary'}).text\n",
    "        posted_date = job.find('span',{'class' :'date'}).text\n",
    "        skills = job.find('span',{'class' :'skill'})\n",
    "        skills = skills.text if skills != None else None\n",
    "        company = job.find('span',{'class' :'org'}).text\n",
    "        required_experience = job.find('span',{'class' :'exp'})\n",
    "        required_experience = required_experience.text if required_experience != None else None\n",
    "        job_details = [title,designation,location,description,salary,posted_date,skills,company,required_experience]\n",
    "        data1.append(job_details)\n",
    "    \n",
    "print(len(data1))"
   ]
  },
  {
   "cell_type": "code",
   "execution_count": 115,
   "metadata": {},
   "outputs": [
    {
     "name": "stdout",
     "output_type": "stream",
     "text": [
      "[['title', 'designation', 'location', 'description', 'salary', 'posted_date', 'skills', 'company', 'required_experience', 'job_url'], ['Data Science Engineer - Machine Learning', 'Data Science Engineer - Machine Learning', 'Chennai', '- Experience with machine learning algorithms and data mining techniques;- Experience with statistical ...', '  Not disclosed ', 'Few Hours Ago', 'Hadoop, Hive, Data Science, Spark, Machine Learning, R, Python, Big Data...', 'Resource Weaver', '5-10 yrs', 'https://www.naukri.com/job-listings-Data-Science-Engineer-Machine-Learning-Resource-Weaver-Chennai-5-to-10-years-250918900279?src=jobsearchDesk&sid=15378666784853&xp=1&px=1', '250918900279'], ['Data Science Research Manager - IT', 'Data Science Research Manager - IT', 'Bengaluru', '- Working experience with machine learning algorithms: linear/logistic regression, random forest, ...', '  Not disclosed ', '1 day ago', 'R, Analytics, SQL, Statistical Modeling, Machine Learning...', 'Peopleton Solutions', '10-15 yrs', 'https://www.naukri.com/job-listings-Data-Science-Research-Manager-IT-Peopleton-Solutions-Bengaluru-10-to-15-years-240918900946?src=jobsearchDesk&sid=15378666784853&xp=2&px=1', '240918900946'], ['Opening For FULL / PART TIME Trainer in DATA Science/ Machine Learning', 'Opening For FULL / PART TIME Trainer in DATA Science/ Machine Learning', 'Noida(Sector-2 Noida)', None, '    1,25,000 - 3,00,000 P.A.  ', '1 day ago', 'ec, ee, cs, mca, bca, 2013, 2014, ai, machine learning, r language...', 'Data Science / Machine LearningTrainer', '0-2 yrs', 'https://www.naukri.com/job-listings-Opening-For-FULL-PART-TIME-Trainer-in-DATA-Science-Machine-Learning-Data-Science-Machine-LearningTrainer-Noida-Sector-2-Noida-0-to-2-years-240918007021?src=jobsearchDesk&sid=15378666784853&xp=3&px=1', '240918007021'], ['Immediate Requirement for Data Science Trainer/faculty', 'Immediate Requirement for Data Science Trainer/faculty', 'Hyderabad', None, '  Not disclosed ', '1 day ago', 'data science, python, tableau, r, strong analytical skills...', 'Peers Technologies (P) Ltd.', '3-8 yrs', 'https://www.naukri.com/job-listings-Immediate-Requirement-for-Data-Science-Trainer-faculty-Peers-Technologies-P-Ltd-Hyderabad-3-to-8-years-100918001371?src=jobsearchDesk&sid=15378666784853&xp=4&px=1', '100918001371'], ['Data Science Engineer', 'Data Science Engineer', 'Hyderabad', 'Experience of data warehousing technologies including data modeling, ETL and reporting, end-to-end data ...', '  Not disclosed ', '1 day ago', 'Data Science, Big Data Ecosystem, Cassandra, MongoDB, Tableau, Qlikview...', 'HighPoints Technologies India (P) Ltd.', '5-10 yrs', 'https://www.naukri.com/job-listings-Data-Science-Engineer-HighPoints-Technologies-India-P-Ltd-Hyderabad-5-to-10-years-240918007387?src=jobsearchDesk&sid=15378666784853&xp=5&px=1', '240918007387'], ['Data Science', 'Data Science', 'Hyderabad, Pune', '2-5 years of progressive experience in building complex data analytics solution;2-5 years of progressive ...', '  Not disclosed ', '1 day ago', 'Data Science, R, Machine Learning, Stat, Python, Data Analytics, Big Data...', 'Walking Tree Consultancy Services', '3-8 yrs', 'https://www.naukri.com/job-listings-Data-Science-Walking-Tree-Consultancy-Services-Hyderabad-Pune-3-to-8-years-210918900122?src=jobsearchDesk&sid=15378666784853&xp=6&px=1', '210918900122'], ['Data Science Engineer', 'Data Science Engineer', 'Bengaluru, Noida', 'Experience with common data science toolkits, such as R, Weka, NumPy, MatLab, etc;Experience with data ...', '  Not disclosed ', '1 day ago', 'Hive, NoSQL, HBase, Pig, Cassandra, SQL, Machine Learning, Python...', 'Startup - Involvio', '3-7 yrs', 'https://www.naukri.com/job-listings-Data-Science-Engineer-Startup-Involvio-Bengaluru-Noida-3-to-7-years-200918005224?src=jobsearchDesk&sid=15378666784853&xp=7&px=1', '200918005224'], ['Talent Search Consultant - Data Science & Analytics', 'Talent Search Consultant - Data Science & Analytics', 'Bengaluru, Chennai', None, '    2,50,000 - 7,50,000 P.A.  ', '1 day ago', 'Hiring, Data Science, Analytics, Big Data, Risk Management, IT Recruitment,...', 'Rinalytics Advisors Pvt. Ltd', '2-7 yrs', 'https://www.naukri.com/job-listings-Talent-Search-Consultant-Data-Science-Analytics-Rinalytics-Advisors-Pvt-Ltd-Bengaluru-Chennai-2-to-7-years-240918005611?src=jobsearchDesk&sid=15378666784853&xp=8&px=1', '240918005611'], ['Marketing Data Science Professional - SAS - Consulting Firm', 'Marketing Data Science Professional - SAS - Consulting Firm', 'Gurgaon', '- Expertise in Excel and SQL required, experience with data visualization software (e.g;- 2+ years ...', '  Not disclosed ', '1 day ago', 'Customer Analytics, SAS, Marketing Analytics, Predictive Analytics...', 'HuQuo', '2-5 yrs', 'https://www.naukri.com/job-listings-Marketing-Data-Science-Professional-SAS-Consulting-Firm-HuQuo-Gurgaon-2-to-5-years-210918900866?src=jobsearchDesk&sid=15378666784853&xp=9&px=1', '210918900866'], ['Senior Consultant (data Sciences)', 'Senior Consultant (data Sciences)', 'Gurgaon', 'Experience in productionizing the machine learning models for analytics-based SaaS (Software as a ...', '  Not disclosed ', '7 days ago', 'Natural Language Processing, NLP, Data Science, Neural Networks, NoSQL...', 'AbsolutData Research  Analytics Solutions Pvt. Lt', '6-8 yrs', 'https://www.naukri.com/job-listings-Senior-Consultant-data-Sciences-AbsolutData-Research-Analytics-Solutions-Pvt-Lt-Gurgaon-6-to-8-years-180918004873?src=jobsearchDesk&sid=15378666784853&xp=10&px=1', '180918004873'], ['Trainee Data Science', 'Trainee Data Science', 'Mumbai, Bengaluru, Pune', None, '    4,00,000 - 8,00,000 P.A.  ', '1 day ago', 'Cyber Security, cyber security officer, cyber security manager...', 'MNC', '0-1 yrs', 'https://www.naukri.com/job-listings-Trainee-Data-Science-MNC-Mumbai-Bengaluru-Pune-0-to-1-years-240918005250?src=jobsearchDesk&sid=15378666784853&xp=11&px=1', '240918005250'], ['Analyst / Sr. Analyst (data Science)', 'Analyst / Sr. Analyst (data Science)', 'Gurgaon', 'Strong experience on providing predictive modelling solutions to clients;Good understanding of ...', '    5,00,000 - 10,00,000 P.A.  ', '3 days ago', 'predictive modeling, predictive analytics, machine learning, data science...', 'Cvent India Pvt. Ltd.', '5-8 yrs', 'https://www.naukri.com/job-listings-Analyst-Sr-Analyst-data-Science-Cvent-India-Pvt-Ltd-Gurgaon-5-to-8-years-280818003404?src=jobsearchDesk&sid=15378666784853&xp=12&px=1', '280818003404'], ['Data Science Analytics Trainer - Part Time (weekends Only)', 'Data Science Analytics Trainer - Part Time (weekends Only)', 'Pune(Viman Nagar)', 'Classes need to be conducted only in weekends - 3 hrs on Saturday AND 3 hours on Sunday in different ...', '  Not disclosed ', '4 days ago', 'machine learning, data science, data scientist, statistical modeling...', 'MARSIAN Technologies LLP', '4-9 yrs', 'https://www.naukri.com/job-listings-Data-Science-Analytics-Trainer-Part-Time-weekends-Only-MARSIAN-Technologies-LLP-Pune-Viman-Nagar-4-to-9-years-210918009295?src=jobsearchDesk&sid=15378666784853&xp=13&px=1', '210918009295'], ['Strategic Project & Operations - Data Science Associate', 'Strategic Project & Operations - Data Science Associate', 'Gurgaon', None, '  Not disclosed ', '5 days ago', 'Data Science, R, Machine Learning, Python, Spark, Maintenance, Hadoop...', 'BlackRock Services India Pvt. Ltd.', '5-8 yrs', 'https://www.naukri.com/job-listings-Strategic-Project-Operations-Data-Science-Associate-BlackRock-Services-India-Pvt-Ltd-Gurgaon-5-to-8-years-200918900951?src=jobsearchDesk&sid=15378666784853&xp=14&px=1', '200918900951'], ['Associate Project Manager- Data Science', 'Associate Project Manager- Data Science', 'Noida', 'Should have managed 10-20 team member projects;Should have exp in leading a team;Have experience in ...', '  Not disclosed ', '6 days ago', 'deep learning, natural language processing, information retrieval...', 'IRIS SOFTWARE Inc', '8-12 yrs', 'https://www.naukri.com/job-listings-Associate-Project-Manager-Data-Science-IRIS-SOFTWARE-Inc-Noida-8-to-12-years-190918003753?src=jobsearchDesk&sid=15378666784853&xp=15&px=1', '190918003753'], ['Head - Data Science & Analytics - Financial Services', 'Head - Data Science & Analytics - Financial Services', 'Noida', '- Incumbent must have Operational understanding includes classical regression, statistical methods like ...', '  Not disclosed ', '6 days ago', 'Data Science, Analytics, Data Mining, Machine Learning, Factor Analysis...', 'Dimensions HRD Consultants', '6-11 yrs', 'https://www.naukri.com/job-listings-Head-Data-Science-Analytics-Financial-Services-Dimensions-HRD-Consultants-Noida-6-to-11-years-180918900697?src=jobsearchDesk&sid=15378666784853&xp=16&px=1', '180918900697'], ['Urgent Hiring for Full Time Trainer in DATA Science/ Machine Learning', 'Urgent Hiring for Full Time Trainer in DATA Science/ Machine Learning', 'Noida', None, '    1,00,000 - 3,00,000 P.A.  ', '3 days ago', 'data science, Python, Machine learning, Datascience...', 'K V Computer Home Private limited', '0-3 yrs', 'https://www.naukri.com/job-listings-Urgent-Hiring-for-Full-Time-Trainer-in-DATA-Science-Machine-Learning-K-V-Computer-Home-Private-limited-Noida-0-to-3-years-170818003319?src=jobsearchDesk&sid=15378666784853&xp=17&px=1', '170818003319'], ['Hiring for Sr. Engineer-data Science@value First Digital', 'Hiring for Sr. Engineer-data Science@value First Digital', 'Gurgaon', 'The role need to understand the business problem, define data requirement, work on data set, build and ...', '  Not disclosed ', '7 days ago', 'Data Science, Data Scientist, Machine Learning, Python, R, Clustering', 'ValueFirst Digital Media Pvt. Ltd', '3-4 yrs', 'https://www.naukri.com/job-listings-Hiring-for-Sr-Engineer-data-Science-value-First-Digital-ValueFirst-Digital-Media-Pvt-Ltd-Gurgaon-3-to-4-years-130818002568?src=jobsearchDesk&sid=15378666784853&xp=18&px=1', '130818002568'], ['Strategic Project & Operations Analyst - Data Science', 'Strategic Project & Operations Analyst - Data Science', 'Gurgaon', None, '  Not disclosed ', '3 days ago', 'Strategic Project & Operations Analyst, Data Science, Cassandra, Spark...', 'BlackRock Services India Pvt. Ltd.', '3-5 yrs', 'https://www.naukri.com/job-listings-Strategic-Project-Operations-Analyst-Data-Science-BlackRock-Services-India-Pvt-Ltd-Gurgaon-3-to-5-years-220918900180?src=jobsearchDesk&sid=15378666784853&xp=19&px=1', '220918900180'], ['Strategic Project & Operations - Data Science Associate', 'Strategic Project & Operations - Data Science Associate', 'Gurgaon', 'Candidates should have experience or interest in tackling data-related finance issues, analytics and ...', '  Not disclosed ', '3 days ago', 'Data Science, Reuters, Bloomberg, IDC, Cassandra, Spark, Storm, Kafka...', 'BlackRock Services India Pvt. Ltd.', '5-8 yrs', 'https://www.naukri.com/job-listings-Strategic-Project-Operations-Data-Science-Associate-BlackRock-Services-India-Pvt-Ltd-Gurgaon-5-to-8-years-220918900173?src=jobsearchDesk&sid=15378666784853&xp=20&px=1', '220918900173'], ['Data Science Trainer / Bigdata Hadoop Trainer in a Leading IT Company', 'Data Science Trainer / Bigdata Hadoop Trainer in a Leading IT Company', 'Chandigarh, Mohali', None, '    1,25,000 - 4,00,000 P.A. Best salary as per Industry & ...  ', '3 days ago', 'machine learning, data science, python, hadoop, bigdata, big data, big data...', 'Piford Technologies (P) Ltd', '0-5 yrs', 'https://www.naukri.com/job-listings-Data-Science-Trainer-Bigdata-Hadoop-Trainer-in-a-Leading-IT-Company-Piford-Technologies-P-Ltd-Chandigarh-Mohali-0-to-5-years-220918002725?src=jobsearchDesk&sid=15378666784853&xp=21&px=1', '220918002725'], ['Hexaware: Walk-in Drive for Data Science on 22nd SEP @ Chennai', 'Hexaware: Walk-in Drive for Data Science on 22nd SEP @ Chennai', 'Chennai', None, '  Not disclosed ', '4 days ago', 'Text Mining, Hive, Hadoop, SQL, Data Science, Data Integration...', 'Hexaware Technologies Ltd.', '4-9 yrs', 'https://www.naukri.com/job-listings-Hexaware-Walk-in-Drive-for-Data-Science-on-22nd-SEP-Chennai-Hexaware-Technologies-Ltd-Chennai-4-to-9-years-190918008695?src=jobsearchDesk&sid=15378666784853&xp=22&px=1', '190918008695'], ['Hexaware - Walk-in Drive for BIG DATA & Data Science on 22nd Sep', 'Hexaware - Walk-in Drive for BIG DATA & Data Science on 22nd Sep', 'Chennai', None, '  Not disclosed ', '4 days ago', 'SQL Server, Neo4J, Java, SCALA, Spark, Hadoop, Data Science...', 'Hexaware Technologies Ltd.', '9-14 yrs', 'https://www.naukri.com/job-listings-Hexaware-Walk-in-Drive-for-BIG-DATA-Data-Science-on-22nd-Sep-Hexaware-Technologies-Ltd-Chennai-9-to-14-years-190918008451?src=jobsearchDesk&sid=15378666784853&xp=23&px=1', '190918008451'], ['Head of Data Science (chief Data Scientist)', 'Head of Data Science (chief Data Scientist)', 'Chennai', '- Around 10+ years of professional experience in Analytics including strong retail analytics experience ...', '  Not disclosed ', '3 days ago', 'data science, analytics, Scorecard, Algorithms, Python, SAS...', 'Human Capital for Third Sector', '9-14 yrs', 'https://www.naukri.com/job-listings-Head-of-Data-Science-chief-Data-Scientist-Human-Capital-for-Third-Sector-Chennai-9-to-14-years-220918001639?src=jobsearchDesk&sid=15378666784853&xp=24&px=1', '220918001639'], ['Opportunity for Data Science with Python - Bangalore...', 'Opportunity for Data Science with Python - Bangalore...', 'Bengaluru', 'We have an opportunity with one of the leading CMMI Level 5 company as follows: ...', '    7,00,000 - 17,00,000 P.A.  ', '4 days ago', 'Data Science, Python, Data Scientist, Senior Data Scientist', 'Think People Solutions Private Ltd', '6-11 yrs', 'https://www.naukri.com/job-listings-Opportunity-for-Data-Science-with-Python-Bangalore-Think-People-Solutions-Private-Ltd-Bengaluru-6-to-11-years-210918000899?src=jobsearchDesk&sid=15378666784853&xp=25&px=1', '210918000899'], ['Data Science Openings for Top MNC, Banglore.', 'Data Science Openings for Top MNC, Banglore.', 'Bengaluru', 'Pay slips{Please, send me atleast any one Month payslips for current and previous organizations}: ...', '  Not disclosed ', '6 days ago', 'data science', 'ILABZ TECHNOLOGY LLP', '5-9 yrs', 'https://www.naukri.com/job-listings-Data-Science-Openings-for-Top-MNC-Banglore-ILABZ-TECHNOLOGY-LLP-Bengaluru-5-to-9-years-190918009150?src=jobsearchDesk&sid=15378666784853&xp=26&px=1', '190918009150'], ['SPi Technology - DATA Science Company - Looking for DATA Scientists', 'SPi Technology - DATA Science Company - Looking for DATA Scientists', 'Chennai', 'Demonstrated capability to pick up required software ...', '  Not disclosed ', '14 days ago', 'data science, machine learning, data analysis, data analytics, python...', 'SPI TECHNOLOGIES INDIA PRIVATE LIMITED', '3-8 yrs', 'https://www.naukri.com/job-listings-SPi-Technology-DATA-Science-Company-Looking-for-DATA-Scientists-SPI-TECHNOLOGIES-INDIA-PRIVATE-LIMITED-Chennai-3-to-8-years-260518001114?src=jobsearchDesk&sid=15378666784853&xp=27&px=1', '260518001114'], ['Data Science Engineer - Machine Learning/r', 'Data Science Engineer - Machine Learning/r', 'Hyderabad', 'BS/ MS in computer science, software engineering, statistics, calculus and algebra or related field ...', '  Not disclosed ', '6 days ago', 'Machine Learning, Deep Learning, Natural Language Processing, R...', 'Vidooly - Startup', '3-7 yrs', 'https://www.naukri.com/job-listings-Data-Science-Engineer-Machine-Learning-r-Vidooly-Startup-Hyderabad-3-to-7-years-170918900714?src=jobsearchDesk&sid=15378666784853&xp=28&px=1', '170918900714'], ['Data Science/data Scientist - Machine Learning', 'Data Science/data Scientist - Machine Learning', 'Chennai(Mandaveli)', 'Contribute to the improvement of  data science infrastructure, incorporating the ground experience and ...', '  Not disclosed ', '6 days ago', 'Deep Learning, Data Science, Machine Learning, R, Python, SQL, Data Mining,...', 'Matrimony.com Limited', '7-12 yrs', 'https://www.naukri.com/job-listings-Data-Science-data-Scientist-Machine-Learning-Matrimony-com-Limited-Chennai-Mandaveli-7-to-12-years-170918006398?src=jobsearchDesk&sid=15378666784853&xp=29&px=1', '170918006398'], ['Cyber Security Data Science Engineer', 'Cyber Security Data Science Engineer', 'Bengaluru', '1) Must have experience of working with cyber security products, in terms of development, cyber security ...', '  Not disclosed ', '11 days ago', 'Spark, Java, SCALA, Hadoop, Data Science, Python, Machine Learning, R...', 'JoulestoWatts Business Solutions Pvt Ltd', '2-7 yrs', 'https://www.naukri.com/job-listings-Cyber-Security-Data-Science-Engineer-JoulestoWatts-Business-Solutions-Pvt-Ltd-Bengaluru-2-to-7-years-140918900132?src=jobsearchDesk&sid=15378666784853&xp=30&px=1', '140918900132'], ['Data Science Trainer', 'Data Science Trainer', 'Chennai', 'About 10+ years experience in Data Science/Machine Learning/Analytics;Should have proven skills in ...', '  Not disclosed ', '13 days ago', 'Deep Learning, NLP, Linear Regression, Data Science, Neural Networks, R...', 'Pathfinder Enterprise Solutions Pvt Ltd', '10-15 yrs', 'https://www.naukri.com/job-listings-Data-Science-Trainer-Pathfinder-Enterprise-Solutions-Pvt-Ltd-Chennai-10-to-15-years-120918003158?src=jobsearchDesk&sid=15378666784853&xp=31&px=1', '120918003158'], ['Big Data, Data Science and AI Engineer', 'Big Data, Data Science and AI Engineer', 'Coimbatore', 'Proven experience in working with Big Data, AI and Machine Learning ...', '  Not disclosed ', '13 days ago', 'Data Science, Machine Learning, Big Data, Software Development', 'Startup - icliniq.com', '2-5 yrs', 'https://www.naukri.com/job-listings-Big-Data-Data-Science-and-AI-Engineer-Startup-icliniq-com-Coimbatore-2-to-5-years-110918001672?src=jobsearchDesk&sid=15378666784853&xp=32&px=1', '110918001672'], ['Data Science  - 3+ Years of exp , Chennai', 'Data Science  - 3+ Years of exp , Chennai', 'Chennai(Dhandeeswaram Nagar)', '3 + years experience with analytical software tools such as Python, R, SAS, Matlab;Qualified candidates ...', '  Not disclosed ', '13 days ago', 'Deep Learning, Machine Learning, NLP, Python, Data Science, R, Statistics...', 'Tekclan Software Solutions Private limited', '2-7 yrs', 'https://www.naukri.com/job-listings-Data-Science-3-Years-of-exp-Chennai-Tekclan-Software-Solutions-Private-limited-Chennai-Dhandeeswaram-Nagar-2-to-7-years-100918006414?src=jobsearchDesk&sid=15378666784853&xp=33&px=1', '100918006414'], ['Senior Data Science Analytics Developer', 'Senior Data Science Analytics Developer', 'Bengaluru(Bellandur)', 'Experience using statistical computer languages (R, Python, SLQ, etc.) for querying and manipulate data ...', '  Not disclosed ', '13 days ago', 'Machine Learning, R, Neural Networks, Data Science, Python...', 'HP India Sales Private Limited', '6-11 yrs', 'https://www.naukri.com/job-listings-Senior-Data-Science-Analytics-Developer-HP-India-Sales-Private-Limited-Bengaluru-Bellandur-6-to-11-years-100918005763?src=jobsearchDesk&sid=15378666784853&xp=34&px=1', '100918005763'], ['Data Science Engineer @ Pune', 'Data Science Engineer @ Pune', 'Pune', None, '  Not disclosed ', '8 days ago', 'Machine Learning, Data Science, Statistical Modeling, R programming', 'iglance Systems LLP', '8-13 yrs', 'https://www.naukri.com/job-listings-Data-Science-Engineer-Pune-iglance-Systems-LLP-Pune-8-to-13-years-050918004969?src=jobsearchDesk&sid=15378666784853&xp=35&px=1', '050918004969'], ['Director - Analytics | Hyderabad', 'Director - Analytics | Hyderabad', 'Hyderabad', None, '  Not disclosed ', 'Few Hours Ago', 'Deep Learning, Data Science, R, Machine Learning, Python, Analytics...', 'Karvy Analytics Limited', '14-24 yrs', 'https://www.naukri.com/job-listings-Director-Analytics-Hyderabad-Karvy-Analytics-Limited-Hyderabad-14-to-24-years-250918001498?src=jobsearchDesk&sid=15378666784853&xp=36&px=1', '250918001498'], ['Head - Data Science/enterprise AI - PhD', 'Head - Data Science/enterprise AI - PhD', 'Bengaluru, Hyderabad, Pune', '- Pre-sales, solutioning, delivery experience;- Should have PnL Responsibility, People Management, ...', '  Not disclosed ', '25 days ago', 'solutioning, data science, people management, competency development...', 'Rinalytics Advisors', '12-18 yrs', 'https://www.naukri.com/job-listings-Head-Data-Science-enterprise-AI-PhD-Rinalytics-Advisors-Bengaluru-Hyderabad-Pune-12-to-18-years-290818901552?src=jobsearchDesk&sid=15378666784853&xp=37&px=1', '290818901552'], ['Data Science Engineer - Machine Learning', 'Data Science Engineer - Machine Learning', 'Delhi NCR', '1-5 years of work experience, prior experience in design high performance algorithms a must;Finance ...', '  Not disclosed ', '25 days ago', 'Machine Learning, Python, NLP, Neural Networks, Data Science, R, Algorithms...', 'Kalagato - Startup', '1-5 yrs', 'https://www.naukri.com/job-listings-Data-Science-Engineer-Machine-Learning-Kalagato-Startup-Delhi-NCR-1-to-5-years-280818900520?src=jobsearchDesk&sid=15378666784853&xp=38&px=1', '280818900520'], ['Data Science for Banking', 'Data Science for Banking', 'Bengaluru', 'Accenture Technology powers our clients businesses with innovative technologies established and emerging ...', '  Not disclosed ', '26 days ago', 'Python, Machine learning, Outsourcing, Artificial Intelligence, Operations,...', 'Accenture', '4-8 yrs', 'https://www.naukri.com/job-listings-Data-Science-for-Banking-Accenture-Bengaluru-4-to-8-years-270818900875?src=jobsearchDesk&sid=15378666784853&xp=39&px=1', '270818900875'], ['Asst. Professor / Research Scholar with Aegis School of Data Science', 'Asst. Professor / Research Scholar with Aegis School of Data Science', 'Mumbai', 'These programs are jointly certified and delivered by Aegis association with IBM;Aegis School of ...', '    4,00,000 - 8,00,000 P.A.  ', '29 days ago', 'Deep Learning, Text Mining, Machine Learning, Computer Vision, R...', 'Aegis School of Business (Part of Aegis KnowledgeTrust)', '0-5 yrs', 'https://www.naukri.com/job-listings-Asst-Professor-Research-Scholar-with-Aegis-School-of-Data-Science-Aegis-School-of-Business-Part-of-Aegis-KnowledgeTrust-Mumbai-0-to-5-years-270818008582?src=jobsearchDesk&sid=15378666784853&xp=40&px=1', '270818008582'], ['Data Science/ Python Developer', 'Data Science/ Python Developer', 'Noida(Sector-59 Noida)', 'Should have 2+ years creating predictive models using advance machine learning;Should have an expert ...', '    4,00,000 - 7,50,000 P.A.  ', '17 days ago', 'Python, Django, Data Science, Machine Learning, R, SQL, Spark...', 'Polestar Solutions And Services India Pvt. Ltd.', '2-7 yrs', 'https://www.naukri.com/job-listings-Data-Science-Python-Developer-Polestar-Solutions-And-Services-India-Pvt-Ltd-Noida-Sector-59-Noida-2-to-7-years-080918004151?src=jobsearchDesk&sid=15378666784853&xp=41&px=1', '080918004151'], ['Data Science (jupyter/azure Ml/matlab)', 'Data Science (jupyter/azure Ml/matlab)', 'Bengaluru', None, '  Not disclosed ', '18 days ago', 'MATLAB, Data mining, Machine learning, Outsourcing, Artificial Intelligence...', 'Accenture', '1-5 yrs', 'https://www.naukri.com/job-listings-Data-Science-jupyter-azure-Ml-matlab-Accenture-Bengaluru-1-to-5-years-060918901943?src=jobsearchDesk&sid=15378666784853&xp=42&px=1', '060918901943'], ['Data Science (jupyter/azure Ml/matlab)', 'Data Science (jupyter/azure Ml/matlab)', 'Bengaluru', None, '  Not disclosed ', '18 days ago', 'Python, MATLAB, Data mining, Machine learning, Outsourcing...', 'Accenture', '1-5 yrs', 'https://www.naukri.com/job-listings-Data-Science-jupyter-azure-Ml-matlab-Accenture-Bengaluru-1-to-5-years-060918901929?src=jobsearchDesk&sid=15378666784853&xp=43&px=1', '060918901929'], ['Data Science (jupyter/azure Ml/matlab)', 'Data Science (jupyter/azure Ml/matlab)', 'Bengaluru', None, '  Not disclosed ', '19 days ago', 'Python, MATLAB, Data mining, Machine learning, Outsourcing, Operations...', 'Accenture', '2-5 yrs', 'https://www.naukri.com/job-listings-Data-Science-jupyter-azure-Ml-matlab-Accenture-Bengaluru-2-to-5-years-060918900776?src=jobsearchDesk&sid=15378666784853&xp=44&px=1', '060918900776'], ['Data Science,machine Learning, NLP, SAS, R, Mongodb,nosql', 'Data Science,machine Learning, NLP, SAS, R, Mongodb,nosql', 'Mumbai', 'At least 7 years of work experience as a data scientist;Experience with common d ata science toolkits, ...', '  Not disclosed ', '23 days ago', 'hadoop, nosql, data science, nlp, sql, r, MongoDB, Machine Learning...', 'Careernet Technologies Pvt Ltd', '7-11 yrs', 'https://www.naukri.com/job-listings-Data-Science-machine-Learning-NLP-SAS-R-Mongodb-nosql-Careernet-Technologies-Pvt-Ltd-Mumbai-7-to-11-years-060718006716?src=jobsearchDesk&sid=15378666784853&xp=45&px=1', '060718006716'], ['DGM- Operation Research and Forecasting(data Science)', 'DGM- Operation Research and Forecasting(data Science)', 'Mumbai', 'Job Description  We are looking out for the position of DGM operation research and ...', '  Not disclosed ', '25 days ago', 'operations research, senior management, revenue management...', 'Go Airlines (India) Pvt. Ltd.', '10-20 yrs', 'https://www.naukri.com/job-listings-DGM-Operation-Research-and-Forecasting-data-Science-Go-Airlines-India-Pvt-Ltd-Mumbai-10-to-20-years-050718007193?src=jobsearchDesk&sid=15378666784853&xp=46&px=1', '050718007193'], ['Data Science (jupyter/azure Ml/matlab)', 'Data Science (jupyter/azure Ml/matlab)', 'Bengaluru', 'Accenture Technology powers our clients businesses with innovative technologies established and emerging ...', '  Not disclosed ', '21 days ago', 'SAP, Python, MATLAB, Enterprise applications, Data analysis...', 'Accenture', '4-7 yrs', 'https://www.naukri.com/job-listings-Data-Science-jupyter-azure-Ml-matlab-Accenture-Bengaluru-4-to-7-years-030918901783?src=jobsearchDesk&sid=15378666784853&xp=47&px=1', '030918901783'], ['Data Science Associate Consultant (pune, India)', 'Data Science Associate Consultant (pune, India)', 'Pune', None, '  Not disclosed ', '22 days ago', 'data science, machine learning, data mining, analytics, client solutions...', 'ZS Associates {India} Pvt Ltd', '3-5 yrs', 'https://www.naukri.com/job-listings-Data-Science-Associate-Consultant-pune-India-ZS-Associates-India-Pvt-Ltd-Pune-3-to-5-years-030918900398?src=jobsearchDesk&sid=15378666784853&xp=48&px=1', '030918900398'], ['Data Science Associate Consultant', 'Data Science Associate Consultant', 'Delhi', 'High motivation, good work ethic and maturity;In lieu of a PhD, 3-5 years of relevant post-collegiate ...', '  Not disclosed ', '20 days ago', 'Text Mining, Data Science, R, Machine Learning, Predictive Modeling...', 'ZS Associates {India} Pvt Ltd', '3-5 yrs', 'https://www.naukri.com/job-listings-Data-Science-Associate-Consultant-ZS-Associates-India-Pvt-Ltd-Delhi-3-to-5-years-030918900204?src=jobsearchDesk&sid=15378666784853&xp=49&px=1', '030918900204'], ['Data Science Lead', 'Data Science Lead', 'Bengaluru', 'Experience in applying machine learning techniques to real-world problems in a production environment ...', '  Not disclosed ', '20 days ago', 'Data Science Lead, Data Science, product development, algorithms...', 'D Cube Analytics- Startup', '5-10 yrs', 'https://www.naukri.com/job-listings-Data-Science-Lead-D-Cube-Analytics-Startup-Bengaluru-5-to-10-years-030918900064?src=jobsearchDesk&sid=15378666784853&xp=50&px=1', '030918900064']]\n"
     ]
    }
   ],
   "source": [
    "data2 = []\n",
    "cols =  ['title','designation',\n",
    "                              'location','description',\n",
    "                             'salary','posted_date',\n",
    "                              'skills','company',\n",
    "                              'required_experience','job_url']\n",
    "data2 = [cols]\n",
    "for job in parents:\n",
    "    job_url = job.find('a').get('href')\n",
    "    job_id = job.get('id')\n",
    "    title = job.find('li',{'class' :'desig'}).get('title')\n",
    "    designation = title\n",
    "    location = job.find('span',{'class' :'loc'}).text\n",
    "    description = job.find('span',{'class' :'desc'})\n",
    "    description = description.text if description != None else None\n",
    "    salary = job.find('span',{'class' :'salary'}).text\n",
    "    posted_date = job.find('span',{'class' :'date'}).text\n",
    "    skills = job.find('span',{'class' :'skill'}).text\n",
    "    company = job.find('span',{'class' :'org'}).text\n",
    "    required_experience = job.find('span',{'class' :'exp'}).text\n",
    "    job_details = [title,designation,location,description,salary,posted_date,skills,company,required_experience,job_url,job_id]\n",
    "    data2.append(job_details)\n",
    "print(data2)"
   ]
  },
  {
   "cell_type": "code",
   "execution_count": 116,
   "metadata": {},
   "outputs": [
    {
     "name": "stdout",
     "output_type": "stream",
     "text": [
      "['title', 'designation', 'location', 'description', 'salary', 'posted_date', 'skills', 'company', 'required_experience', 'job_url']\n",
      "['Data Science Engineer - Machine Learning', 'Data Science Engineer - Machine Learning', 'Chennai', '- Experience with machine learning algorithms and data mining techniques;- Experience with statistical ...', '  Not disclosed ', 'Few Hours Ago', 'Hadoop, Hive, Data Science, Spark, Machine Learning, R, Python, Big Data...', 'Resource Weaver', '5-10 yrs', 'https://www.naukri.com/job-listings-Data-Science-Engineer-Machine-Learning-Resource-Weaver-Chennai-5-to-10-years-250918900279?src=jobsearchDesk&sid=15378666784853&xp=1&px=1', '250918900279']\n",
      "['Data Science Research Manager - IT', 'Data Science Research Manager - IT', 'Bengaluru', '- Working experience with machine learning algorithms: linear/logistic regression, random forest, ...', '  Not disclosed ', '1 day ago', 'R, Analytics, SQL, Statistical Modeling, Machine Learning...', 'Peopleton Solutions', '10-15 yrs', 'https://www.naukri.com/job-listings-Data-Science-Research-Manager-IT-Peopleton-Solutions-Bengaluru-10-to-15-years-240918900946?src=jobsearchDesk&sid=15378666784853&xp=2&px=1', '240918900946']\n",
      "['Opening For FULL / PART TIME Trainer in DATA Science/ Machine Learning', 'Opening For FULL / PART TIME Trainer in DATA Science/ Machine Learning', 'Noida(Sector-2 Noida)', None, '    1,25,000 - 3,00,000 P.A.  ', '1 day ago', 'ec, ee, cs, mca, bca, 2013, 2014, ai, machine learning, r language...', 'Data Science / Machine LearningTrainer', '0-2 yrs', 'https://www.naukri.com/job-listings-Opening-For-FULL-PART-TIME-Trainer-in-DATA-Science-Machine-Learning-Data-Science-Machine-LearningTrainer-Noida-Sector-2-Noida-0-to-2-years-240918007021?src=jobsearchDesk&sid=15378666784853&xp=3&px=1', '240918007021']\n",
      "['Immediate Requirement for Data Science Trainer/faculty', 'Immediate Requirement for Data Science Trainer/faculty', 'Hyderabad', None, '  Not disclosed ', '1 day ago', 'data science, python, tableau, r, strong analytical skills...', 'Peers Technologies (P) Ltd.', '3-8 yrs', 'https://www.naukri.com/job-listings-Immediate-Requirement-for-Data-Science-Trainer-faculty-Peers-Technologies-P-Ltd-Hyderabad-3-to-8-years-100918001371?src=jobsearchDesk&sid=15378666784853&xp=4&px=1', '100918001371']\n",
      "['Data Science Engineer', 'Data Science Engineer', 'Hyderabad', 'Experience of data warehousing technologies including data modeling, ETL and reporting, end-to-end data ...', '  Not disclosed ', '1 day ago', 'Data Science, Big Data Ecosystem, Cassandra, MongoDB, Tableau, Qlikview...', 'HighPoints Technologies India (P) Ltd.', '5-10 yrs', 'https://www.naukri.com/job-listings-Data-Science-Engineer-HighPoints-Technologies-India-P-Ltd-Hyderabad-5-to-10-years-240918007387?src=jobsearchDesk&sid=15378666784853&xp=5&px=1', '240918007387']\n",
      "['Data Science', 'Data Science', 'Hyderabad, Pune', '2-5 years of progressive experience in building complex data analytics solution;2-5 years of progressive ...', '  Not disclosed ', '1 day ago', 'Data Science, R, Machine Learning, Stat, Python, Data Analytics, Big Data...', 'Walking Tree Consultancy Services', '3-8 yrs', 'https://www.naukri.com/job-listings-Data-Science-Walking-Tree-Consultancy-Services-Hyderabad-Pune-3-to-8-years-210918900122?src=jobsearchDesk&sid=15378666784853&xp=6&px=1', '210918900122']\n",
      "['Data Science Engineer', 'Data Science Engineer', 'Bengaluru, Noida', 'Experience with common data science toolkits, such as R, Weka, NumPy, MatLab, etc;Experience with data ...', '  Not disclosed ', '1 day ago', 'Hive, NoSQL, HBase, Pig, Cassandra, SQL, Machine Learning, Python...', 'Startup - Involvio', '3-7 yrs', 'https://www.naukri.com/job-listings-Data-Science-Engineer-Startup-Involvio-Bengaluru-Noida-3-to-7-years-200918005224?src=jobsearchDesk&sid=15378666784853&xp=7&px=1', '200918005224']\n",
      "['Talent Search Consultant - Data Science & Analytics', 'Talent Search Consultant - Data Science & Analytics', 'Bengaluru, Chennai', None, '    2,50,000 - 7,50,000 P.A.  ', '1 day ago', 'Hiring, Data Science, Analytics, Big Data, Risk Management, IT Recruitment,...', 'Rinalytics Advisors Pvt. Ltd', '2-7 yrs', 'https://www.naukri.com/job-listings-Talent-Search-Consultant-Data-Science-Analytics-Rinalytics-Advisors-Pvt-Ltd-Bengaluru-Chennai-2-to-7-years-240918005611?src=jobsearchDesk&sid=15378666784853&xp=8&px=1', '240918005611']\n",
      "['Marketing Data Science Professional - SAS - Consulting Firm', 'Marketing Data Science Professional - SAS - Consulting Firm', 'Gurgaon', '- Expertise in Excel and SQL required, experience with data visualization software (e.g;- 2+ years ...', '  Not disclosed ', '1 day ago', 'Customer Analytics, SAS, Marketing Analytics, Predictive Analytics...', 'HuQuo', '2-5 yrs', 'https://www.naukri.com/job-listings-Marketing-Data-Science-Professional-SAS-Consulting-Firm-HuQuo-Gurgaon-2-to-5-years-210918900866?src=jobsearchDesk&sid=15378666784853&xp=9&px=1', '210918900866']\n",
      "['Senior Consultant (data Sciences)', 'Senior Consultant (data Sciences)', 'Gurgaon', 'Experience in productionizing the machine learning models for analytics-based SaaS (Software as a ...', '  Not disclosed ', '7 days ago', 'Natural Language Processing, NLP, Data Science, Neural Networks, NoSQL...', 'AbsolutData Research  Analytics Solutions Pvt. Lt', '6-8 yrs', 'https://www.naukri.com/job-listings-Senior-Consultant-data-Sciences-AbsolutData-Research-Analytics-Solutions-Pvt-Lt-Gurgaon-6-to-8-years-180918004873?src=jobsearchDesk&sid=15378666784853&xp=10&px=1', '180918004873']\n",
      "['Trainee Data Science', 'Trainee Data Science', 'Mumbai, Bengaluru, Pune', None, '    4,00,000 - 8,00,000 P.A.  ', '1 day ago', 'Cyber Security, cyber security officer, cyber security manager...', 'MNC', '0-1 yrs', 'https://www.naukri.com/job-listings-Trainee-Data-Science-MNC-Mumbai-Bengaluru-Pune-0-to-1-years-240918005250?src=jobsearchDesk&sid=15378666784853&xp=11&px=1', '240918005250']\n",
      "['Analyst / Sr. Analyst (data Science)', 'Analyst / Sr. Analyst (data Science)', 'Gurgaon', 'Strong experience on providing predictive modelling solutions to clients;Good understanding of ...', '    5,00,000 - 10,00,000 P.A.  ', '3 days ago', 'predictive modeling, predictive analytics, machine learning, data science...', 'Cvent India Pvt. Ltd.', '5-8 yrs', 'https://www.naukri.com/job-listings-Analyst-Sr-Analyst-data-Science-Cvent-India-Pvt-Ltd-Gurgaon-5-to-8-years-280818003404?src=jobsearchDesk&sid=15378666784853&xp=12&px=1', '280818003404']\n",
      "['Data Science Analytics Trainer - Part Time (weekends Only)', 'Data Science Analytics Trainer - Part Time (weekends Only)', 'Pune(Viman Nagar)', 'Classes need to be conducted only in weekends - 3 hrs on Saturday AND 3 hours on Sunday in different ...', '  Not disclosed ', '4 days ago', 'machine learning, data science, data scientist, statistical modeling...', 'MARSIAN Technologies LLP', '4-9 yrs', 'https://www.naukri.com/job-listings-Data-Science-Analytics-Trainer-Part-Time-weekends-Only-MARSIAN-Technologies-LLP-Pune-Viman-Nagar-4-to-9-years-210918009295?src=jobsearchDesk&sid=15378666784853&xp=13&px=1', '210918009295']\n",
      "['Strategic Project & Operations - Data Science Associate', 'Strategic Project & Operations - Data Science Associate', 'Gurgaon', None, '  Not disclosed ', '5 days ago', 'Data Science, R, Machine Learning, Python, Spark, Maintenance, Hadoop...', 'BlackRock Services India Pvt. Ltd.', '5-8 yrs', 'https://www.naukri.com/job-listings-Strategic-Project-Operations-Data-Science-Associate-BlackRock-Services-India-Pvt-Ltd-Gurgaon-5-to-8-years-200918900951?src=jobsearchDesk&sid=15378666784853&xp=14&px=1', '200918900951']\n",
      "['Associate Project Manager- Data Science', 'Associate Project Manager- Data Science', 'Noida', 'Should have managed 10-20 team member projects;Should have exp in leading a team;Have experience in ...', '  Not disclosed ', '6 days ago', 'deep learning, natural language processing, information retrieval...', 'IRIS SOFTWARE Inc', '8-12 yrs', 'https://www.naukri.com/job-listings-Associate-Project-Manager-Data-Science-IRIS-SOFTWARE-Inc-Noida-8-to-12-years-190918003753?src=jobsearchDesk&sid=15378666784853&xp=15&px=1', '190918003753']\n",
      "['Head - Data Science & Analytics - Financial Services', 'Head - Data Science & Analytics - Financial Services', 'Noida', '- Incumbent must have Operational understanding includes classical regression, statistical methods like ...', '  Not disclosed ', '6 days ago', 'Data Science, Analytics, Data Mining, Machine Learning, Factor Analysis...', 'Dimensions HRD Consultants', '6-11 yrs', 'https://www.naukri.com/job-listings-Head-Data-Science-Analytics-Financial-Services-Dimensions-HRD-Consultants-Noida-6-to-11-years-180918900697?src=jobsearchDesk&sid=15378666784853&xp=16&px=1', '180918900697']\n",
      "['Urgent Hiring for Full Time Trainer in DATA Science/ Machine Learning', 'Urgent Hiring for Full Time Trainer in DATA Science/ Machine Learning', 'Noida', None, '    1,00,000 - 3,00,000 P.A.  ', '3 days ago', 'data science, Python, Machine learning, Datascience...', 'K V Computer Home Private limited', '0-3 yrs', 'https://www.naukri.com/job-listings-Urgent-Hiring-for-Full-Time-Trainer-in-DATA-Science-Machine-Learning-K-V-Computer-Home-Private-limited-Noida-0-to-3-years-170818003319?src=jobsearchDesk&sid=15378666784853&xp=17&px=1', '170818003319']\n",
      "['Hiring for Sr. Engineer-data Science@value First Digital', 'Hiring for Sr. Engineer-data Science@value First Digital', 'Gurgaon', 'The role need to understand the business problem, define data requirement, work on data set, build and ...', '  Not disclosed ', '7 days ago', 'Data Science, Data Scientist, Machine Learning, Python, R, Clustering', 'ValueFirst Digital Media Pvt. Ltd', '3-4 yrs', 'https://www.naukri.com/job-listings-Hiring-for-Sr-Engineer-data-Science-value-First-Digital-ValueFirst-Digital-Media-Pvt-Ltd-Gurgaon-3-to-4-years-130818002568?src=jobsearchDesk&sid=15378666784853&xp=18&px=1', '130818002568']\n",
      "['Strategic Project & Operations Analyst - Data Science', 'Strategic Project & Operations Analyst - Data Science', 'Gurgaon', None, '  Not disclosed ', '3 days ago', 'Strategic Project & Operations Analyst, Data Science, Cassandra, Spark...', 'BlackRock Services India Pvt. Ltd.', '3-5 yrs', 'https://www.naukri.com/job-listings-Strategic-Project-Operations-Analyst-Data-Science-BlackRock-Services-India-Pvt-Ltd-Gurgaon-3-to-5-years-220918900180?src=jobsearchDesk&sid=15378666784853&xp=19&px=1', '220918900180']\n",
      "['Strategic Project & Operations - Data Science Associate', 'Strategic Project & Operations - Data Science Associate', 'Gurgaon', 'Candidates should have experience or interest in tackling data-related finance issues, analytics and ...', '  Not disclosed ', '3 days ago', 'Data Science, Reuters, Bloomberg, IDC, Cassandra, Spark, Storm, Kafka...', 'BlackRock Services India Pvt. Ltd.', '5-8 yrs', 'https://www.naukri.com/job-listings-Strategic-Project-Operations-Data-Science-Associate-BlackRock-Services-India-Pvt-Ltd-Gurgaon-5-to-8-years-220918900173?src=jobsearchDesk&sid=15378666784853&xp=20&px=1', '220918900173']\n",
      "['Data Science Trainer / Bigdata Hadoop Trainer in a Leading IT Company', 'Data Science Trainer / Bigdata Hadoop Trainer in a Leading IT Company', 'Chandigarh, Mohali', None, '    1,25,000 - 4,00,000 P.A. Best salary as per Industry & ...  ', '3 days ago', 'machine learning, data science, python, hadoop, bigdata, big data, big data...', 'Piford Technologies (P) Ltd', '0-5 yrs', 'https://www.naukri.com/job-listings-Data-Science-Trainer-Bigdata-Hadoop-Trainer-in-a-Leading-IT-Company-Piford-Technologies-P-Ltd-Chandigarh-Mohali-0-to-5-years-220918002725?src=jobsearchDesk&sid=15378666784853&xp=21&px=1', '220918002725']\n",
      "['Hexaware: Walk-in Drive for Data Science on 22nd SEP @ Chennai', 'Hexaware: Walk-in Drive for Data Science on 22nd SEP @ Chennai', 'Chennai', None, '  Not disclosed ', '4 days ago', 'Text Mining, Hive, Hadoop, SQL, Data Science, Data Integration...', 'Hexaware Technologies Ltd.', '4-9 yrs', 'https://www.naukri.com/job-listings-Hexaware-Walk-in-Drive-for-Data-Science-on-22nd-SEP-Chennai-Hexaware-Technologies-Ltd-Chennai-4-to-9-years-190918008695?src=jobsearchDesk&sid=15378666784853&xp=22&px=1', '190918008695']\n",
      "['Hexaware - Walk-in Drive for BIG DATA & Data Science on 22nd Sep', 'Hexaware - Walk-in Drive for BIG DATA & Data Science on 22nd Sep', 'Chennai', None, '  Not disclosed ', '4 days ago', 'SQL Server, Neo4J, Java, SCALA, Spark, Hadoop, Data Science...', 'Hexaware Technologies Ltd.', '9-14 yrs', 'https://www.naukri.com/job-listings-Hexaware-Walk-in-Drive-for-BIG-DATA-Data-Science-on-22nd-Sep-Hexaware-Technologies-Ltd-Chennai-9-to-14-years-190918008451?src=jobsearchDesk&sid=15378666784853&xp=23&px=1', '190918008451']\n",
      "['Head of Data Science (chief Data Scientist)', 'Head of Data Science (chief Data Scientist)', 'Chennai', '- Around 10+ years of professional experience in Analytics including strong retail analytics experience ...', '  Not disclosed ', '3 days ago', 'data science, analytics, Scorecard, Algorithms, Python, SAS...', 'Human Capital for Third Sector', '9-14 yrs', 'https://www.naukri.com/job-listings-Head-of-Data-Science-chief-Data-Scientist-Human-Capital-for-Third-Sector-Chennai-9-to-14-years-220918001639?src=jobsearchDesk&sid=15378666784853&xp=24&px=1', '220918001639']\n",
      "['Opportunity for Data Science with Python - Bangalore...', 'Opportunity for Data Science with Python - Bangalore...', 'Bengaluru', 'We have an opportunity with one of the leading CMMI Level 5 company as follows: ...', '    7,00,000 - 17,00,000 P.A.  ', '4 days ago', 'Data Science, Python, Data Scientist, Senior Data Scientist', 'Think People Solutions Private Ltd', '6-11 yrs', 'https://www.naukri.com/job-listings-Opportunity-for-Data-Science-with-Python-Bangalore-Think-People-Solutions-Private-Ltd-Bengaluru-6-to-11-years-210918000899?src=jobsearchDesk&sid=15378666784853&xp=25&px=1', '210918000899']\n",
      "['Data Science Openings for Top MNC, Banglore.', 'Data Science Openings for Top MNC, Banglore.', 'Bengaluru', 'Pay slips{Please, send me atleast any one Month payslips for current and previous organizations}: ...', '  Not disclosed ', '6 days ago', 'data science', 'ILABZ TECHNOLOGY LLP', '5-9 yrs', 'https://www.naukri.com/job-listings-Data-Science-Openings-for-Top-MNC-Banglore-ILABZ-TECHNOLOGY-LLP-Bengaluru-5-to-9-years-190918009150?src=jobsearchDesk&sid=15378666784853&xp=26&px=1', '190918009150']\n",
      "['SPi Technology - DATA Science Company - Looking for DATA Scientists', 'SPi Technology - DATA Science Company - Looking for DATA Scientists', 'Chennai', 'Demonstrated capability to pick up required software ...', '  Not disclosed ', '14 days ago', 'data science, machine learning, data analysis, data analytics, python...', 'SPI TECHNOLOGIES INDIA PRIVATE LIMITED', '3-8 yrs', 'https://www.naukri.com/job-listings-SPi-Technology-DATA-Science-Company-Looking-for-DATA-Scientists-SPI-TECHNOLOGIES-INDIA-PRIVATE-LIMITED-Chennai-3-to-8-years-260518001114?src=jobsearchDesk&sid=15378666784853&xp=27&px=1', '260518001114']\n",
      "['Data Science Engineer - Machine Learning/r', 'Data Science Engineer - Machine Learning/r', 'Hyderabad', 'BS/ MS in computer science, software engineering, statistics, calculus and algebra or related field ...', '  Not disclosed ', '6 days ago', 'Machine Learning, Deep Learning, Natural Language Processing, R...', 'Vidooly - Startup', '3-7 yrs', 'https://www.naukri.com/job-listings-Data-Science-Engineer-Machine-Learning-r-Vidooly-Startup-Hyderabad-3-to-7-years-170918900714?src=jobsearchDesk&sid=15378666784853&xp=28&px=1', '170918900714']\n",
      "['Data Science/data Scientist - Machine Learning', 'Data Science/data Scientist - Machine Learning', 'Chennai(Mandaveli)', 'Contribute to the improvement of  data science infrastructure, incorporating the ground experience and ...', '  Not disclosed ', '6 days ago', 'Deep Learning, Data Science, Machine Learning, R, Python, SQL, Data Mining,...', 'Matrimony.com Limited', '7-12 yrs', 'https://www.naukri.com/job-listings-Data-Science-data-Scientist-Machine-Learning-Matrimony-com-Limited-Chennai-Mandaveli-7-to-12-years-170918006398?src=jobsearchDesk&sid=15378666784853&xp=29&px=1', '170918006398']\n",
      "['Cyber Security Data Science Engineer', 'Cyber Security Data Science Engineer', 'Bengaluru', '1) Must have experience of working with cyber security products, in terms of development, cyber security ...', '  Not disclosed ', '11 days ago', 'Spark, Java, SCALA, Hadoop, Data Science, Python, Machine Learning, R...', 'JoulestoWatts Business Solutions Pvt Ltd', '2-7 yrs', 'https://www.naukri.com/job-listings-Cyber-Security-Data-Science-Engineer-JoulestoWatts-Business-Solutions-Pvt-Ltd-Bengaluru-2-to-7-years-140918900132?src=jobsearchDesk&sid=15378666784853&xp=30&px=1', '140918900132']\n",
      "['Data Science Trainer', 'Data Science Trainer', 'Chennai', 'About 10+ years experience in Data Science/Machine Learning/Analytics;Should have proven skills in ...', '  Not disclosed ', '13 days ago', 'Deep Learning, NLP, Linear Regression, Data Science, Neural Networks, R...', 'Pathfinder Enterprise Solutions Pvt Ltd', '10-15 yrs', 'https://www.naukri.com/job-listings-Data-Science-Trainer-Pathfinder-Enterprise-Solutions-Pvt-Ltd-Chennai-10-to-15-years-120918003158?src=jobsearchDesk&sid=15378666784853&xp=31&px=1', '120918003158']\n",
      "['Big Data, Data Science and AI Engineer', 'Big Data, Data Science and AI Engineer', 'Coimbatore', 'Proven experience in working with Big Data, AI and Machine Learning ...', '  Not disclosed ', '13 days ago', 'Data Science, Machine Learning, Big Data, Software Development', 'Startup - icliniq.com', '2-5 yrs', 'https://www.naukri.com/job-listings-Big-Data-Data-Science-and-AI-Engineer-Startup-icliniq-com-Coimbatore-2-to-5-years-110918001672?src=jobsearchDesk&sid=15378666784853&xp=32&px=1', '110918001672']\n",
      "['Data Science  - 3+ Years of exp , Chennai', 'Data Science  - 3+ Years of exp , Chennai', 'Chennai(Dhandeeswaram Nagar)', '3 + years experience with analytical software tools such as Python, R, SAS, Matlab;Qualified candidates ...', '  Not disclosed ', '13 days ago', 'Deep Learning, Machine Learning, NLP, Python, Data Science, R, Statistics...', 'Tekclan Software Solutions Private limited', '2-7 yrs', 'https://www.naukri.com/job-listings-Data-Science-3-Years-of-exp-Chennai-Tekclan-Software-Solutions-Private-limited-Chennai-Dhandeeswaram-Nagar-2-to-7-years-100918006414?src=jobsearchDesk&sid=15378666784853&xp=33&px=1', '100918006414']\n",
      "['Senior Data Science Analytics Developer', 'Senior Data Science Analytics Developer', 'Bengaluru(Bellandur)', 'Experience using statistical computer languages (R, Python, SLQ, etc.) for querying and manipulate data ...', '  Not disclosed ', '13 days ago', 'Machine Learning, R, Neural Networks, Data Science, Python...', 'HP India Sales Private Limited', '6-11 yrs', 'https://www.naukri.com/job-listings-Senior-Data-Science-Analytics-Developer-HP-India-Sales-Private-Limited-Bengaluru-Bellandur-6-to-11-years-100918005763?src=jobsearchDesk&sid=15378666784853&xp=34&px=1', '100918005763']\n",
      "['Data Science Engineer @ Pune', 'Data Science Engineer @ Pune', 'Pune', None, '  Not disclosed ', '8 days ago', 'Machine Learning, Data Science, Statistical Modeling, R programming', 'iglance Systems LLP', '8-13 yrs', 'https://www.naukri.com/job-listings-Data-Science-Engineer-Pune-iglance-Systems-LLP-Pune-8-to-13-years-050918004969?src=jobsearchDesk&sid=15378666784853&xp=35&px=1', '050918004969']\n",
      "['Director - Analytics | Hyderabad', 'Director - Analytics | Hyderabad', 'Hyderabad', None, '  Not disclosed ', 'Few Hours Ago', 'Deep Learning, Data Science, R, Machine Learning, Python, Analytics...', 'Karvy Analytics Limited', '14-24 yrs', 'https://www.naukri.com/job-listings-Director-Analytics-Hyderabad-Karvy-Analytics-Limited-Hyderabad-14-to-24-years-250918001498?src=jobsearchDesk&sid=15378666784853&xp=36&px=1', '250918001498']\n",
      "['Head - Data Science/enterprise AI - PhD', 'Head - Data Science/enterprise AI - PhD', 'Bengaluru, Hyderabad, Pune', '- Pre-sales, solutioning, delivery experience;- Should have PnL Responsibility, People Management, ...', '  Not disclosed ', '25 days ago', 'solutioning, data science, people management, competency development...', 'Rinalytics Advisors', '12-18 yrs', 'https://www.naukri.com/job-listings-Head-Data-Science-enterprise-AI-PhD-Rinalytics-Advisors-Bengaluru-Hyderabad-Pune-12-to-18-years-290818901552?src=jobsearchDesk&sid=15378666784853&xp=37&px=1', '290818901552']\n",
      "['Data Science Engineer - Machine Learning', 'Data Science Engineer - Machine Learning', 'Delhi NCR', '1-5 years of work experience, prior experience in design high performance algorithms a must;Finance ...', '  Not disclosed ', '25 days ago', 'Machine Learning, Python, NLP, Neural Networks, Data Science, R, Algorithms...', 'Kalagato - Startup', '1-5 yrs', 'https://www.naukri.com/job-listings-Data-Science-Engineer-Machine-Learning-Kalagato-Startup-Delhi-NCR-1-to-5-years-280818900520?src=jobsearchDesk&sid=15378666784853&xp=38&px=1', '280818900520']\n",
      "['Data Science for Banking', 'Data Science for Banking', 'Bengaluru', 'Accenture Technology powers our clients businesses with innovative technologies established and emerging ...', '  Not disclosed ', '26 days ago', 'Python, Machine learning, Outsourcing, Artificial Intelligence, Operations,...', 'Accenture', '4-8 yrs', 'https://www.naukri.com/job-listings-Data-Science-for-Banking-Accenture-Bengaluru-4-to-8-years-270818900875?src=jobsearchDesk&sid=15378666784853&xp=39&px=1', '270818900875']\n",
      "['Asst. Professor / Research Scholar with Aegis School of Data Science', 'Asst. Professor / Research Scholar with Aegis School of Data Science', 'Mumbai', 'These programs are jointly certified and delivered by Aegis association with IBM;Aegis School of ...', '    4,00,000 - 8,00,000 P.A.  ', '29 days ago', 'Deep Learning, Text Mining, Machine Learning, Computer Vision, R...', 'Aegis School of Business (Part of Aegis KnowledgeTrust)', '0-5 yrs', 'https://www.naukri.com/job-listings-Asst-Professor-Research-Scholar-with-Aegis-School-of-Data-Science-Aegis-School-of-Business-Part-of-Aegis-KnowledgeTrust-Mumbai-0-to-5-years-270818008582?src=jobsearchDesk&sid=15378666784853&xp=40&px=1', '270818008582']\n",
      "['Data Science/ Python Developer', 'Data Science/ Python Developer', 'Noida(Sector-59 Noida)', 'Should have 2+ years creating predictive models using advance machine learning;Should have an expert ...', '    4,00,000 - 7,50,000 P.A.  ', '17 days ago', 'Python, Django, Data Science, Machine Learning, R, SQL, Spark...', 'Polestar Solutions And Services India Pvt. Ltd.', '2-7 yrs', 'https://www.naukri.com/job-listings-Data-Science-Python-Developer-Polestar-Solutions-And-Services-India-Pvt-Ltd-Noida-Sector-59-Noida-2-to-7-years-080918004151?src=jobsearchDesk&sid=15378666784853&xp=41&px=1', '080918004151']\n",
      "['Data Science (jupyter/azure Ml/matlab)', 'Data Science (jupyter/azure Ml/matlab)', 'Bengaluru', None, '  Not disclosed ', '18 days ago', 'MATLAB, Data mining, Machine learning, Outsourcing, Artificial Intelligence...', 'Accenture', '1-5 yrs', 'https://www.naukri.com/job-listings-Data-Science-jupyter-azure-Ml-matlab-Accenture-Bengaluru-1-to-5-years-060918901943?src=jobsearchDesk&sid=15378666784853&xp=42&px=1', '060918901943']\n",
      "['Data Science (jupyter/azure Ml/matlab)', 'Data Science (jupyter/azure Ml/matlab)', 'Bengaluru', None, '  Not disclosed ', '18 days ago', 'Python, MATLAB, Data mining, Machine learning, Outsourcing...', 'Accenture', '1-5 yrs', 'https://www.naukri.com/job-listings-Data-Science-jupyter-azure-Ml-matlab-Accenture-Bengaluru-1-to-5-years-060918901929?src=jobsearchDesk&sid=15378666784853&xp=43&px=1', '060918901929']\n",
      "['Data Science (jupyter/azure Ml/matlab)', 'Data Science (jupyter/azure Ml/matlab)', 'Bengaluru', None, '  Not disclosed ', '19 days ago', 'Python, MATLAB, Data mining, Machine learning, Outsourcing, Operations...', 'Accenture', '2-5 yrs', 'https://www.naukri.com/job-listings-Data-Science-jupyter-azure-Ml-matlab-Accenture-Bengaluru-2-to-5-years-060918900776?src=jobsearchDesk&sid=15378666784853&xp=44&px=1', '060918900776']\n",
      "['Data Science,machine Learning, NLP, SAS, R, Mongodb,nosql', 'Data Science,machine Learning, NLP, SAS, R, Mongodb,nosql', 'Mumbai', 'At least 7 years of work experience as a data scientist;Experience with common d ata science toolkits, ...', '  Not disclosed ', '23 days ago', 'hadoop, nosql, data science, nlp, sql, r, MongoDB, Machine Learning...', 'Careernet Technologies Pvt Ltd', '7-11 yrs', 'https://www.naukri.com/job-listings-Data-Science-machine-Learning-NLP-SAS-R-Mongodb-nosql-Careernet-Technologies-Pvt-Ltd-Mumbai-7-to-11-years-060718006716?src=jobsearchDesk&sid=15378666784853&xp=45&px=1', '060718006716']\n",
      "['DGM- Operation Research and Forecasting(data Science)', 'DGM- Operation Research and Forecasting(data Science)', 'Mumbai', 'Job Description  We are looking out for the position of DGM operation research and ...', '  Not disclosed ', '25 days ago', 'operations research, senior management, revenue management...', 'Go Airlines (India) Pvt. Ltd.', '10-20 yrs', 'https://www.naukri.com/job-listings-DGM-Operation-Research-and-Forecasting-data-Science-Go-Airlines-India-Pvt-Ltd-Mumbai-10-to-20-years-050718007193?src=jobsearchDesk&sid=15378666784853&xp=46&px=1', '050718007193']\n",
      "['Data Science (jupyter/azure Ml/matlab)', 'Data Science (jupyter/azure Ml/matlab)', 'Bengaluru', 'Accenture Technology powers our clients businesses with innovative technologies established and emerging ...', '  Not disclosed ', '21 days ago', 'SAP, Python, MATLAB, Enterprise applications, Data analysis...', 'Accenture', '4-7 yrs', 'https://www.naukri.com/job-listings-Data-Science-jupyter-azure-Ml-matlab-Accenture-Bengaluru-4-to-7-years-030918901783?src=jobsearchDesk&sid=15378666784853&xp=47&px=1', '030918901783']\n",
      "['Data Science Associate Consultant (pune, India)', 'Data Science Associate Consultant (pune, India)', 'Pune', None, '  Not disclosed ', '22 days ago', 'data science, machine learning, data mining, analytics, client solutions...', 'ZS Associates {India} Pvt Ltd', '3-5 yrs', 'https://www.naukri.com/job-listings-Data-Science-Associate-Consultant-pune-India-ZS-Associates-India-Pvt-Ltd-Pune-3-to-5-years-030918900398?src=jobsearchDesk&sid=15378666784853&xp=48&px=1', '030918900398']\n",
      "['Data Science Associate Consultant', 'Data Science Associate Consultant', 'Delhi', 'High motivation, good work ethic and maturity;In lieu of a PhD, 3-5 years of relevant post-collegiate ...', '  Not disclosed ', '20 days ago', 'Text Mining, Data Science, R, Machine Learning, Predictive Modeling...', 'ZS Associates {India} Pvt Ltd', '3-5 yrs', 'https://www.naukri.com/job-listings-Data-Science-Associate-Consultant-ZS-Associates-India-Pvt-Ltd-Delhi-3-to-5-years-030918900204?src=jobsearchDesk&sid=15378666784853&xp=49&px=1', '030918900204']\n",
      "['Data Science Lead', 'Data Science Lead', 'Bengaluru', 'Experience in applying machine learning techniques to real-world problems in a production environment ...', '  Not disclosed ', '20 days ago', 'Data Science Lead, Data Science, product development, algorithms...', 'D Cube Analytics- Startup', '5-10 yrs', 'https://www.naukri.com/job-listings-Data-Science-Lead-D-Cube-Analytics-Startup-Bengaluru-5-to-10-years-030918900064?src=jobsearchDesk&sid=15378666784853&xp=50&px=1', '030918900064']\n"
     ]
    }
   ],
   "source": [
    "for job in data2:\n",
    "    print(job)"
   ]
  },
  {
   "cell_type": "code",
   "execution_count": 117,
   "metadata": {},
   "outputs": [],
   "source": [
    "import csv \n",
    "with open (\"output1.csv\" , \"w\", newline = '') as f:\n",
    "    writer = csv.writer(f)\n",
    "    writer.writerows(data1)"
   ]
  },
  {
   "cell_type": "code",
   "execution_count": null,
   "metadata": {},
   "outputs": [],
   "source": []
  }
 ],
 "metadata": {
  "kernelspec": {
   "display_name": "Python 3",
   "language": "python",
   "name": "python3"
  },
  "language_info": {
   "codemirror_mode": {
    "name": "ipython",
    "version": 3
   },
   "file_extension": ".py",
   "mimetype": "text/x-python",
   "name": "python",
   "nbconvert_exporter": "python",
   "pygments_lexer": "ipython3",
   "version": "3.6.5"
  }
 },
 "nbformat": 4,
 "nbformat_minor": 2
}
