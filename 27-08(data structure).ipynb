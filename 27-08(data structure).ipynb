{
 "cells": [
  {
   "cell_type": "code",
   "execution_count": 8,
   "metadata": {},
   "outputs": [
    {
     "data": {
      "text/plain": [
       "'the three types of the              data structures are \\nstrings :\\nlists : hetrogenous , mutable collection of elements\\ntuples\\ndictionaries\\n\\n\\n\\n                 fuctions type :\\nuser defined \\nbuilt in\\nlambda\\n\\n\\n                            List\\nsubsetting the list:\\n\\nmylist[2:] --> 2 index to last # inclusive\\nmylist[2:6] --> 2 to 5 only 6 is not included # it is an exclusive \\nmylist[:6] --> 0 to 5 # inclusive of 0 index\\n \\n                                Type of search  search\\nLinear serach\\n\\n'"
      ]
     },
     "execution_count": 8,
     "metadata": {},
     "output_type": "execute_result"
    }
   ],
   "source": [
    "'''the three types of the              data structures are \n",
    "strings :\n",
    "lists : hetrogenous , mutable collection of elements\n",
    "tuples\n",
    "dictionaries\n",
    "\n",
    "\n",
    "\n",
    "                 fuctions type :\n",
    "user defined \n",
    "built in\n",
    "lambda\n",
    "\n",
    "\n",
    "                            List\n",
    "subsetting the list:\n",
    "\n",
    "mylist[2:] --> 2 index to last # inclusive\n",
    "mylist[2:6] --> 2 to 5 only 6 is not included # it is an exclusive \n",
    "mylist[:6] --> 0 to 5 # inclusive of 0 index\n",
    " \n",
    "                                Type of search  search\n",
    "Linear serach\n",
    "\n",
    "'''"
   ]
  },
  {
   "cell_type": "code",
   "execution_count": 2,
   "metadata": {},
   "outputs": [
    {
     "name": "stdout",
     "output_type": "stream",
     "text": [
      "[5, 6, 7, 8]\n",
      "[5, 6, 7, 8]\n",
      "[3, 4, 5, 6, 7, 8]\n"
     ]
    }
   ],
   "source": [
    "mylist = [3,4,5,6,7,8]\n",
    "print(mylist[2:])\n",
    "print(mylist[2:6])\n",
    "print(mylist[:6])"
   ]
  },
  {
   "cell_type": "code",
   "execution_count": 9,
   "metadata": {},
   "outputs": [
    {
     "name": "stdout",
     "output_type": "stream",
     "text": [
      "enter the numerical data1\n"
     ]
    }
   ],
   "source": [
    "# wap to search for the element in the list\n",
    "''' Linear serarch '''\n",
    "k = int(input('enter the numerical data'))\n",
    "for i in mylist:\n",
    "    if(k == i):\n",
    "        print(\"Found\",k ,\"in my list\")\n",
    "        break;"
   ]
  },
  {
   "cell_type": "code",
   "execution_count": 12,
   "metadata": {},
   "outputs": [
    {
     "name": "stdout",
     "output_type": "stream",
     "text": [
      "enter 3\n",
      "item found\n"
     ]
    }
   ],
   "source": [
    "# Alternative way\n",
    "serach = int(input(\"enter \"))\n",
    "if serach in mylist:\n",
    "    print(\"item found\")\n",
    "else:\n",
    "    print(\"item not found\")"
   ]
  },
  {
   "cell_type": "code",
   "execution_count": 24,
   "metadata": {},
   "outputs": [
    {
     "name": "stdout",
     "output_type": "stream",
     "text": [
      "[5, 4, 3, 7, 90, 100, 90, 30, 40, 90]\n",
      "{3, 4, 5, 100, 7, 40, 90, 30}\n",
      "3 freq is 1 at positon [3]\n",
      "4 freq is 1 at positon [2]\n",
      "5 freq is 1 at positon [1]\n",
      "100 freq is 1 at positon [6]\n",
      "7 freq is 1 at positon [4]\n",
      "40 freq is 1 at positon [9]\n",
      "90 freq is 3 at positon [5, 7, 10]\n",
      "30 freq is 1 at positon [8]\n"
     ]
    }
   ],
   "source": [
    "# if duplicates\n",
    "mlist = [5,4,3,7,90,100,90,30,40,90]\n",
    "#k = 90\n",
    "c = 0\n",
    "p = []\n",
    "t = set(mlist)\n",
    "print(mlist)\n",
    "print(t)\n",
    "for k in t:\n",
    "    c = 0\n",
    "    p =[]\n",
    "    for i in range(len(mlist)):\n",
    "        if(mlist[i] == k):\n",
    "            c = c+1\n",
    "            p.append(i+1)\n",
    "    print(k,\"freq is\",c, 'at positon',p)\n",
    "\n"
   ]
  },
  {
   "cell_type": "code",
   "execution_count": 26,
   "metadata": {},
   "outputs": [
    {
     "name": "stdout",
     "output_type": "stream",
     "text": [
      "4\n",
      "9\n",
      "8\n",
      "15\n",
      "12\n",
      "21\n",
      "16\n"
     ]
    }
   ],
   "source": [
    "# write a program to multiply every even number of the list  by 2 and odd by 3\n",
    "try:\n",
    "    l = [2,3,4,5,6,7,8]\n",
    "    for i in l:\n",
    "        if(i%2 == 0):\n",
    "            print(i*2)\n",
    "        else:\n",
    "            print(i*3)\n",
    "except:\n",
    "    print(\"wrong\")"
   ]
  },
  {
   "cell_type": "code",
   "execution_count": 29,
   "metadata": {},
   "outputs": [
    {
     "name": "stdout",
     "output_type": "stream",
     "text": [
      "[33, 24, 39, 28, 45, 36, 40]\n"
     ]
    }
   ],
   "source": [
    "# action for the elemnet in list\n",
    "# action  : num * 2 if num % 2 == 0 else num * 3 for num in lst\n",
    "# for loop : for num in lst\n",
    "lst = [11,12,13,14,15,18,20]\n",
    "lst1  = [num *2 if num % 2 == 0 else num * 3 for num in lst]\n",
    "print(lst1)"
   ]
  },
  {
   "cell_type": "code",
   "execution_count": 34,
   "metadata": {},
   "outputs": [
    {
     "name": "stdout",
     "output_type": "stream",
     "text": [
      "[24, 28, 36, 40]\n"
     ]
    }
   ],
   "source": [
    "# filter : only even  elment num % \n",
    "lst = [11,12,13,14,15,18,20]\n",
    "lst1  = [num *2   for num in lst  if num % 2 ==0]\n",
    "print(lst1)"
   ]
  },
  {
   "cell_type": "code",
   "execution_count": 50,
   "metadata": {},
   "outputs": [
    {
     "name": "stdout",
     "output_type": "stream",
     "text": [
      " \n",
      "* \n",
      "** \n",
      "*** \n",
      "**** \n",
      "***** \n"
     ]
    }
   ],
   "source": [
    "# \n",
    "i = 0\n",
    "j = 0\n",
    "for i in range(6):\n",
    "    for j in range(i):\n",
    "        print('*',end =\"\")\n",
    "    print( \" \")  "
   ]
  },
  {
   "cell_type": "code",
   "execution_count": 65,
   "metadata": {},
   "outputs": [
    {
     "name": "stdout",
     "output_type": "stream",
     "text": [
      "[2000]\n"
     ]
    }
   ],
   "source": [
    "import math\n",
    "import statistics\n",
    "l = [2,3,4,5,6,7,8]\n",
    "s = [num for num in l if num >  statistics.mean(l) ]\n",
    "#print(s)\n",
    "l = [-00.3,-0.5,0.6,1,2,3,4,5,10,11,12,13,14,15,16,40,41,42,100,310,221,2000]\n",
    "s = [num for num in l if num < (statistics.mean(l) - 2*(statistics.stdev(l))) or (num > statistics.mean(l) + 2*(statistics.stdev(l))) ]\n",
    "print(s)"
   ]
  },
  {
   "cell_type": "code",
   "execution_count": 67,
   "metadata": {},
   "outputs": [],
   "source": [
    "# how do in between"
   ]
  },
  {
   "cell_type": "code",
   "execution_count": 75,
   "metadata": {},
   "outputs": [
    {
     "name": "stdout",
     "output_type": "stream",
     "text": [
      "2446431562440\n",
      "2446412862952\n",
      "2446431562440\n",
      "2446431647240\n"
     ]
    }
   ],
   "source": [
    "k = l# shallow copy\n",
    "p = l.copy # deep copy\n",
    "j =[]\n",
    "for i in l:\n",
    "    j.append(i)\n",
    "print(id(l))\n",
    "print(id(p)) # deep\n",
    "print(id(k))\n",
    "print(id(j)) # deep"
   ]
  }
 ],
 "metadata": {
  "kernelspec": {
   "display_name": "Python 3",
   "language": "python",
   "name": "python3"
  },
  "language_info": {
   "codemirror_mode": {
    "name": "ipython",
    "version": 3
   },
   "file_extension": ".py",
   "mimetype": "text/x-python",
   "name": "python",
   "nbconvert_exporter": "python",
   "pygments_lexer": "ipython3",
   "version": "3.6.4"
  }
 },
 "nbformat": 4,
 "nbformat_minor": 2
}
