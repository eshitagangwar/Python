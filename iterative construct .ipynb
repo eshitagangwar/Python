{
 "cells": [
  {
   "cell_type": "code",
   "execution_count": 1,
   "metadata": {},
   "outputs": [
    {
     "name": "stdout",
     "output_type": "stream",
     "text": [
      "5\n",
      "4\n",
      "3\n",
      "2\n",
      "1\n",
      "outside while\n"
     ]
    }
   ],
   "source": [
    "n = 5\n",
    "while n>0:\n",
    "    print(n)\n",
    "    n = n-1\n",
    "print('outside while')    "
   ]
  },
  {
   "cell_type": "code",
   "execution_count": 3,
   "metadata": {},
   "outputs": [
    {
     "name": "stdout",
     "output_type": "stream",
     "text": [
      "10\n",
      "9\n",
      "8\n",
      "7\n",
      "6\n",
      "5\n",
      "4\n",
      "3\n",
      "2\n",
      "1\n",
      "Done\n"
     ]
    }
   ],
   "source": [
    "n = 10\n",
    "while True:\n",
    "    print(n)\n",
    "    n=n-1\n",
    "    if(n==0):\n",
    "        break\n",
    "print('Done')"
   ]
  },
  {
   "cell_type": "code",
   "execution_count": 4,
   "metadata": {},
   "outputs": [
    {
     "name": "stdout",
     "output_type": "stream",
     "text": [
      "enter a input2\n",
      "2\n",
      "enter a input3\n",
      "3\n",
      "enter a input1\n",
      "1\n",
      "enter a input#\n",
      "#\n",
      "enter a inputdone\n",
      "done\n",
      "finish\n"
     ]
    }
   ],
   "source": [
    "n = 10\n",
    "while True:\n",
    "    n = input(\"enter a input\")\n",
    "    print(n)\n",
    "    if(n =='#'):\n",
    "        continue\n",
    "    if(n=='done'):\n",
    "        break\n",
    "print('finish')"
   ]
  },
  {
   "cell_type": "code",
   "execution_count": 20,
   "metadata": {},
   "outputs": [
    {
     "name": "stdout",
     "output_type": "stream",
     "text": [
      "enter a no.7\n",
      "3\n",
      " a prime\n"
     ]
    }
   ],
   "source": [
    "n = int(input('enter a no.'))\n",
    "try:\n",
    "    i = 2\n",
    "    c =0\n",
    "    n = int(n)\n",
    "    print(n//2)\n",
    "    while(i<(n//2)):\n",
    "        if(n%i == 0):\n",
    "            c = c+1\n",
    "        i =i+1\n",
    "    if(c>0):\n",
    "        print('prime noo.')\n",
    "    else:\n",
    "        print(' a prime')\n",
    "except:\n",
    "    print('invalid input')"
   ]
  },
  {
   "cell_type": "code",
   "execution_count": null,
   "metadata": {},
   "outputs": [],
   "source": [
    "# Given a number find next five prime no.\n",
    "n = int(input('enter a no.'))\n",
    "try:\n",
    "    k=0\n",
    "    while(k<=5):\n",
    "        i = 2\n",
    "        c =0\n",
    "        n = int(n)\n",
    "        #print(n//2)\n",
    "        while(i<(n//2)):\n",
    "            if(n%i == 0):\n",
    "                c = c+1\n",
    "                i =i+1\n",
    "        n = n+1\n",
    "        if(c>0):\n",
    "            print('prime noo.')\n",
    "            k = k+1\n",
    "        else:\n",
    "            print(' a prime')\n",
    "    \n",
    "except:\n",
    "    print('invalid input')"
   ]
  },
  {
   "cell_type": "code",
   "execution_count": null,
   "metadata": {},
   "outputs": [],
   "source": [
    "n1 = int(input('enter a no.'))\n",
    "try:\n",
    "    k=0\n",
    "    n = int(n1) +1\n",
    "    while(k<=5):\n",
    "        i = 2\n",
    "        c = 0\n",
    "        \n",
    "        #prime or not\n",
    "        while(i<n):\n",
    "            if(n%i == 0):\n",
    "                c = c+1\n",
    "                i =i+1\n",
    "                \n",
    "                \n",
    "        if(c>0):\n",
    "            print('prime not.')\n",
    "            \n",
    "        else:\n",
    "            print(' a prime' + str(n))\n",
    "            k = k+1\n",
    "            \n",
    "        # next no.\n",
    "        n = n+1\n",
    "        print(str(n) + \"n : \")\n",
    "    print(\"out\")\n",
    "except:\n",
    "    print('invalid input')"
   ]
  },
  {
   "cell_type": "code",
   "execution_count": null,
   "metadata": {},
   "outputs": [
    {
     "name": "stdout",
     "output_type": "stream",
     "text": [
      "enter a no.2\n"
     ]
    }
   ],
   "source": [
    "n = int(input('enter a no.'))\n",
    "try:\n",
    "    k= 0\n",
    "    n = n +1\n",
    "    while(k<=5):\n",
    "        i = 2\n",
    "        c = 0\n",
    "        #prime or not\n",
    "        while(i<n):\n",
    "            if(n%i == 0):\n",
    "                c = c+1\n",
    "                i =i+1\n",
    "                \n",
    "                \n",
    "        if(c>0):\n",
    "            print('prime not.')\n",
    "            \n",
    "        else:\n",
    "            print(' a prime' + str(n))\n",
    "            k = k+1\n",
    "            \n",
    "        # next no.\n",
    "        n = n+1\n",
    "        print(str(n) + \"n : \")\n",
    "    print(\"out : \" + str(k))\n",
    "except:\n",
    "    print('invalid input')"
   ]
  },
  {
   "cell_type": "code",
   "execution_count": 6,
   "metadata": {},
   "outputs": [
    {
     "name": "stdout",
     "output_type": "stream",
     "text": [
      "enter a no.2\n",
      " a prime3\n",
      " a prime5\n",
      " a prime7\n",
      " a prime11\n",
      " a prime13\n",
      "out : 5\n"
     ]
    }
   ],
   "source": [
    "n = int(input('enter a no.'))\n",
    "try:\n",
    "    k= 0\n",
    "    n = n +1\n",
    "    while(k<5 ):\n",
    "        i = 2\n",
    "        c = 0\n",
    "        #print(n)\n",
    "        while(i<n):\n",
    "            if(n%i == 0):\n",
    "                c = c+1\n",
    "            i =i+1\n",
    "                \n",
    "                \n",
    "        if(c==0):\n",
    "            print( str(n))\n",
    "            k = k+1\n",
    "            \n",
    "        \n",
    "            \n",
    "            \n",
    "        # next no.\n",
    "        n = n+1\n",
    "        #print(str(n) + \"n : \")\n",
    "    print(\"out : \" + str(k))\n",
    "except:\n",
    "    print('invalid input')"
   ]
  },
  {
   "cell_type": "code",
   "execution_count": 10,
   "metadata": {},
   "outputs": [
    {
     "name": "stdout",
     "output_type": "stream",
     "text": [
      "enter a no.2\n",
      "enter last no.21\n",
      "3\n",
      "5\n",
      "7\n",
      "11\n",
      "13\n",
      "17\n",
      "19\n",
      "out : \n"
     ]
    }
   ],
   "source": [
    "n = int(input('enter a no.'))\n",
    "n1 = int(input(\"enter last no.\"))\n",
    "try:\n",
    "    k= 0\n",
    "    n = n +1\n",
    "    while( n < n1 ):\n",
    "        i = 2\n",
    "        c = 0\n",
    "        #print(n)\n",
    "        while(i<n):\n",
    "            if(n%i == 0):\n",
    "                c = c+1\n",
    "            i =i+1\n",
    "                \n",
    "                \n",
    "        if(c==0):\n",
    "            print( str(n))\n",
    "            k = k+1\n",
    "            \n",
    "        \n",
    "            \n",
    "            \n",
    "        # next no.\n",
    "        n = n+1\n",
    "        #print(str(n) + \"n : \")\n",
    "    print(\"out : \")\n",
    "except:\n",
    "    print('invalid input')"
   ]
  },
  {
   "cell_type": "code",
   "execution_count": null,
   "metadata": {},
   "outputs": [],
   "source": []
  }
 ],
 "metadata": {
  "kernelspec": {
   "display_name": "Python 3",
   "language": "python",
   "name": "python3"
  },
  "language_info": {
   "codemirror_mode": {
    "name": "ipython",
    "version": 3
   },
   "file_extension": ".py",
   "mimetype": "text/x-python",
   "name": "python",
   "nbconvert_exporter": "python",
   "pygments_lexer": "ipython3",
   "version": "3.6.4"
  }
 },
 "nbformat": 4,
 "nbformat_minor": 2
}
