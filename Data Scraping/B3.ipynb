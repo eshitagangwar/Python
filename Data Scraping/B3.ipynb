{
 "cells": [
  {
   "cell_type": "markdown",
   "metadata": {},
   "source": [
    "# Day 3\n",
    "## Scraping tables"
   ]
  },
  {
   "cell_type": "code",
   "execution_count": 1,
   "metadata": {},
   "outputs": [],
   "source": [
    "import pandas as pd\n",
    "import numpy as np\n",
    "from selenium import webdriver"
   ]
  },
  {
   "cell_type": "code",
   "execution_count": 60,
   "metadata": {},
   "outputs": [],
   "source": [
    "browser = webdriver.Chrome('/Users/Softwares/chromedriver')"
   ]
  },
  {
   "cell_type": "code",
   "execution_count": 16,
   "metadata": {},
   "outputs": [],
   "source": [
    "url = 'https://www.imdb.com/india/top-rated-indian-movies/?pf_rd_m=A2FGELUUNOQJNL&pf_rd_p=600ca544-31f5-4bd8-ae38-ea4014c93bab&pf_rd_r=3A1GWZGCTDEBZJESJJCS&pf_rd_s=right-4&pf_rd_t=15061&pf_rd_i=homepage&ref_=hm_india_tr_rhs_1'"
   ]
  },
  {
   "cell_type": "code",
   "execution_count": 9,
   "metadata": {},
   "outputs": [],
   "source": [
    "tables = pd.read_html(url)"
   ]
  },
  {
   "cell_type": "code",
   "execution_count": 10,
   "metadata": {},
   "outputs": [
    {
     "data": {
      "text/plain": [
       "2"
      ]
     },
     "execution_count": 10,
     "metadata": {},
     "output_type": "execute_result"
    }
   ],
   "source": [
    "len(tables)"
   ]
  },
  {
   "cell_type": "code",
   "execution_count": 14,
   "metadata": {},
   "outputs": [],
   "source": [
    "movies = tables[0]"
   ]
  },
  {
   "cell_type": "markdown",
   "metadata": {},
   "source": [
    "## Method 2: Using Selenium"
   ]
  },
  {
   "cell_type": "code",
   "execution_count": 67,
   "metadata": {},
   "outputs": [],
   "source": [
    "browser.get(url)"
   ]
  },
  {
   "cell_type": "code",
   "execution_count": 62,
   "metadata": {},
   "outputs": [
    {
     "data": {
      "text/plain": [
       "<selenium.webdriver.remote.webelement.WebElement (session=\"ce3faca80d94f6f909be053616b71d8b\", element=\"0.6763218785445602-1\")>"
      ]
     },
     "execution_count": 62,
     "metadata": {},
     "output_type": "execute_result"
    }
   ],
   "source": [
    "sel = 'table.chart.full-width[data-caller-name=\"imdb-featured-india\"]'\n",
    "table_tag = browser.find_element_by_css_selector(sel)\n",
    "table_tag"
   ]
  },
  {
   "cell_type": "markdown",
   "metadata": {},
   "source": [
    "### Get column names"
   ]
  },
  {
   "cell_type": "code",
   "execution_count": 63,
   "metadata": {},
   "outputs": [
    {
     "data": {
      "text/plain": [
       "5"
      ]
     },
     "execution_count": 63,
     "metadata": {},
     "output_type": "execute_result"
    }
   ],
   "source": [
    "thead = table_tag.find_element_by_css_selector('thead')\n",
    "tr = thead.find_element_by_css_selector('tr')\n",
    "th_tags = tr.find_elements_by_css_selector('th')\n",
    "len(th_tags)"
   ]
  },
  {
   "cell_type": "code",
   "execution_count": 32,
   "metadata": {},
   "outputs": [
    {
     "data": {
      "text/plain": [
       "5"
      ]
     },
     "execution_count": 32,
     "metadata": {},
     "output_type": "execute_result"
    }
   ],
   "source": [
    "th_tags = table_tag.find_elements_by_css_selector('thead > tr > th')\n",
    "len(th_tags)"
   ]
  },
  {
   "cell_type": "code",
   "execution_count": 34,
   "metadata": {},
   "outputs": [
    {
     "data": {
      "text/plain": [
       "['', 'Rank & Title', 'IMDb Rating', 'Your Rating', '']"
      ]
     },
     "execution_count": 34,
     "metadata": {},
     "output_type": "execute_result"
    }
   ],
   "source": [
    "col_names = [th.text for th in th_tags]\n",
    "col_names"
   ]
  },
  {
   "cell_type": "markdown",
   "metadata": {},
   "source": [
    "### Get data "
   ]
  },
  {
   "cell_type": "code",
   "execution_count": 57,
   "metadata": {},
   "outputs": [],
   "source": [
    "col_names = [th.text for th in th_tags]\n",
    "col_names[0] = 'Poster'\n",
    "col_names[-1] = 'Watchlist'\n",
    "imdb = pd.DataFrame(columns=col_names)\n",
    "tr_tags = table_tag.find_elements_by_css_selector('tbody > tr')\n",
    "\n",
    "for tr in tr_tags:\n",
    "    td_tags = tr.find_elements_by_css_selector('td')\n",
    "    td_data = [td.text for td in td_tags]\n",
    "    row_series = pd.Series(td_data, index=col_names)\n",
    "    imdb = imdb.append(row_series, ignore_index=True)"
   ]
  },
  {
   "cell_type": "code",
   "execution_count": 58,
   "metadata": {},
   "outputs": [
    {
     "data": {
      "text/html": [
       "<div>\n",
       "<style scoped>\n",
       "    .dataframe tbody tr th:only-of-type {\n",
       "        vertical-align: middle;\n",
       "    }\n",
       "\n",
       "    .dataframe tbody tr th {\n",
       "        vertical-align: top;\n",
       "    }\n",
       "\n",
       "    .dataframe thead th {\n",
       "        text-align: right;\n",
       "    }\n",
       "</style>\n",
       "<table border=\"1\" class=\"dataframe\">\n",
       "  <thead>\n",
       "    <tr style=\"text-align: right;\">\n",
       "      <th></th>\n",
       "      <th>Poster</th>\n",
       "      <th>Rank &amp; Title</th>\n",
       "      <th>IMDb Rating</th>\n",
       "      <th>Your Rating</th>\n",
       "      <th>Watchlist</th>\n",
       "    </tr>\n",
       "  </thead>\n",
       "  <tbody>\n",
       "    <tr>\n",
       "      <th>0</th>\n",
       "      <td></td>\n",
       "      <td>1. Anand (1971)</td>\n",
       "      <td>8.7</td>\n",
       "      <td></td>\n",
       "      <td></td>\n",
       "    </tr>\n",
       "    <tr>\n",
       "      <th>1</th>\n",
       "      <td></td>\n",
       "      <td>2. Drishyam (2013)</td>\n",
       "      <td>8.6</td>\n",
       "      <td></td>\n",
       "      <td></td>\n",
       "    </tr>\n",
       "    <tr>\n",
       "      <th>2</th>\n",
       "      <td></td>\n",
       "      <td>3. Nayakan (1987)</td>\n",
       "      <td>8.6</td>\n",
       "      <td></td>\n",
       "      <td></td>\n",
       "    </tr>\n",
       "    <tr>\n",
       "      <th>3</th>\n",
       "      <td></td>\n",
       "      <td>4. Anbe Sivam (2003)</td>\n",
       "      <td>8.5</td>\n",
       "      <td></td>\n",
       "      <td></td>\n",
       "    </tr>\n",
       "    <tr>\n",
       "      <th>4</th>\n",
       "      <td></td>\n",
       "      <td>5. Gol Maal (1979)</td>\n",
       "      <td>8.5</td>\n",
       "      <td></td>\n",
       "      <td></td>\n",
       "    </tr>\n",
       "  </tbody>\n",
       "</table>\n",
       "</div>"
      ],
      "text/plain": [
       "  Poster          Rank & Title IMDb Rating Your Rating Watchlist\n",
       "0              1. Anand (1971)         8.7                      \n",
       "1           2. Drishyam (2013)         8.6                      \n",
       "2            3. Nayakan (1987)         8.6                      \n",
       "3         4. Anbe Sivam (2003)         8.5                      \n",
       "4           5. Gol Maal (1979)         8.5                      "
      ]
     },
     "execution_count": 58,
     "metadata": {},
     "output_type": "execute_result"
    }
   ],
   "source": [
    "imdb.head()"
   ]
  },
  {
   "cell_type": "code",
   "execution_count": 65,
   "metadata": {},
   "outputs": [
    {
     "data": {
      "text/html": [
       "<div>\n",
       "<style scoped>\n",
       "    .dataframe tbody tr th:only-of-type {\n",
       "        vertical-align: middle;\n",
       "    }\n",
       "\n",
       "    .dataframe tbody tr th {\n",
       "        vertical-align: top;\n",
       "    }\n",
       "\n",
       "    .dataframe thead th {\n",
       "        text-align: right;\n",
       "    }\n",
       "</style>\n",
       "<table border=\"1\" class=\"dataframe\">\n",
       "  <thead>\n",
       "    <tr style=\"text-align: right;\">\n",
       "      <th></th>\n",
       "      <th>Poster</th>\n",
       "      <th>Rank &amp; Title</th>\n",
       "      <th>IMDb Rating</th>\n",
       "      <th>Your Rating</th>\n",
       "      <th>Watchlist</th>\n",
       "    </tr>\n",
       "  </thead>\n",
       "  <tbody>\n",
       "    <tr>\n",
       "      <th>0</th>\n",
       "      <td>https://m.media-amazon.com/images/M/MV5BNmZkMT...</td>\n",
       "      <td>1. Anand (1971)</td>\n",
       "      <td>8.7</td>\n",
       "      <td></td>\n",
       "      <td></td>\n",
       "    </tr>\n",
       "    <tr>\n",
       "      <th>1</th>\n",
       "      <td>https://m.media-amazon.com/images/M/MV5BYmY3Mz...</td>\n",
       "      <td>2. Drishyam (2013)</td>\n",
       "      <td>8.6</td>\n",
       "      <td></td>\n",
       "      <td></td>\n",
       "    </tr>\n",
       "    <tr>\n",
       "      <th>2</th>\n",
       "      <td>https://m.media-amazon.com/images/M/MV5BZDhkMT...</td>\n",
       "      <td>3. Nayakan (1987)</td>\n",
       "      <td>8.6</td>\n",
       "      <td></td>\n",
       "      <td></td>\n",
       "    </tr>\n",
       "    <tr>\n",
       "      <th>3</th>\n",
       "      <td>https://m.media-amazon.com/images/M/MV5BNWQxY2...</td>\n",
       "      <td>4. Anbe Sivam (2003)</td>\n",
       "      <td>8.5</td>\n",
       "      <td></td>\n",
       "      <td></td>\n",
       "    </tr>\n",
       "    <tr>\n",
       "      <th>4</th>\n",
       "      <td>https://m.media-amazon.com/images/M/MV5BMjA4OT...</td>\n",
       "      <td>5. Gol Maal (1979)</td>\n",
       "      <td>8.5</td>\n",
       "      <td></td>\n",
       "      <td></td>\n",
       "    </tr>\n",
       "  </tbody>\n",
       "</table>\n",
       "</div>"
      ],
      "text/plain": [
       "                                              Poster          Rank & Title  \\\n",
       "0  https://m.media-amazon.com/images/M/MV5BNmZkMT...       1. Anand (1971)   \n",
       "1  https://m.media-amazon.com/images/M/MV5BYmY3Mz...    2. Drishyam (2013)   \n",
       "2  https://m.media-amazon.com/images/M/MV5BZDhkMT...     3. Nayakan (1987)   \n",
       "3  https://m.media-amazon.com/images/M/MV5BNWQxY2...  4. Anbe Sivam (2003)   \n",
       "4  https://m.media-amazon.com/images/M/MV5BMjA4OT...    5. Gol Maal (1979)   \n",
       "\n",
       "  IMDb Rating Your Rating Watchlist  \n",
       "0         8.7                        \n",
       "1         8.6                        \n",
       "2         8.6                        \n",
       "3         8.5                        \n",
       "4         8.5                        "
      ]
     },
     "execution_count": 65,
     "metadata": {},
     "output_type": "execute_result"
    }
   ],
   "source": [
    "col_names = [th.text for th in th_tags]\n",
    "col_names[0] = 'Poster'\n",
    "col_names[-1] = 'Watchlist'\n",
    "imdb = pd.DataFrame(columns=col_names)\n",
    "tr_tags = table_tag.find_elements_by_css_selector('tbody > tr')\n",
    "\n",
    "for tr in tr_tags:\n",
    "    td_tags = tr.find_elements_by_css_selector('td')\n",
    "    td_data = [td.text for td in td_tags]\n",
    "\n",
    "    img_src = td_tags[0].find_element_by_css_selector('img')\n",
    "    img_src = img_src.get_attribute('src')\n",
    "    td_data[0] = img_src\n",
    "    \n",
    "    row_series = pd.Series(td_data, index=col_names)\n",
    "    imdb = imdb.append(row_series, ignore_index=True)\n",
    "imdb.head()"
   ]
  },
  {
   "cell_type": "code",
   "execution_count": 83,
   "metadata": {},
   "outputs": [
    {
     "name": "stdout",
     "output_type": "stream",
     "text": [
      "https://m.media-amazon.com/images/M/MV5BNmZkMTMzNmEtMWU5NC00MjEzLWE5MzktYzRlMmQyMzk0YmM1XkEyXkFqcGdeQXVyNTA4NzY1MzY@._V1_UX45_CR0,0,45,67_AL_.jpg movies_images/1. Anand (1971).jpg\n"
     ]
    },
    {
     "data": {
      "text/plain": [
       "('movies_images/1. Anand (1971).jpg', <http.client.HTTPMessage at 0x112bb50b8>)"
      ]
     },
     "execution_count": 83,
     "metadata": {},
     "output_type": "execute_result"
    }
   ],
   "source": [
    "import urllib\n",
    "import os\n",
    "img_url = imdb.loc[0, 'Poster']\n",
    "movie_name = imdb.loc[0, 'Rank & Title']\n",
    "img_extn = img_url[img_url.rfind('.'):]\n",
    "folder_name = 'movies_images'\n",
    "\n",
    "if not folder_name in glob.glob('*'):\n",
    "    os.makedirs(folder_name)\n",
    "\n",
    "img_name = folder_name + '/' + movie_name + img_extn\n",
    "    \n",
    "print(img_url, img_name)\n",
    "urllib.request.urlretrieve(img_url, img_name)"
   ]
  },
  {
   "cell_type": "code",
   "execution_count": 89,
   "metadata": {},
   "outputs": [],
   "source": [
    "folder_name = 'movies_images'\n",
    "if not folder_name in glob.glob('*'):\n",
    "    os.makedirs(folder_name)\n",
    "    \n",
    "for index, row in imdb.iterrows():\n",
    "    img_url = row['Poster']\n",
    "    movie_name = row['Rank & Title']\n",
    "    img_extn = img_url[img_url.rfind('.'):]\n",
    "    img_name = folder_name + '/' + movie_name + img_extn\n",
    "    urllib.request.urlretrieve(img_url, img_name)"
   ]
  },
  {
   "cell_type": "code",
   "execution_count": 90,
   "metadata": {},
   "outputs": [],
   "source": [
    "imdb.to_csv('/datasets/imdb_top250_indian_movies.csv', index=False)"
   ]
  },
  {
   "cell_type": "code",
   "execution_count": 77,
   "metadata": {},
   "outputs": [
    {
     "data": {
      "text/plain": [
       "'JPG'"
      ]
     },
     "execution_count": 77,
     "metadata": {},
     "output_type": "execute_result"
    }
   ],
   "source": [
    "x = 'abc.news.abc.JPG'\n",
    "x.split('.')[-1]"
   ]
  },
  {
   "cell_type": "markdown",
   "metadata": {},
   "source": [
    "## API"
   ]
  },
  {
   "cell_type": "code",
   "execution_count": 95,
   "metadata": {},
   "outputs": [],
   "source": [
    "import requests"
   ]
  },
  {
   "cell_type": "code",
   "execution_count": 113,
   "metadata": {},
   "outputs": [],
   "source": [
    "weather_api_key = '703aee13b24a4a7ea6683632191103'\n",
    "loc = 'Shimoga'\n",
    "url = 'http://api.apixu.com/v1/current.json?key=703aee13b24a4a7ea6683632191103&q=%s' % loc\n",
    "result = requests.get(url).json()"
   ]
  },
  {
   "cell_type": "code",
   "execution_count": 114,
   "metadata": {},
   "outputs": [
    {
     "data": {
      "text/plain": [
       "35.9"
      ]
     },
     "execution_count": 114,
     "metadata": {},
     "output_type": "execute_result"
    }
   ],
   "source": [
    "temp = result['current']['temp_c']\n",
    "temp"
   ]
  },
  {
   "cell_type": "code",
   "execution_count": 116,
   "metadata": {},
   "outputs": [],
   "source": [
    "cities = ['Chennai', 'Bangalore', 'Hyderabad', 'Pune',\n",
    "          'London', 'Coimbatore', 'Kashmir']"
   ]
  },
  {
   "cell_type": "code",
   "execution_count": 117,
   "metadata": {},
   "outputs": [],
   "source": [
    "df_weather = pd.DataFrame()\n",
    "for loc in cities:\n",
    "    url = 'http://api.apixu.com/v1/current.json?key=703aee13b24a4a7ea6683632191103&q=%s' % loc\n",
    "    result = requests.get(url).json()\n",
    "    curr_row = {\n",
    "        'Place': loc,\n",
    "        'Country': result['location']['country'],\n",
    "        'Temp_in_cel': result['current']['temp_c'],\n",
    "        'wind_in_kph': result['current']['wind_kph'],\n",
    "        'lat': result['location']['lat'],\n",
    "        'lon': result['location']['lon']\n",
    "    }\n",
    "    df_weather = df_weather.append(curr_row, ignore_index=True)"
   ]
  },
  {
   "cell_type": "code",
   "execution_count": 118,
   "metadata": {},
   "outputs": [
    {
     "data": {
      "text/html": [
       "<div>\n",
       "<style scoped>\n",
       "    .dataframe tbody tr th:only-of-type {\n",
       "        vertical-align: middle;\n",
       "    }\n",
       "\n",
       "    .dataframe tbody tr th {\n",
       "        vertical-align: top;\n",
       "    }\n",
       "\n",
       "    .dataframe thead th {\n",
       "        text-align: right;\n",
       "    }\n",
       "</style>\n",
       "<table border=\"1\" class=\"dataframe\">\n",
       "  <thead>\n",
       "    <tr style=\"text-align: right;\">\n",
       "      <th></th>\n",
       "      <th>Country</th>\n",
       "      <th>Place</th>\n",
       "      <th>Temp_in_cel</th>\n",
       "      <th>lat</th>\n",
       "      <th>lon</th>\n",
       "      <th>wind_in_kph</th>\n",
       "    </tr>\n",
       "  </thead>\n",
       "  <tbody>\n",
       "    <tr>\n",
       "      <th>0</th>\n",
       "      <td>India</td>\n",
       "      <td>Chennai</td>\n",
       "      <td>35.0</td>\n",
       "      <td>13.08</td>\n",
       "      <td>80.28</td>\n",
       "      <td>16.9</td>\n",
       "    </tr>\n",
       "    <tr>\n",
       "      <th>1</th>\n",
       "      <td>India</td>\n",
       "      <td>Bangalore</td>\n",
       "      <td>33.0</td>\n",
       "      <td>12.98</td>\n",
       "      <td>77.58</td>\n",
       "      <td>13.0</td>\n",
       "    </tr>\n",
       "    <tr>\n",
       "      <th>2</th>\n",
       "      <td>India</td>\n",
       "      <td>Hyderabad</td>\n",
       "      <td>38.0</td>\n",
       "      <td>17.38</td>\n",
       "      <td>78.47</td>\n",
       "      <td>15.1</td>\n",
       "    </tr>\n",
       "    <tr>\n",
       "      <th>3</th>\n",
       "      <td>India</td>\n",
       "      <td>Pune</td>\n",
       "      <td>31.7</td>\n",
       "      <td>18.53</td>\n",
       "      <td>73.87</td>\n",
       "      <td>11.9</td>\n",
       "    </tr>\n",
       "    <tr>\n",
       "      <th>4</th>\n",
       "      <td>United Kingdom</td>\n",
       "      <td>London</td>\n",
       "      <td>6.0</td>\n",
       "      <td>51.52</td>\n",
       "      <td>-0.11</td>\n",
       "      <td>25.9</td>\n",
       "    </tr>\n",
       "    <tr>\n",
       "      <th>5</th>\n",
       "      <td>India</td>\n",
       "      <td>Coimbatore</td>\n",
       "      <td>35.0</td>\n",
       "      <td>10.99</td>\n",
       "      <td>76.96</td>\n",
       "      <td>15.1</td>\n",
       "    </tr>\n",
       "    <tr>\n",
       "      <th>6</th>\n",
       "      <td>Pakistan</td>\n",
       "      <td>Kashmir</td>\n",
       "      <td>21.5</td>\n",
       "      <td>29.03</td>\n",
       "      <td>67.95</td>\n",
       "      <td>1.8</td>\n",
       "    </tr>\n",
       "  </tbody>\n",
       "</table>\n",
       "</div>"
      ],
      "text/plain": [
       "          Country       Place  Temp_in_cel    lat    lon  wind_in_kph\n",
       "0           India     Chennai         35.0  13.08  80.28         16.9\n",
       "1           India   Bangalore         33.0  12.98  77.58         13.0\n",
       "2           India   Hyderabad         38.0  17.38  78.47         15.1\n",
       "3           India        Pune         31.7  18.53  73.87         11.9\n",
       "4  United Kingdom      London          6.0  51.52  -0.11         25.9\n",
       "5           India  Coimbatore         35.0  10.99  76.96         15.1\n",
       "6        Pakistan     Kashmir         21.5  29.03  67.95          1.8"
      ]
     },
     "execution_count": 118,
     "metadata": {},
     "output_type": "execute_result"
    }
   ],
   "source": [
    "df_weather"
   ]
  },
  {
   "cell_type": "markdown",
   "metadata": {},
   "source": [
    "## Get resturants names in Bangalore"
   ]
  },
  {
   "cell_type": "code",
   "execution_count": 129,
   "metadata": {},
   "outputs": [],
   "source": [
    "key = \n",
    "keys = {'user-key': key}\n",
    "url = 'https://developers.zomato.com/api/v2.1/categories'\n",
    "categories = requests.get(url, headers=keys).json()"
   ]
  },
  {
   "cell_type": "code",
   "execution_count": 134,
   "metadata": {},
   "outputs": [
    {
     "data": {
      "text/html": [
       "<div>\n",
       "<style scoped>\n",
       "    .dataframe tbody tr th:only-of-type {\n",
       "        vertical-align: middle;\n",
       "    }\n",
       "\n",
       "    .dataframe tbody tr th {\n",
       "        vertical-align: top;\n",
       "    }\n",
       "\n",
       "    .dataframe thead th {\n",
       "        text-align: right;\n",
       "    }\n",
       "</style>\n",
       "<table border=\"1\" class=\"dataframe\">\n",
       "  <thead>\n",
       "    <tr style=\"text-align: right;\">\n",
       "      <th></th>\n",
       "      <th>id</th>\n",
       "      <th>name</th>\n",
       "    </tr>\n",
       "  </thead>\n",
       "  <tbody>\n",
       "    <tr>\n",
       "      <th>0</th>\n",
       "      <td>1.0</td>\n",
       "      <td>Delivery</td>\n",
       "    </tr>\n",
       "    <tr>\n",
       "      <th>1</th>\n",
       "      <td>2.0</td>\n",
       "      <td>Dine-out</td>\n",
       "    </tr>\n",
       "    <tr>\n",
       "      <th>2</th>\n",
       "      <td>3.0</td>\n",
       "      <td>Nightlife</td>\n",
       "    </tr>\n",
       "    <tr>\n",
       "      <th>3</th>\n",
       "      <td>4.0</td>\n",
       "      <td>Catching-up</td>\n",
       "    </tr>\n",
       "    <tr>\n",
       "      <th>4</th>\n",
       "      <td>5.0</td>\n",
       "      <td>Takeaway</td>\n",
       "    </tr>\n",
       "    <tr>\n",
       "      <th>5</th>\n",
       "      <td>6.0</td>\n",
       "      <td>Cafes</td>\n",
       "    </tr>\n",
       "    <tr>\n",
       "      <th>6</th>\n",
       "      <td>7.0</td>\n",
       "      <td>Daily Menus</td>\n",
       "    </tr>\n",
       "    <tr>\n",
       "      <th>7</th>\n",
       "      <td>8.0</td>\n",
       "      <td>Breakfast</td>\n",
       "    </tr>\n",
       "    <tr>\n",
       "      <th>8</th>\n",
       "      <td>9.0</td>\n",
       "      <td>Lunch</td>\n",
       "    </tr>\n",
       "    <tr>\n",
       "      <th>9</th>\n",
       "      <td>10.0</td>\n",
       "      <td>Dinner</td>\n",
       "    </tr>\n",
       "    <tr>\n",
       "      <th>10</th>\n",
       "      <td>11.0</td>\n",
       "      <td>Pubs &amp; Bars</td>\n",
       "    </tr>\n",
       "    <tr>\n",
       "      <th>11</th>\n",
       "      <td>13.0</td>\n",
       "      <td>Pocket Friendly Delivery</td>\n",
       "    </tr>\n",
       "    <tr>\n",
       "      <th>12</th>\n",
       "      <td>14.0</td>\n",
       "      <td>Clubs &amp; Lounges</td>\n",
       "    </tr>\n",
       "  </tbody>\n",
       "</table>\n",
       "</div>"
      ],
      "text/plain": [
       "      id                      name\n",
       "0    1.0                  Delivery\n",
       "1    2.0                  Dine-out\n",
       "2    3.0                 Nightlife\n",
       "3    4.0               Catching-up\n",
       "4    5.0                  Takeaway\n",
       "5    6.0                     Cafes\n",
       "6    7.0               Daily Menus\n",
       "7    8.0                 Breakfast\n",
       "8    9.0                     Lunch\n",
       "9   10.0                    Dinner\n",
       "10  11.0               Pubs & Bars\n",
       "11  13.0  Pocket Friendly Delivery\n",
       "12  14.0           Clubs & Lounges"
      ]
     },
     "execution_count": 134,
     "metadata": {},
     "output_type": "execute_result"
    }
   ],
   "source": [
    "df_category = pd.DataFrame()\n",
    "for category in categories['categories']:\n",
    "    df_category = df_category.append(\n",
    "        category['categories'], ignore_index=True\n",
    "    )\n",
    "df_category"
   ]
  }
 ],
 "metadata": {
  "kernelspec": {
   "display_name": "Python 3",
   "language": "python",
   "name": "python3"
  },
  "language_info": {
   "codemirror_mode": {
    "name": "ipython",
    "version": 3
   },
   "file_extension": ".py",
   "mimetype": "text/x-python",
   "name": "python",
   "nbconvert_exporter": "python",
   "pygments_lexer": "ipython3",
   "version": "3.6.5"
  }
 },
 "nbformat": 4,
 "nbformat_minor": 2
}
